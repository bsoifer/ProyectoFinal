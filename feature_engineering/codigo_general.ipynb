{
  "nbformat": 4,
  "nbformat_minor": 0,
  "metadata": {
    "colab": {
      "provenance": [],
      "toc_visible": true
    },
    "kernelspec": {
      "name": "python3",
      "display_name": "Python 3"
    },
    "language_info": {
      "name": "python"
    }
  },
  "cells": [
    {
      "cell_type": "markdown",
      "source": [
        "# Armado TIENDAS_CABA"
      ],
      "metadata": {
        "id": "sRyvarGhRJ3m"
      }
    },
    {
      "cell_type": "code",
      "execution_count": null,
      "metadata": {
        "id": "ZiTEEecIXjuf",
        "colab": {
          "base_uri": "https://localhost:8080/"
        },
        "outputId": "59a1b298-ac06-4834-b8af-b6f5ecdd0832"
      },
      "outputs": [
        {
          "output_type": "stream",
          "name": "stdout",
          "text": [
            "Mounted at /content/drive\n"
          ]
        }
      ],
      "source": [
        "from google.colab import drive\n",
        "import pandas as pd\n",
        "\n",
        "drive.mount('/content/drive')\n",
        "\n",
        "# Leer csv\n",
        "df_tiendas = pd.read_csv('/content/drive/MyDrive/customers_ar.csv')\n",
        "provincia = gpd.read_file('/content/drive/MyDrive/provincia.shp')"
      ]
    },
    {
      "cell_type": "code",
      "source": [
        "import geopandas as gpd\n",
        "import matplotlib.pyplot as plt\n",
        "provincia = gpd.read_file('/content/drive/MyDrive/provincia.shp')"
      ],
      "metadata": {
        "id": "C4WXtBumPK1r"
      },
      "execution_count": null,
      "outputs": []
    },
    {
      "cell_type": "code",
      "source": [
        "import geopandas as gpd\n",
        "from shapely.geometry import Point\n",
        "\n",
        "# 1. Filtrar las provincias de CABA\n",
        "prov_caba = provincia[provincia['nam'].isin(['Ciudad Autónoma de Buenos Aires'])]\n",
        "\n",
        "# 2. Convertir las tiendas a un GeoDataFrame usando lat y lon\n",
        "df_tiendas['geometry'] = df_tiendas.apply(lambda row: Point(row['lon'], row['lat']), axis=1)\n",
        "gdf_tiendas = gpd.GeoDataFrame(df_tiendas, geometry='geometry', crs=prov_caba.crs)\n",
        "\n",
        "# 3. Realizar un filtro espacial (join)\n",
        "tiendas_caba = gpd.sjoin(gdf_tiendas, prov_caba, how='inner', op='within')"
      ],
      "metadata": {
        "colab": {
          "base_uri": "https://localhost:8080/"
        },
        "id": "efkcoyZpJZc4",
        "outputId": "ba92217f-7be0-4f5c-dc0f-40dfa38cd918"
      },
      "execution_count": null,
      "outputs": [
        {
          "output_type": "stream",
          "name": "stderr",
          "text": [
            "/usr/local/lib/python3.10/dist-packages/IPython/core/interactiveshell.py:3473: FutureWarning: The `op` parameter is deprecated and will be removed in a future release. Please use the `predicate` parameter instead.\n",
            "  if (await self.run_code(code, result,  async_=asy)):\n"
          ]
        }
      ]
    },
    {
      "cell_type": "code",
      "source": [
        "# tiendas_caba tiene crs epsg=4326"
      ],
      "metadata": {
        "id": "Q_-5ElLiJmjj"
      },
      "execution_count": null,
      "outputs": []
    },
    {
      "cell_type": "markdown",
      "source": [
        "# Estaciones de servicio CABA"
      ],
      "metadata": {
        "id": "QZ3NTrqNKUng"
      }
    },
    {
      "cell_type": "code",
      "source": [
        "df_estaciones_servicio = pd.read_csv('/content/drive/MyDrive/estaciones_servicio_caba.csv')"
      ],
      "metadata": {
        "id": "tG0A1X6BRTZu"
      },
      "execution_count": null,
      "outputs": []
    },
    {
      "cell_type": "code",
      "source": [
        "df_estaciones_servicio.rename(columns={'long': 'lon'}, inplace=True)"
      ],
      "metadata": {
        "id": "Ec0ubvvkRiNd"
      },
      "execution_count": null,
      "outputs": []
    },
    {
      "cell_type": "code",
      "source": [
        "# Convertir estaciones de servicio a GeoDataFrame\n",
        "gdf_estaciones_servicio = gpd.GeoDataFrame(\n",
        "    df_estaciones_servicio,\n",
        "    geometry=gpd.points_from_xy(df_estaciones_servicio['lon'], df_estaciones_servicio['lat']),\n",
        "    crs='EPSG:4326'\n",
        ")"
      ],
      "metadata": {
        "id": "tzlDujdzSyZc"
      },
      "execution_count": null,
      "outputs": []
    },
    {
      "cell_type": "code",
      "source": [
        "# 2. Reproyectar a un CRS métrico para calcular distancias en metros\n",
        "tiendas_caba_metros = tiendas_caba.to_crs(epsg=3857)\n",
        "gdf_estaciones_servicio_metros = gdf_estaciones_servicio.to_crs(epsg=3857)\n",
        "\n",
        "# 3. Crear un buffer de 200 metros alrededor de cada tienda (aproximadamente dos cuadras)\n",
        "tiendas_caba_metros['buffer'] = tiendas_caba_metros.geometry.buffer(200)\n",
        "tiendas_caba_metros = tiendas_caba_metros.set_geometry('buffer')\n",
        "\n",
        "# 4. Hacer un spatial join para contar cuántas estaciones están dentro del buffer\n",
        "gdf_join = gpd.sjoin(gdf_estaciones_servicio_metros, tiendas_caba_metros[['geometry', 'buffer']], how='left', op='within')\n",
        "\n",
        "# 5. Contar cuántas estaciones caen dentro del buffer para cada tienda\n",
        "tiendas_caba['estaciones_servicio_200mts'] = gdf_join.groupby(gdf_join.index_right).size()\n",
        "\n",
        "# Reemplazar NaN por 0 en caso de que no haya estaciones en el buffer de alguna tienda\n",
        "tiendas_caba['estaciones_servicio_200mts'] = tiendas_caba['estaciones_servicio_200mts'].fillna(0)"
      ],
      "metadata": {
        "colab": {
          "base_uri": "https://localhost:8080/"
        },
        "id": "RXNM_OhLKBYV",
        "outputId": "0ec68887-3065-4908-95e1-4f66d225ae1a"
      },
      "execution_count": null,
      "outputs": [
        {
          "output_type": "stream",
          "name": "stderr",
          "text": [
            "/usr/local/lib/python3.10/dist-packages/IPython/core/interactiveshell.py:3473: FutureWarning: The `op` parameter is deprecated and will be removed in a future release. Please use the `predicate` parameter instead.\n",
            "  if (await self.run_code(code, result,  async_=asy)):\n"
          ]
        }
      ]
    },
    {
      "cell_type": "code",
      "source": [
        "tiendas_caba[\"estaciones_servicio_200mts\"].mean()"
      ],
      "metadata": {
        "colab": {
          "base_uri": "https://localhost:8080/"
        },
        "id": "Q_Ria697Jzn4",
        "outputId": "5c83a153-8c26-4d12-d83a-f372a49a179d"
      },
      "execution_count": null,
      "outputs": [
        {
          "output_type": "execute_result",
          "data": {
            "text/plain": [
              "0.13037664363717405"
            ]
          },
          "metadata": {},
          "execution_count": 9
        }
      ]
    },
    {
      "cell_type": "code",
      "source": [
        "#1000 metros\n",
        "\n",
        "# 2. Reproyectar a un CRS métrico para calcular distancias en metros\n",
        "tiendas_caba_metros = tiendas_caba.to_crs(epsg=3857)\n",
        "\n",
        "# 3. Crear un buffer de 1000 metros alrededor de cada tienda (aproximadamente diez cuadras)\n",
        "tiendas_caba_metros['buffer'] = tiendas_caba_metros.geometry.buffer(1000)\n",
        "tiendas_caba_metros = tiendas_caba_metros.set_geometry('buffer')\n",
        "\n",
        "# 4. Hacer un spatial join para contar cuántas estaciones están dentro del buffer\n",
        "gdf_join = gpd.sjoin(gdf_estaciones_servicio_metros, tiendas_caba_metros[['geometry', 'buffer']], how='left', op='within')\n",
        "\n",
        "# 5. Contar cuántas estaciones caen dentro del buffer para cada tienda\n",
        "tiendas_caba['estaciones_servicio_1000mts'] = gdf_join.groupby(gdf_join.index_right).size()\n",
        "\n",
        "# Reemplazar NaN por 0 en caso de que no haya estaciones en el buffer de alguna tienda\n",
        "tiendas_caba['estaciones_servicio_1000mts'] = tiendas_caba['estaciones_servicio_1000mts'].fillna(0)"
      ],
      "metadata": {
        "colab": {
          "base_uri": "https://localhost:8080/"
        },
        "id": "StzZ6boxMy44",
        "outputId": "8bfe856b-4d99-4cdb-d65e-401dfb5eec39"
      },
      "execution_count": null,
      "outputs": [
        {
          "output_type": "stream",
          "name": "stderr",
          "text": [
            "/usr/local/lib/python3.10/dist-packages/IPython/core/interactiveshell.py:3473: FutureWarning: The `op` parameter is deprecated and will be removed in a future release. Please use the `predicate` parameter instead.\n",
            "  if (await self.run_code(code, result,  async_=asy)):\n"
          ]
        }
      ]
    },
    {
      "cell_type": "code",
      "source": [
        "tiendas_caba[\"estaciones_servicio_1000mts\"].mean()"
      ],
      "metadata": {
        "colab": {
          "base_uri": "https://localhost:8080/"
        },
        "id": "K4xu1crhM3tO",
        "outputId": "0bc82985-51e3-4d0f-a4b1-366adb8dea08"
      },
      "execution_count": null,
      "outputs": [
        {
          "output_type": "execute_result",
          "data": {
            "text/plain": [
              "2.8477824827278804"
            ]
          },
          "metadata": {},
          "execution_count": 11
        }
      ]
    },
    {
      "cell_type": "code",
      "source": [
        "# GeoDataFrames en el mismo CRS (usando EPSG:4326)\n",
        "prov_caba = prov_caba.to_crs(epsg=4326)\n",
        "\n",
        "# Crear la figura y el axis para el mapa\n",
        "fig, ax = plt.subplots(figsize=(10, 10))\n",
        "\n",
        "prov_caba.plot(ax=ax, color='lightgrey', edgecolor='black', alpha=0.3, label='CABA')\n",
        "\n",
        "# Graficar las tiendas con puntos azules\n",
        "tiendas_caba.plot(ax=ax, marker='o', color='lightblue', markersize=10, label='Tiendas')\n",
        "\n",
        "# Graficar las estaciones de servicio con puntos rojos\n",
        "gdf_estaciones_servicio.plot(ax=ax, marker='o', color='red', markersize=10, label='Estaciones de Servicio')\n",
        "\n",
        "# Añadir título y leyenda\n",
        "plt.title('Tiendas y Estaciones de Servicio en CABA')\n",
        "plt.legend()\n",
        "\n",
        "# Mostrar el gráfico\n",
        "plt.show()"
      ],
      "metadata": {
        "id": "AlJHTZ3qKOKY"
      },
      "execution_count": null,
      "outputs": []
    },
    {
      "cell_type": "markdown",
      "source": [
        "# Subtes"
      ],
      "metadata": {
        "id": "slzSN_1MMOsf"
      }
    },
    {
      "cell_type": "code",
      "source": [
        "df_subtes = pd.read_csv('/content/drive/MyDrive/estaciones-de-subte.csv')\n",
        "df_subtes.rename(columns={'long': 'lon'}, inplace=True)\n",
        "# Convertir estaciones de servicio a GeoDataFrame\n",
        "gdf_subtes = gpd.GeoDataFrame(\n",
        "    df_subtes,\n",
        "    geometry=gpd.points_from_xy(df_subtes['lon'], df_subtes['lat']),\n",
        "    crs='EPSG:4326'\n",
        ")"
      ],
      "metadata": {
        "id": "75E03rV7XK7A"
      },
      "execution_count": null,
      "outputs": []
    },
    {
      "cell_type": "code",
      "source": [
        "# 2. Reproyectar a un CRS métrico para calcular distancias en metros\n",
        "tiendas_caba_metros = tiendas_caba.to_crs(epsg=3857)\n",
        "gdf_subtes_metros = gdf_subtes.to_crs(epsg=3857)\n",
        "\n",
        "# 3. Crear un buffer de 200 metros alrededor de cada tienda (aproximadamente dos cuadras)\n",
        "tiendas_caba_metros['buffer'] = tiendas_caba_metros.geometry.buffer(200)\n",
        "tiendas_caba_metros = tiendas_caba_metros.set_geometry('buffer')\n",
        "\n",
        "# 4. Hacer un spatial join para contar cuántas estaciones están dentro del buffer\n",
        "gdf_join = gpd.sjoin(gdf_subtes_metros, tiendas_caba_metros[['geometry', 'buffer']], how='left', op='within')\n",
        "\n",
        "# 5. Contar cuántas estaciones caen dentro del buffer para cada tienda\n",
        "tiendas_caba['subtes_200mts'] = gdf_join.groupby(gdf_join.index_right).size()\n",
        "\n",
        "# Reemplazar NaN por 0 en caso de que no haya estaciones en el buffer de alguna tienda\n",
        "tiendas_caba['subtes_200mts'] = tiendas_caba['subtes_200mts'].fillna(0)"
      ],
      "metadata": {
        "colab": {
          "base_uri": "https://localhost:8080/"
        },
        "id": "zUdqwAabLczp",
        "outputId": "49b3e830-9b6b-4d11-8571-5f4252689127"
      },
      "execution_count": null,
      "outputs": [
        {
          "output_type": "stream",
          "name": "stderr",
          "text": [
            "/usr/local/lib/python3.10/dist-packages/IPython/core/interactiveshell.py:3473: FutureWarning: The `op` parameter is deprecated and will be removed in a future release. Please use the `predicate` parameter instead.\n",
            "  if (await self.run_code(code, result,  async_=asy)):\n"
          ]
        }
      ]
    },
    {
      "cell_type": "code",
      "source": [
        "tiendas_caba[\"subtes_200mts\"].mean()"
      ],
      "metadata": {
        "colab": {
          "base_uri": "https://localhost:8080/"
        },
        "id": "PsQEjsaAZOsy",
        "outputId": "8af9d3df-ef9f-4dc9-dbb3-6cad1cc2fffd"
      },
      "execution_count": null,
      "outputs": [
        {
          "output_type": "execute_result",
          "data": {
            "text/plain": [
              "0.10519277913973701"
            ]
          },
          "metadata": {},
          "execution_count": 15
        }
      ]
    },
    {
      "cell_type": "code",
      "source": [
        "# 2. Reproyectar a un CRS métrico para calcular distancias en metros\n",
        "tiendas_caba_metros = tiendas_caba.to_crs(epsg=3857)\n",
        "gdf_subtes_metros = gdf_subtes.to_crs(epsg=3857)\n",
        "\n",
        "# 3. Crear un buffer de 200 metros alrededor de cada tienda (aproximadamente dos cuadras)\n",
        "tiendas_caba_metros['buffer'] = tiendas_caba_metros.geometry.buffer(1000)\n",
        "tiendas_caba_metros = tiendas_caba_metros.set_geometry('buffer')\n",
        "\n",
        "# 4. Hacer un spatial join para contar cuántas estaciones están dentro del buffer\n",
        "gdf_join = gpd.sjoin(gdf_subtes_metros, tiendas_caba_metros[['geometry', 'buffer']], how='left', op='within')\n",
        "\n",
        "# 5. Contar cuántas estaciones caen dentro del buffer para cada tienda\n",
        "tiendas_caba['subtes_1000mts'] = gdf_join.groupby(gdf_join.index_right).size()\n",
        "\n",
        "# Reemplazar NaN por 0 en caso de que no haya estaciones en el buffer de alguna tienda\n",
        "tiendas_caba['subtes_1000mts'] = tiendas_caba['subtes_1000mts'].fillna(0)"
      ],
      "metadata": {
        "colab": {
          "base_uri": "https://localhost:8080/"
        },
        "id": "YT4vqhdoMn7w",
        "outputId": "265a79ef-3b2b-4db5-9a6b-74578e3917e6"
      },
      "execution_count": null,
      "outputs": [
        {
          "output_type": "stream",
          "name": "stderr",
          "text": [
            "/usr/local/lib/python3.10/dist-packages/IPython/core/interactiveshell.py:3473: FutureWarning: The `op` parameter is deprecated and will be removed in a future release. Please use the `predicate` parameter instead.\n",
            "  if (await self.run_code(code, result,  async_=asy)):\n"
          ]
        }
      ]
    },
    {
      "cell_type": "code",
      "source": [
        "tiendas_caba[\"subtes_1000mts\"].mean()"
      ],
      "metadata": {
        "colab": {
          "base_uri": "https://localhost:8080/"
        },
        "id": "KYzLSOvOMv50",
        "outputId": "a1d2ed6f-0c92-4931-8f09-7f0b44851ec8"
      },
      "execution_count": null,
      "outputs": [
        {
          "output_type": "execute_result",
          "data": {
            "text/plain": [
              "2.006685981724983"
            ]
          },
          "metadata": {},
          "execution_count": 17
        }
      ]
    },
    {
      "cell_type": "code",
      "source": [
        "prov_caba = prov_caba.to_crs(epsg=4326)\n",
        "\n",
        "# Crear la figura y el axis para el mapa\n",
        "fig, ax = plt.subplots(figsize=(10, 10))\n",
        "\n",
        "prov_caba.plot(ax=ax, color='lightgrey', edgecolor='black', alpha=0.5, label='CABA y Buenos Aires')\n",
        "tiendas_caba.plot(ax=ax, marker='o', color='lightblue', markersize=10, label='Tiendas')\n",
        "gdf_subtes.plot(ax=ax, marker='o', color='red', markersize=10, label='Subtes')\n",
        "\n",
        "plt.title('Tiendas y Subtes en CABA')\n",
        "plt.legend()\n",
        "plt.show()"
      ],
      "metadata": {
        "id": "r0KDAwZXLiNK"
      },
      "execution_count": null,
      "outputs": []
    },
    {
      "cell_type": "markdown",
      "source": [
        "# Radio Censal"
      ],
      "metadata": {
        "id": "-AqfL-oCMvic"
      }
    },
    {
      "cell_type": "code",
      "source": [
        "df_radio_censal = pd.read_csv('/content/drive/MyDrive/informacion-censal-por-radio-2010.csv')\n"
      ],
      "metadata": {
        "id": "Qxv8UJbKNfhp"
      },
      "execution_count": null,
      "outputs": []
    },
    {
      "cell_type": "code",
      "source": [
        "import geopandas as gpd\n",
        "from shapely import wkt\n",
        "# Convertir la columna 'WKT' en geometrías\n",
        "df_radio_censal['geometry'] = df_radio_censal['WKT'].apply(wkt.loads)\n",
        "\n",
        "# Crear el GeoDataFrame, especificando el sistema de coordenadas (CRS)\n",
        "gdf_radio_censal = gpd.GeoDataFrame(df_radio_censal, geometry='geometry')\n",
        "\n",
        "# Asignar el CRS (suponiendo que las coordenadas estén en EPSG:4326 - WGS84)\n",
        "gdf_radio_censal.set_crs(epsg=4326, inplace=True)"
      ],
      "metadata": {
        "id": "xT8SkPsZN_Jf",
        "colab": {
          "base_uri": "https://localhost:8080/",
          "height": 964
        },
        "outputId": "2804990c-d016-487b-f03c-06a75249f1ee"
      },
      "execution_count": null,
      "outputs": [
        {
          "output_type": "execute_result",
          "data": {
            "text/plain": [
              "                                                    WKT    ID CO_FRAC_RA  \\\n",
              "0     MULTIPOLYGON (((-58.372489764082 -34.591546570...     1      1_1_1   \n",
              "1     MULTIPOLYGON (((-58.3865223305709 -34.60399309...     2     1_12_1   \n",
              "2     MULTIPOLYGON (((-58.3793832787935 -34.60483817...     3    1_12_10   \n",
              "3     MULTIPOLYGON (((-58.3679211414675 -34.60517426...     4    1_12_11   \n",
              "4     MULTIPOLYGON (((-58.3851326494337 -34.60391158...     5     1_12_2   \n",
              "...                                                 ...   ...        ...   \n",
              "3549  MULTIPOLYGON (((-58.3821175493669 -34.58429918...  3550     1_3_12   \n",
              "3550  MULTIPOLYGON (((-58.3811903214861 -34.58482573...  3551     1_3_11   \n",
              "3551  MULTIPOLYGON (((-58.3808613781611 -34.58431132...  3552     1_3_10   \n",
              "3552  MULTIPOLYGON (((-58.4353204006853 -34.64905180...  3553    7_18_11   \n",
              "3553  MULTIPOLYGON (((-58.4305172832411 -34.64981009...  3554     7_18_9   \n",
              "\n",
              "      COMUNA  FRACCION  RADIO  TOTAL_POB  T_VARON  T_MUJER  T_VIVIENDA  \\\n",
              "0          1         1      1        336      212      124          82   \n",
              "1          1        12      1        341      184      157         365   \n",
              "2          1        12     10        296      162      134         629   \n",
              "3          1        12     11        528      294      234         375   \n",
              "4          1        12      2        229      101      128         445   \n",
              "...      ...       ...    ...        ...      ...      ...         ...   \n",
              "3549       1         3     12        561      269      292         170   \n",
              "3550       1         3     11        745      377      368         223   \n",
              "3551       1         3     10        745      367      378         261   \n",
              "3552       7        18     11       1325      685      640         223   \n",
              "3553       7        18      9       1203      594      609         274   \n",
              "\n",
              "      V_PARTICUL  V_COLECTIV  T_HOGAR  H_CON_NBI  H_SIN_NBI  \\\n",
              "0             80           2       65         19         46   \n",
              "1            361           4      116         25         91   \n",
              "2            627           2      101          1        100   \n",
              "3            370           5      136          7        129   \n",
              "4            445           0      129         16        113   \n",
              "...          ...         ...      ...        ...        ...   \n",
              "3549         170           0      181         70        111   \n",
              "3550         223           0      267         95        172   \n",
              "3551         261           0      261         86        175   \n",
              "3552         223           0      403        143        260   \n",
              "3553         274           0      377        160        217   \n",
              "\n",
              "                                               geometry  \n",
              "0     MULTIPOLYGON (((-58.37249 -34.59155, -58.37261...  \n",
              "1     MULTIPOLYGON (((-58.38652 -34.60399, -58.38634...  \n",
              "2     MULTIPOLYGON (((-58.37938 -34.60484, -58.37801...  \n",
              "3     MULTIPOLYGON (((-58.36792 -34.60517, -58.36772...  \n",
              "4     MULTIPOLYGON (((-58.38513 -34.60391, -58.38371...  \n",
              "...                                                 ...  \n",
              "3549  MULTIPOLYGON (((-58.38212 -34.58430, -58.38125...  \n",
              "3550  MULTIPOLYGON (((-58.38119 -34.58483, -58.38002...  \n",
              "3551  MULTIPOLYGON (((-58.38086 -34.58431, -58.38047...  \n",
              "3552  MULTIPOLYGON (((-58.43532 -34.64905, -58.43496...  \n",
              "3553  MULTIPOLYGON (((-58.43052 -34.64981, -58.43043...  \n",
              "\n",
              "[3554 rows x 16 columns]"
            ],
            "text/html": [
              "\n",
              "  <div id=\"df-123170a9-9196-4f9c-806e-627d63794a9f\" class=\"colab-df-container\">\n",
              "    <div>\n",
              "<style scoped>\n",
              "    .dataframe tbody tr th:only-of-type {\n",
              "        vertical-align: middle;\n",
              "    }\n",
              "\n",
              "    .dataframe tbody tr th {\n",
              "        vertical-align: top;\n",
              "    }\n",
              "\n",
              "    .dataframe thead th {\n",
              "        text-align: right;\n",
              "    }\n",
              "</style>\n",
              "<table border=\"1\" class=\"dataframe\">\n",
              "  <thead>\n",
              "    <tr style=\"text-align: right;\">\n",
              "      <th></th>\n",
              "      <th>WKT</th>\n",
              "      <th>ID</th>\n",
              "      <th>CO_FRAC_RA</th>\n",
              "      <th>COMUNA</th>\n",
              "      <th>FRACCION</th>\n",
              "      <th>RADIO</th>\n",
              "      <th>TOTAL_POB</th>\n",
              "      <th>T_VARON</th>\n",
              "      <th>T_MUJER</th>\n",
              "      <th>T_VIVIENDA</th>\n",
              "      <th>V_PARTICUL</th>\n",
              "      <th>V_COLECTIV</th>\n",
              "      <th>T_HOGAR</th>\n",
              "      <th>H_CON_NBI</th>\n",
              "      <th>H_SIN_NBI</th>\n",
              "      <th>geometry</th>\n",
              "    </tr>\n",
              "  </thead>\n",
              "  <tbody>\n",
              "    <tr>\n",
              "      <th>0</th>\n",
              "      <td>MULTIPOLYGON (((-58.372489764082 -34.591546570...</td>\n",
              "      <td>1</td>\n",
              "      <td>1_1_1</td>\n",
              "      <td>1</td>\n",
              "      <td>1</td>\n",
              "      <td>1</td>\n",
              "      <td>336</td>\n",
              "      <td>212</td>\n",
              "      <td>124</td>\n",
              "      <td>82</td>\n",
              "      <td>80</td>\n",
              "      <td>2</td>\n",
              "      <td>65</td>\n",
              "      <td>19</td>\n",
              "      <td>46</td>\n",
              "      <td>MULTIPOLYGON (((-58.37249 -34.59155, -58.37261...</td>\n",
              "    </tr>\n",
              "    <tr>\n",
              "      <th>1</th>\n",
              "      <td>MULTIPOLYGON (((-58.3865223305709 -34.60399309...</td>\n",
              "      <td>2</td>\n",
              "      <td>1_12_1</td>\n",
              "      <td>1</td>\n",
              "      <td>12</td>\n",
              "      <td>1</td>\n",
              "      <td>341</td>\n",
              "      <td>184</td>\n",
              "      <td>157</td>\n",
              "      <td>365</td>\n",
              "      <td>361</td>\n",
              "      <td>4</td>\n",
              "      <td>116</td>\n",
              "      <td>25</td>\n",
              "      <td>91</td>\n",
              "      <td>MULTIPOLYGON (((-58.38652 -34.60399, -58.38634...</td>\n",
              "    </tr>\n",
              "    <tr>\n",
              "      <th>2</th>\n",
              "      <td>MULTIPOLYGON (((-58.3793832787935 -34.60483817...</td>\n",
              "      <td>3</td>\n",
              "      <td>1_12_10</td>\n",
              "      <td>1</td>\n",
              "      <td>12</td>\n",
              "      <td>10</td>\n",
              "      <td>296</td>\n",
              "      <td>162</td>\n",
              "      <td>134</td>\n",
              "      <td>629</td>\n",
              "      <td>627</td>\n",
              "      <td>2</td>\n",
              "      <td>101</td>\n",
              "      <td>1</td>\n",
              "      <td>100</td>\n",
              "      <td>MULTIPOLYGON (((-58.37938 -34.60484, -58.37801...</td>\n",
              "    </tr>\n",
              "    <tr>\n",
              "      <th>3</th>\n",
              "      <td>MULTIPOLYGON (((-58.3679211414675 -34.60517426...</td>\n",
              "      <td>4</td>\n",
              "      <td>1_12_11</td>\n",
              "      <td>1</td>\n",
              "      <td>12</td>\n",
              "      <td>11</td>\n",
              "      <td>528</td>\n",
              "      <td>294</td>\n",
              "      <td>234</td>\n",
              "      <td>375</td>\n",
              "      <td>370</td>\n",
              "      <td>5</td>\n",
              "      <td>136</td>\n",
              "      <td>7</td>\n",
              "      <td>129</td>\n",
              "      <td>MULTIPOLYGON (((-58.36792 -34.60517, -58.36772...</td>\n",
              "    </tr>\n",
              "    <tr>\n",
              "      <th>4</th>\n",
              "      <td>MULTIPOLYGON (((-58.3851326494337 -34.60391158...</td>\n",
              "      <td>5</td>\n",
              "      <td>1_12_2</td>\n",
              "      <td>1</td>\n",
              "      <td>12</td>\n",
              "      <td>2</td>\n",
              "      <td>229</td>\n",
              "      <td>101</td>\n",
              "      <td>128</td>\n",
              "      <td>445</td>\n",
              "      <td>445</td>\n",
              "      <td>0</td>\n",
              "      <td>129</td>\n",
              "      <td>16</td>\n",
              "      <td>113</td>\n",
              "      <td>MULTIPOLYGON (((-58.38513 -34.60391, -58.38371...</td>\n",
              "    </tr>\n",
              "    <tr>\n",
              "      <th>...</th>\n",
              "      <td>...</td>\n",
              "      <td>...</td>\n",
              "      <td>...</td>\n",
              "      <td>...</td>\n",
              "      <td>...</td>\n",
              "      <td>...</td>\n",
              "      <td>...</td>\n",
              "      <td>...</td>\n",
              "      <td>...</td>\n",
              "      <td>...</td>\n",
              "      <td>...</td>\n",
              "      <td>...</td>\n",
              "      <td>...</td>\n",
              "      <td>...</td>\n",
              "      <td>...</td>\n",
              "      <td>...</td>\n",
              "    </tr>\n",
              "    <tr>\n",
              "      <th>3549</th>\n",
              "      <td>MULTIPOLYGON (((-58.3821175493669 -34.58429918...</td>\n",
              "      <td>3550</td>\n",
              "      <td>1_3_12</td>\n",
              "      <td>1</td>\n",
              "      <td>3</td>\n",
              "      <td>12</td>\n",
              "      <td>561</td>\n",
              "      <td>269</td>\n",
              "      <td>292</td>\n",
              "      <td>170</td>\n",
              "      <td>170</td>\n",
              "      <td>0</td>\n",
              "      <td>181</td>\n",
              "      <td>70</td>\n",
              "      <td>111</td>\n",
              "      <td>MULTIPOLYGON (((-58.38212 -34.58430, -58.38125...</td>\n",
              "    </tr>\n",
              "    <tr>\n",
              "      <th>3550</th>\n",
              "      <td>MULTIPOLYGON (((-58.3811903214861 -34.58482573...</td>\n",
              "      <td>3551</td>\n",
              "      <td>1_3_11</td>\n",
              "      <td>1</td>\n",
              "      <td>3</td>\n",
              "      <td>11</td>\n",
              "      <td>745</td>\n",
              "      <td>377</td>\n",
              "      <td>368</td>\n",
              "      <td>223</td>\n",
              "      <td>223</td>\n",
              "      <td>0</td>\n",
              "      <td>267</td>\n",
              "      <td>95</td>\n",
              "      <td>172</td>\n",
              "      <td>MULTIPOLYGON (((-58.38119 -34.58483, -58.38002...</td>\n",
              "    </tr>\n",
              "    <tr>\n",
              "      <th>3551</th>\n",
              "      <td>MULTIPOLYGON (((-58.3808613781611 -34.58431132...</td>\n",
              "      <td>3552</td>\n",
              "      <td>1_3_10</td>\n",
              "      <td>1</td>\n",
              "      <td>3</td>\n",
              "      <td>10</td>\n",
              "      <td>745</td>\n",
              "      <td>367</td>\n",
              "      <td>378</td>\n",
              "      <td>261</td>\n",
              "      <td>261</td>\n",
              "      <td>0</td>\n",
              "      <td>261</td>\n",
              "      <td>86</td>\n",
              "      <td>175</td>\n",
              "      <td>MULTIPOLYGON (((-58.38086 -34.58431, -58.38047...</td>\n",
              "    </tr>\n",
              "    <tr>\n",
              "      <th>3552</th>\n",
              "      <td>MULTIPOLYGON (((-58.4353204006853 -34.64905180...</td>\n",
              "      <td>3553</td>\n",
              "      <td>7_18_11</td>\n",
              "      <td>7</td>\n",
              "      <td>18</td>\n",
              "      <td>11</td>\n",
              "      <td>1325</td>\n",
              "      <td>685</td>\n",
              "      <td>640</td>\n",
              "      <td>223</td>\n",
              "      <td>223</td>\n",
              "      <td>0</td>\n",
              "      <td>403</td>\n",
              "      <td>143</td>\n",
              "      <td>260</td>\n",
              "      <td>MULTIPOLYGON (((-58.43532 -34.64905, -58.43496...</td>\n",
              "    </tr>\n",
              "    <tr>\n",
              "      <th>3553</th>\n",
              "      <td>MULTIPOLYGON (((-58.4305172832411 -34.64981009...</td>\n",
              "      <td>3554</td>\n",
              "      <td>7_18_9</td>\n",
              "      <td>7</td>\n",
              "      <td>18</td>\n",
              "      <td>9</td>\n",
              "      <td>1203</td>\n",
              "      <td>594</td>\n",
              "      <td>609</td>\n",
              "      <td>274</td>\n",
              "      <td>274</td>\n",
              "      <td>0</td>\n",
              "      <td>377</td>\n",
              "      <td>160</td>\n",
              "      <td>217</td>\n",
              "      <td>MULTIPOLYGON (((-58.43052 -34.64981, -58.43043...</td>\n",
              "    </tr>\n",
              "  </tbody>\n",
              "</table>\n",
              "<p>3554 rows × 16 columns</p>\n",
              "</div>\n",
              "    <div class=\"colab-df-buttons\">\n",
              "\n",
              "  <div class=\"colab-df-container\">\n",
              "    <button class=\"colab-df-convert\" onclick=\"convertToInteractive('df-123170a9-9196-4f9c-806e-627d63794a9f')\"\n",
              "            title=\"Convert this dataframe to an interactive table.\"\n",
              "            style=\"display:none;\">\n",
              "\n",
              "  <svg xmlns=\"http://www.w3.org/2000/svg\" height=\"24px\" viewBox=\"0 -960 960 960\">\n",
              "    <path d=\"M120-120v-720h720v720H120Zm60-500h600v-160H180v160Zm220 220h160v-160H400v160Zm0 220h160v-160H400v160ZM180-400h160v-160H180v160Zm440 0h160v-160H620v160ZM180-180h160v-160H180v160Zm440 0h160v-160H620v160Z\"/>\n",
              "  </svg>\n",
              "    </button>\n",
              "\n",
              "  <style>\n",
              "    .colab-df-container {\n",
              "      display:flex;\n",
              "      gap: 12px;\n",
              "    }\n",
              "\n",
              "    .colab-df-convert {\n",
              "      background-color: #E8F0FE;\n",
              "      border: none;\n",
              "      border-radius: 50%;\n",
              "      cursor: pointer;\n",
              "      display: none;\n",
              "      fill: #1967D2;\n",
              "      height: 32px;\n",
              "      padding: 0 0 0 0;\n",
              "      width: 32px;\n",
              "    }\n",
              "\n",
              "    .colab-df-convert:hover {\n",
              "      background-color: #E2EBFA;\n",
              "      box-shadow: 0px 1px 2px rgba(60, 64, 67, 0.3), 0px 1px 3px 1px rgba(60, 64, 67, 0.15);\n",
              "      fill: #174EA6;\n",
              "    }\n",
              "\n",
              "    .colab-df-buttons div {\n",
              "      margin-bottom: 4px;\n",
              "    }\n",
              "\n",
              "    [theme=dark] .colab-df-convert {\n",
              "      background-color: #3B4455;\n",
              "      fill: #D2E3FC;\n",
              "    }\n",
              "\n",
              "    [theme=dark] .colab-df-convert:hover {\n",
              "      background-color: #434B5C;\n",
              "      box-shadow: 0px 1px 3px 1px rgba(0, 0, 0, 0.15);\n",
              "      filter: drop-shadow(0px 1px 2px rgba(0, 0, 0, 0.3));\n",
              "      fill: #FFFFFF;\n",
              "    }\n",
              "  </style>\n",
              "\n",
              "    <script>\n",
              "      const buttonEl =\n",
              "        document.querySelector('#df-123170a9-9196-4f9c-806e-627d63794a9f button.colab-df-convert');\n",
              "      buttonEl.style.display =\n",
              "        google.colab.kernel.accessAllowed ? 'block' : 'none';\n",
              "\n",
              "      async function convertToInteractive(key) {\n",
              "        const element = document.querySelector('#df-123170a9-9196-4f9c-806e-627d63794a9f');\n",
              "        const dataTable =\n",
              "          await google.colab.kernel.invokeFunction('convertToInteractive',\n",
              "                                                    [key], {});\n",
              "        if (!dataTable) return;\n",
              "\n",
              "        const docLinkHtml = 'Like what you see? Visit the ' +\n",
              "          '<a target=\"_blank\" href=https://colab.research.google.com/notebooks/data_table.ipynb>data table notebook</a>'\n",
              "          + ' to learn more about interactive tables.';\n",
              "        element.innerHTML = '';\n",
              "        dataTable['output_type'] = 'display_data';\n",
              "        await google.colab.output.renderOutput(dataTable, element);\n",
              "        const docLink = document.createElement('div');\n",
              "        docLink.innerHTML = docLinkHtml;\n",
              "        element.appendChild(docLink);\n",
              "      }\n",
              "    </script>\n",
              "  </div>\n",
              "\n",
              "\n",
              "<div id=\"df-4c01c543-f409-4b42-baa5-ae4b892f50c0\">\n",
              "  <button class=\"colab-df-quickchart\" onclick=\"quickchart('df-4c01c543-f409-4b42-baa5-ae4b892f50c0')\"\n",
              "            title=\"Suggest charts\"\n",
              "            style=\"display:none;\">\n",
              "\n",
              "<svg xmlns=\"http://www.w3.org/2000/svg\" height=\"24px\"viewBox=\"0 0 24 24\"\n",
              "     width=\"24px\">\n",
              "    <g>\n",
              "        <path d=\"M19 3H5c-1.1 0-2 .9-2 2v14c0 1.1.9 2 2 2h14c1.1 0 2-.9 2-2V5c0-1.1-.9-2-2-2zM9 17H7v-7h2v7zm4 0h-2V7h2v10zm4 0h-2v-4h2v4z\"/>\n",
              "    </g>\n",
              "</svg>\n",
              "  </button>\n",
              "\n",
              "<style>\n",
              "  .colab-df-quickchart {\n",
              "      --bg-color: #E8F0FE;\n",
              "      --fill-color: #1967D2;\n",
              "      --hover-bg-color: #E2EBFA;\n",
              "      --hover-fill-color: #174EA6;\n",
              "      --disabled-fill-color: #AAA;\n",
              "      --disabled-bg-color: #DDD;\n",
              "  }\n",
              "\n",
              "  [theme=dark] .colab-df-quickchart {\n",
              "      --bg-color: #3B4455;\n",
              "      --fill-color: #D2E3FC;\n",
              "      --hover-bg-color: #434B5C;\n",
              "      --hover-fill-color: #FFFFFF;\n",
              "      --disabled-bg-color: #3B4455;\n",
              "      --disabled-fill-color: #666;\n",
              "  }\n",
              "\n",
              "  .colab-df-quickchart {\n",
              "    background-color: var(--bg-color);\n",
              "    border: none;\n",
              "    border-radius: 50%;\n",
              "    cursor: pointer;\n",
              "    display: none;\n",
              "    fill: var(--fill-color);\n",
              "    height: 32px;\n",
              "    padding: 0;\n",
              "    width: 32px;\n",
              "  }\n",
              "\n",
              "  .colab-df-quickchart:hover {\n",
              "    background-color: var(--hover-bg-color);\n",
              "    box-shadow: 0 1px 2px rgba(60, 64, 67, 0.3), 0 1px 3px 1px rgba(60, 64, 67, 0.15);\n",
              "    fill: var(--button-hover-fill-color);\n",
              "  }\n",
              "\n",
              "  .colab-df-quickchart-complete:disabled,\n",
              "  .colab-df-quickchart-complete:disabled:hover {\n",
              "    background-color: var(--disabled-bg-color);\n",
              "    fill: var(--disabled-fill-color);\n",
              "    box-shadow: none;\n",
              "  }\n",
              "\n",
              "  .colab-df-spinner {\n",
              "    border: 2px solid var(--fill-color);\n",
              "    border-color: transparent;\n",
              "    border-bottom-color: var(--fill-color);\n",
              "    animation:\n",
              "      spin 1s steps(1) infinite;\n",
              "  }\n",
              "\n",
              "  @keyframes spin {\n",
              "    0% {\n",
              "      border-color: transparent;\n",
              "      border-bottom-color: var(--fill-color);\n",
              "      border-left-color: var(--fill-color);\n",
              "    }\n",
              "    20% {\n",
              "      border-color: transparent;\n",
              "      border-left-color: var(--fill-color);\n",
              "      border-top-color: var(--fill-color);\n",
              "    }\n",
              "    30% {\n",
              "      border-color: transparent;\n",
              "      border-left-color: var(--fill-color);\n",
              "      border-top-color: var(--fill-color);\n",
              "      border-right-color: var(--fill-color);\n",
              "    }\n",
              "    40% {\n",
              "      border-color: transparent;\n",
              "      border-right-color: var(--fill-color);\n",
              "      border-top-color: var(--fill-color);\n",
              "    }\n",
              "    60% {\n",
              "      border-color: transparent;\n",
              "      border-right-color: var(--fill-color);\n",
              "    }\n",
              "    80% {\n",
              "      border-color: transparent;\n",
              "      border-right-color: var(--fill-color);\n",
              "      border-bottom-color: var(--fill-color);\n",
              "    }\n",
              "    90% {\n",
              "      border-color: transparent;\n",
              "      border-bottom-color: var(--fill-color);\n",
              "    }\n",
              "  }\n",
              "</style>\n",
              "\n",
              "  <script>\n",
              "    async function quickchart(key) {\n",
              "      const quickchartButtonEl =\n",
              "        document.querySelector('#' + key + ' button');\n",
              "      quickchartButtonEl.disabled = true;  // To prevent multiple clicks.\n",
              "      quickchartButtonEl.classList.add('colab-df-spinner');\n",
              "      try {\n",
              "        const charts = await google.colab.kernel.invokeFunction(\n",
              "            'suggestCharts', [key], {});\n",
              "      } catch (error) {\n",
              "        console.error('Error during call to suggestCharts:', error);\n",
              "      }\n",
              "      quickchartButtonEl.classList.remove('colab-df-spinner');\n",
              "      quickchartButtonEl.classList.add('colab-df-quickchart-complete');\n",
              "    }\n",
              "    (() => {\n",
              "      let quickchartButtonEl =\n",
              "        document.querySelector('#df-4c01c543-f409-4b42-baa5-ae4b892f50c0 button');\n",
              "      quickchartButtonEl.style.display =\n",
              "        google.colab.kernel.accessAllowed ? 'block' : 'none';\n",
              "    })();\n",
              "  </script>\n",
              "</div>\n",
              "\n",
              "  <div id=\"id_83525e9c-a281-4717-b5f7-cf3a4f40c95f\">\n",
              "    <style>\n",
              "      .colab-df-generate {\n",
              "        background-color: #E8F0FE;\n",
              "        border: none;\n",
              "        border-radius: 50%;\n",
              "        cursor: pointer;\n",
              "        display: none;\n",
              "        fill: #1967D2;\n",
              "        height: 32px;\n",
              "        padding: 0 0 0 0;\n",
              "        width: 32px;\n",
              "      }\n",
              "\n",
              "      .colab-df-generate:hover {\n",
              "        background-color: #E2EBFA;\n",
              "        box-shadow: 0px 1px 2px rgba(60, 64, 67, 0.3), 0px 1px 3px 1px rgba(60, 64, 67, 0.15);\n",
              "        fill: #174EA6;\n",
              "      }\n",
              "\n",
              "      [theme=dark] .colab-df-generate {\n",
              "        background-color: #3B4455;\n",
              "        fill: #D2E3FC;\n",
              "      }\n",
              "\n",
              "      [theme=dark] .colab-df-generate:hover {\n",
              "        background-color: #434B5C;\n",
              "        box-shadow: 0px 1px 3px 1px rgba(0, 0, 0, 0.15);\n",
              "        filter: drop-shadow(0px 1px 2px rgba(0, 0, 0, 0.3));\n",
              "        fill: #FFFFFF;\n",
              "      }\n",
              "    </style>\n",
              "    <button class=\"colab-df-generate\" onclick=\"generateWithVariable('gdf_radio_censal')\"\n",
              "            title=\"Generate code using this dataframe.\"\n",
              "            style=\"display:none;\">\n",
              "\n",
              "  <svg xmlns=\"http://www.w3.org/2000/svg\" height=\"24px\"viewBox=\"0 0 24 24\"\n",
              "       width=\"24px\">\n",
              "    <path d=\"M7,19H8.4L18.45,9,17,7.55,7,17.6ZM5,21V16.75L18.45,3.32a2,2,0,0,1,2.83,0l1.4,1.43a1.91,1.91,0,0,1,.58,1.4,1.91,1.91,0,0,1-.58,1.4L9.25,21ZM18.45,9,17,7.55Zm-12,3A5.31,5.31,0,0,0,4.9,8.1,5.31,5.31,0,0,0,1,6.5,5.31,5.31,0,0,0,4.9,4.9,5.31,5.31,0,0,0,6.5,1,5.31,5.31,0,0,0,8.1,4.9,5.31,5.31,0,0,0,12,6.5,5.46,5.46,0,0,0,6.5,12Z\"/>\n",
              "  </svg>\n",
              "    </button>\n",
              "    <script>\n",
              "      (() => {\n",
              "      const buttonEl =\n",
              "        document.querySelector('#id_83525e9c-a281-4717-b5f7-cf3a4f40c95f button.colab-df-generate');\n",
              "      buttonEl.style.display =\n",
              "        google.colab.kernel.accessAllowed ? 'block' : 'none';\n",
              "\n",
              "      buttonEl.onclick = () => {\n",
              "        google.colab.notebook.generateWithVariable('gdf_radio_censal');\n",
              "      }\n",
              "      })();\n",
              "    </script>\n",
              "  </div>\n",
              "\n",
              "    </div>\n",
              "  </div>\n"
            ],
            "application/vnd.google.colaboratory.intrinsic+json": {
              "type": "dataframe",
              "variable_name": "gdf_radio_censal",
              "summary": "{\n  \"name\": \"gdf_radio_censal\",\n  \"rows\": 3554,\n  \"fields\": [\n    {\n      \"column\": \"WKT\",\n      \"properties\": {\n        \"dtype\": \"string\",\n        \"num_unique_values\": 3554,\n        \"samples\": [\n          \"MULTIPOLYGON (((-58.4864209441713 -34.6266182642066,-58.486221707381 -34.6270456412254,-58.4861754742918 -34.6271460760688,-58.4859595482917 -34.6276157812075,-58.485882321798 -34.6277837593283,-58.4855858440017 -34.6284282736572,-58.4854991638595 -34.6286137186626,-58.4849390544372 -34.6298121721054,-58.4861760560515 -34.6301188519552,-58.4862537104666 -34.6299521412779,-58.4867328254826 -34.6289150412615,-58.4867902980362 -34.6287905891255,-58.4871936227456 -34.6279169582696,-58.4873616935199 -34.6275529684541,-58.4874080957765 -34.6274524627089,-58.4876039207967 -34.6270290282741,-58.4876601153028 -34.6269128860922,-58.4877662884267 -34.626693420258,-58.4877063886089 -34.6266689246785,-58.4884769626262 -34.6260550110199,-58.488225866355 -34.6259671030823,-58.4878601707846 -34.6258363295327,-58.4872524131618 -34.6256189107489,-58.4870340255785 -34.6257935379282,-58.4865524500817 -34.6261951255918,-58.4866076629466 -34.6262177211856,-58.4864209441713 -34.6266182642066)))\",\n          \"MULTIPOLYGON (((-58.3991631606213 -34.6509615573332,-58.3987612678846 -34.6510641672262,-58.3977654190436 -34.6513639661719,-58.3976742308905 -34.6521105248512,-58.3976241126056 -34.6525569901722,-58.3975816246707 -34.6529445141183,-58.3976378375207 -34.6529879256829,-58.3980101304556 -34.653154044132,-58.3980309539121 -34.6531165188626,-58.3980400127646 -34.6530839874986,-58.3980908553332 -34.6529097839699,-58.3981064040893 -34.6528604245568,-58.3981411849907 -34.6527373407586,-58.3981698353167 -34.6526071408179,-58.3981950068481 -34.6525670825319,-58.3982504243958 -34.6525370405255,-58.3983395742614 -34.6525270873176,-58.3983647141829 -34.6525278048303,-58.3986510231023 -34.65257570344,-58.3986930528522 -34.6525557953439,-58.3988707328168 -34.652010168132,-58.3990051974017 -34.6515838877843,-58.399074817133 -34.6513684247763,-58.3991631606213 -34.6509615573332)))\",\n          \"MULTIPOLYGON (((-58.4285016389702 -34.6457571000809,-58.4276412679642 -34.6470667550922,-58.4281337929397 -34.6475393044786,-58.4282488752281 -34.6476497629451,-58.4284269051887 -34.6478284100982,-58.4286169107281 -34.6476903605554,-58.4297974997793 -34.6468465041043,-58.4310960348465 -34.6459183683566,-58.4321075608723 -34.6451636734592,-58.4321749769685 -34.6442022521319,-58.431263677245 -34.6440482834558,-58.4306554652857 -34.6439429810439,-58.4304159186125 -34.6450742909501,-58.4302902308441 -34.6450655953723,-58.4296542036045 -34.6450340152601,-58.4294629867573 -34.6450238925609,-58.4292746671571 -34.6450139816301,-58.4289681545697 -34.6450061505145,-58.4285016389702 -34.6457571000809)))\"\n        ],\n        \"semantic_type\": \"\",\n        \"description\": \"\"\n      }\n    },\n    {\n      \"column\": \"ID\",\n      \"properties\": {\n        \"dtype\": \"number\",\n        \"std\": 1026,\n        \"min\": 1,\n        \"max\": 3554,\n        \"num_unique_values\": 3554,\n        \"samples\": [\n          300,\n          2241,\n          2385\n        ],\n        \"semantic_type\": \"\",\n        \"description\": \"\"\n      }\n    },\n    {\n      \"column\": \"CO_FRAC_RA\",\n      \"properties\": {\n        \"dtype\": \"string\",\n        \"num_unique_values\": 3554,\n        \"samples\": [\n          \"10_11_2\",\n          \"4_10_7\",\n          \"4_3_2\"\n        ],\n        \"semantic_type\": \"\",\n        \"description\": \"\"\n      }\n    },\n    {\n      \"column\": \"COMUNA\",\n      \"properties\": {\n        \"dtype\": \"number\",\n        \"std\": 4,\n        \"min\": 1,\n        \"max\": 15,\n        \"num_unique_values\": 15,\n        \"samples\": [\n          4,\n          6,\n          1\n        ],\n        \"semantic_type\": \"\",\n        \"description\": \"\"\n      }\n    },\n    {\n      \"column\": \"FRACCION\",\n      \"properties\": {\n        \"dtype\": \"number\",\n        \"std\": 7,\n        \"min\": 1,\n        \"max\": 31,\n        \"num_unique_values\": 31,\n        \"samples\": [\n          2,\n          25,\n          8\n        ],\n        \"semantic_type\": \"\",\n        \"description\": \"\"\n      }\n    },\n    {\n      \"column\": \"RADIO\",\n      \"properties\": {\n        \"dtype\": \"number\",\n        \"std\": 3,\n        \"min\": 1,\n        \"max\": 23,\n        \"num_unique_values\": 23,\n        \"samples\": [\n          16,\n          8,\n          1\n        ],\n        \"semantic_type\": \"\",\n        \"description\": \"\"\n      }\n    },\n    {\n      \"column\": \"TOTAL_POB\",\n      \"properties\": {\n        \"dtype\": \"number\",\n        \"std\": 292,\n        \"min\": 0,\n        \"max\": 3945,\n        \"num_unique_values\": 1016,\n        \"samples\": [\n          532,\n          998,\n          628\n        ],\n        \"semantic_type\": \"\",\n        \"description\": \"\"\n      }\n    },\n    {\n      \"column\": \"T_VARON\",\n      \"properties\": {\n        \"dtype\": \"number\",\n        \"std\": 143,\n        \"min\": 0,\n        \"max\": 2012,\n        \"num_unique_values\": 589,\n        \"samples\": [\n          935,\n          335,\n          733\n        ],\n        \"semantic_type\": \"\",\n        \"description\": \"\"\n      }\n    },\n    {\n      \"column\": \"T_MUJER\",\n      \"properties\": {\n        \"dtype\": \"number\",\n        \"std\": 154,\n        \"min\": 0,\n        \"max\": 1933,\n        \"num_unique_values\": 669,\n        \"samples\": [\n          471,\n          344,\n          654\n        ],\n        \"semantic_type\": \"\",\n        \"description\": \"\"\n      }\n    },\n    {\n      \"column\": \"T_VIVIENDA\",\n      \"properties\": {\n        \"dtype\": \"number\",\n        \"std\": 142,\n        \"min\": 0,\n        \"max\": 1405,\n        \"num_unique_values\": 663,\n        \"samples\": [\n          962,\n          1405,\n          692\n        ],\n        \"semantic_type\": \"\",\n        \"description\": \"\"\n      }\n    },\n    {\n      \"column\": \"V_PARTICUL\",\n      \"properties\": {\n        \"dtype\": \"number\",\n        \"std\": 142,\n        \"min\": 0,\n        \"max\": 1405,\n        \"num_unique_values\": 659,\n        \"samples\": [\n          817,\n          179,\n          288\n        ],\n        \"semantic_type\": \"\",\n        \"description\": \"\"\n      }\n    },\n    {\n      \"column\": \"V_COLECTIV\",\n      \"properties\": {\n        \"dtype\": \"number\",\n        \"std\": 1,\n        \"min\": 0,\n        \"max\": 14,\n        \"num_unique_values\": 13,\n        \"samples\": [\n          11,\n          3,\n          2\n        ],\n        \"semantic_type\": \"\",\n        \"description\": \"\"\n      }\n    },\n    {\n      \"column\": \"T_HOGAR\",\n      \"properties\": {\n        \"dtype\": \"number\",\n        \"std\": 105,\n        \"min\": 0,\n        \"max\": 1093,\n        \"num_unique_values\": 526,\n        \"samples\": [\n          435,\n          525,\n          209\n        ],\n        \"semantic_type\": \"\",\n        \"description\": \"\"\n      }\n    },\n    {\n      \"column\": \"H_CON_NBI\",\n      \"properties\": {\n        \"dtype\": \"number\",\n        \"std\": 32,\n        \"min\": 0,\n        \"max\": 403,\n        \"num_unique_values\": 168,\n        \"samples\": [\n          131,\n          80,\n          107\n        ],\n        \"semantic_type\": \"\",\n        \"description\": \"\"\n      }\n    },\n    {\n      \"column\": \"H_SIN_NBI\",\n      \"properties\": {\n        \"dtype\": \"number\",\n        \"std\": 103,\n        \"min\": 0,\n        \"max\": 1052,\n        \"num_unique_values\": 524,\n        \"samples\": [\n          425,\n          567,\n          99\n        ],\n        \"semantic_type\": \"\",\n        \"description\": \"\"\n      }\n    },\n    {\n      \"column\": \"geometry\",\n      \"properties\": {\n        \"dtype\": \"geometry\",\n        \"num_unique_values\": 3554,\n        \"samples\": [\n          \"MULTIPOLYGON (((-58.4864209441713 -34.6266182642066, -58.486221707381 -34.6270456412254, -58.4861754742918 -34.6271460760688, -58.4859595482917 -34.6276157812075, -58.485882321798 -34.6277837593283, -58.4855858440017 -34.6284282736572, -58.4854991638595 -34.6286137186626, -58.4849390544372 -34.6298121721054, -58.4861760560515 -34.6301188519552, -58.4862537104666 -34.6299521412779, -58.4867328254826 -34.6289150412615, -58.4867902980362 -34.6287905891255, -58.4871936227456 -34.6279169582696, -58.4873616935199 -34.6275529684541, -58.4874080957765 -34.6274524627089, -58.4876039207967 -34.6270290282741, -58.4876601153028 -34.6269128860922, -58.4877662884267 -34.626693420258, -58.4877063886089 -34.6266689246785, -58.4884769626262 -34.6260550110199, -58.488225866355 -34.6259671030823, -58.4878601707846 -34.6258363295327, -58.4872524131618 -34.6256189107489, -58.4870340255785 -34.6257935379282, -58.4865524500817 -34.6261951255918, -58.4866076629466 -34.6262177211856, -58.4864209441713 -34.6266182642066)))\",\n          \"MULTIPOLYGON (((-58.3991631606213 -34.6509615573332, -58.3987612678846 -34.6510641672262, -58.3977654190436 -34.6513639661719, -58.3976742308905 -34.6521105248512, -58.3976241126056 -34.6525569901722, -58.3975816246707 -34.6529445141183, -58.3976378375207 -34.6529879256829, -58.3980101304556 -34.653154044132, -58.3980309539121 -34.6531165188626, -58.3980400127646 -34.6530839874986, -58.3980908553332 -34.6529097839699, -58.3981064040893 -34.6528604245568, -58.3981411849907 -34.6527373407586, -58.3981698353167 -34.6526071408179, -58.3981950068481 -34.6525670825319, -58.3982504243958 -34.6525370405255, -58.3983395742614 -34.6525270873176, -58.3983647141829 -34.6525278048303, -58.3986510231023 -34.65257570344, -58.3986930528522 -34.6525557953439, -58.3988707328168 -34.652010168132, -58.3990051974017 -34.6515838877843, -58.399074817133 -34.6513684247763, -58.3991631606213 -34.6509615573332)))\",\n          \"MULTIPOLYGON (((-58.4285016389702 -34.6457571000809, -58.4276412679642 -34.6470667550922, -58.4281337929397 -34.6475393044786, -58.4282488752281 -34.6476497629451, -58.4284269051887 -34.6478284100982, -58.4286169107281 -34.6476903605554, -58.4297974997793 -34.6468465041043, -58.4310960348465 -34.6459183683566, -58.4321075608723 -34.6451636734592, -58.4321749769685 -34.6442022521319, -58.431263677245 -34.6440482834558, -58.4306554652857 -34.6439429810439, -58.4304159186125 -34.6450742909501, -58.4302902308441 -34.6450655953723, -58.4296542036045 -34.6450340152601, -58.4294629867573 -34.6450238925609, -58.4292746671571 -34.6450139816301, -58.4289681545697 -34.6450061505145, -58.4285016389702 -34.6457571000809)))\"\n        ],\n        \"semantic_type\": \"\",\n        \"description\": \"\"\n      }\n    }\n  ]\n}"
            }
          },
          "metadata": {},
          "execution_count": 5
        }
      ]
    },
    {
      "cell_type": "code",
      "source": [
        "# Graficar el GeoDataFrame\n",
        "gdf_radio_censal.plot(figsize=(6,6))\n",
        "plt.show()"
      ],
      "metadata": {
        "id": "_WK_N-F8MKTL"
      },
      "execution_count": null,
      "outputs": []
    },
    {
      "cell_type": "code",
      "source": [
        "gdf_radio_censal.columns"
      ],
      "metadata": {
        "colab": {
          "base_uri": "https://localhost:8080/"
        },
        "id": "h5OXRHhWOSe9",
        "outputId": "192d6b5e-c395-4794-ccea-7ce3d568e50a"
      },
      "execution_count": null,
      "outputs": [
        {
          "output_type": "execute_result",
          "data": {
            "text/plain": [
              "Index(['WKT', 'ID', 'CO_FRAC_RA', 'COMUNA', 'FRACCION', 'RADIO', 'TOTAL_POB',\n",
              "       'T_VARON', 'T_MUJER', 'T_VIVIENDA', 'V_PARTICUL', 'V_COLECTIV',\n",
              "       'T_HOGAR', 'H_CON_NBI', 'H_SIN_NBI', 'geometry'],\n",
              "      dtype='object')"
            ]
          },
          "metadata": {},
          "execution_count": 45
        }
      ]
    },
    {
      "cell_type": "code",
      "source": [
        "# Crear una figura y un eje\n",
        "fig, ax = plt.subplots(figsize=(10, 10))\n",
        "\n",
        "# Graficar los radios censales (polígonos)\n",
        "gdf_radio_censal.plot(ax=ax, color='lightblue', edgecolor='black', alpha=0.5)\n",
        "\n",
        "# Graficar las tiendas (puntos)\n",
        "tiendas_caba.plot(ax=ax, color='blue', marker='o', markersize=5, label='Tiendas')\n",
        "\n",
        "# Agregar leyenda\n",
        "plt.legend()\n",
        "\n",
        "# Mostrar el gráfico\n",
        "plt.show()"
      ],
      "metadata": {
        "id": "xx5kzNR6OdH3"
      },
      "execution_count": null,
      "outputs": []
    },
    {
      "cell_type": "markdown",
      "source": [
        "TOTAL_POB: Total de la población en ese radio censal.\n",
        "\n",
        "T_VARON: Total de varones (hombres) en ese radio censal.\n",
        "\n",
        "T_MUJER: Total de mujeres en ese radio censal.\n",
        "\n",
        "T_VIVIENDA: Total de viviendas en ese radio censal.\n",
        "\n",
        "V_PARTICUL: Total de viviendas particulares (viviendas familiares, no colectivas).\n",
        "\n",
        "V_COLECTIV: Total de viviendas colectivas (por ejemplo, residencias o albergues).\n",
        "\n",
        "T_HOGAR: Total de hogares en el radio censal.\n",
        "\n",
        "H_CON_NBI: Hogares con Necesidades Básicas Insatisfechas (NBI), un indicador de pobreza.\n",
        "\n",
        "H_SIN_NBI: Hogares sin Necesidades Básicas Insatisfechas, es decir, hogares que no presentan indicadores de pobreza."
      ],
      "metadata": {
        "id": "7XEiYRnVP2kD"
      }
    },
    {
      "cell_type": "code",
      "source": [
        "# Función para asignar el ID del radio censal\n",
        "def asignar_radio(tienda, gdf_radio_censal):\n",
        "    for _, radio in gdf_radio_censal.iterrows():\n",
        "        if tienda.within(radio['geometry']):\n",
        "            return radio['ID']  # Retornar el ID del radio censal\n",
        "    return None  # Si no está dentro de ningún radio\n",
        "\n",
        "# Aplicar la función a cada tienda\n",
        "tiendas_caba['id_rc'] = tiendas_caba['geometry'].apply(lambda x: asignar_radio(x, gdf_radio_censal))\n"
      ],
      "metadata": {
        "id": "VG75gU-oSEBT"
      },
      "execution_count": null,
      "outputs": []
    },
    {
      "cell_type": "code",
      "source": [
        "tiendas_caba = tiendas_caba[['id',\n",
        "                             \"lat\",\n",
        "                             \"lon\",\n",
        "                             'geometry',\n",
        "                             \"estaciones_servicio_200mts\",\n",
        "                             \"estaciones_servicio_1000mts\",\n",
        "                             \"subtes_200mts\",\n",
        "                             \"subtes_1000mts\",\n",
        "                             \"id_rc\"]]"
      ],
      "metadata": {
        "id": "Su-6rhHdKbzi"
      },
      "execution_count": null,
      "outputs": []
    },
    {
      "cell_type": "code",
      "source": [
        "tiendas_caba.columns"
      ],
      "metadata": {
        "colab": {
          "base_uri": "https://localhost:8080/"
        },
        "id": "DHf-UOkgSvA9",
        "outputId": "1c4d57ca-02a2-4c04-c52e-2b603ac0e61c"
      },
      "execution_count": null,
      "outputs": [
        {
          "output_type": "execute_result",
          "data": {
            "text/plain": [
              "Index(['id', 'lat', 'lon', 'geometry', 'estaciones_servicio_200mts',\n",
              "       'estaciones_servicio_1000mts', 'subtes_200mts', 'subtes_1000mts',\n",
              "       'id_rc'],\n",
              "      dtype='object')"
            ]
          },
          "metadata": {},
          "execution_count": 92
        }
      ]
    },
    {
      "cell_type": "code",
      "source": [
        "gdf_radio_censal.columns"
      ],
      "metadata": {
        "colab": {
          "base_uri": "https://localhost:8080/"
        },
        "id": "dAaBW2rkS0-C",
        "outputId": "726420fd-8018-4164-b865-59ada2c63a29"
      },
      "execution_count": null,
      "outputs": [
        {
          "output_type": "execute_result",
          "data": {
            "text/plain": [
              "Index(['WKT', 'ID', 'CO_FRAC_RA', 'COMUNA', 'FRACCION', 'RADIO', 'TOTAL_POB',\n",
              "       'T_VARON', 'T_MUJER', 'T_VIVIENDA', 'V_PARTICUL', 'V_COLECTIV',\n",
              "       'T_HOGAR', 'H_CON_NBI', 'H_SIN_NBI', 'geometry'],\n",
              "      dtype='object')"
            ]
          },
          "metadata": {},
          "execution_count": 93
        }
      ]
    },
    {
      "cell_type": "code",
      "source": [
        "gdf_radio_censal[\"TOTAL_POB\"].mean()"
      ],
      "metadata": {
        "colab": {
          "base_uri": "https://localhost:8080/"
        },
        "id": "-pTBPMzdS72A",
        "outputId": "497a310a-9de1-4963-d583-2999b26856cf"
      },
      "execution_count": null,
      "outputs": [
        {
          "output_type": "execute_result",
          "data": {
            "text/plain": [
              "813.210748452448"
            ]
          },
          "metadata": {},
          "execution_count": 94
        }
      ]
    },
    {
      "cell_type": "code",
      "source": [
        "gdf_radio_censal[\"T_HOGAR\"].mean()"
      ],
      "metadata": {
        "colab": {
          "base_uri": "https://localhost:8080/"
        },
        "id": "h1ZkR6UFTIfO",
        "outputId": "395fecc3-f0eb-432d-bcfe-09aaac8b6283"
      },
      "execution_count": null,
      "outputs": [
        {
          "output_type": "execute_result",
          "data": {
            "text/plain": [
              "323.6167698368036"
            ]
          },
          "metadata": {},
          "execution_count": 95
        }
      ]
    },
    {
      "cell_type": "markdown",
      "source": [
        "Calculo de Nivel Socioeconómico"
      ],
      "metadata": {
        "id": "6Rnbk8yRT4gF"
      }
    },
    {
      "cell_type": "code",
      "source": [
        "# Calcular el porcentaje de hogares con NBI\n",
        "gdf_radio_censal['porc_nbi'] = (gdf_radio_censal['H_CON_NBI'] / gdf_radio_censal['T_HOGAR'])"
      ],
      "metadata": {
        "id": "ZmufCDFmT2YH"
      },
      "execution_count": null,
      "outputs": []
    },
    {
      "cell_type": "markdown",
      "source": [
        "En este caso un porcentaje alto implica menor NSE"
      ],
      "metadata": {
        "id": "izzWWcKZUaSo"
      }
    },
    {
      "cell_type": "code",
      "source": [
        "import matplotlib.pyplot as plt\n",
        "\n",
        "# Crear el gráfico\n",
        "fig, ax = plt.subplots(1, 1, figsize=(10, 10))\n",
        "# Graficar los radios censales coloreados por 'porc_nbi' y remarcar los bordes\n",
        "gdf_radio_censal.plot(column='porc_nbi', ax=ax, legend=True,\n",
        "                      cmap='YlGnBu',\n",
        "                      legend_kwds={'label': \"Porcentaje de hogares con NBI\",\n",
        "                                   'orientation': \"vertical\"},\n",
        "                      edgecolor='black',\n",
        "                      linewidth=0.5)\n",
        "\n",
        "plt.title('Distribución del Porcentaje de Hogares con NBI por Radio Censal', fontsize=15)\n",
        "plt.show()\n"
      ],
      "metadata": {
        "id": "W7kFav7oUzHQ"
      },
      "execution_count": null,
      "outputs": []
    },
    {
      "cell_type": "code",
      "source": [
        "import matplotlib.pyplot as plt\n",
        "\n",
        "# Crear el gráfico\n",
        "fig, ax = plt.subplots(1, 1, figsize=(10, 10))\n",
        "# Graficar los radios censales coloreados por 'porc_nbi' y remarcar los bordes\n",
        "gdf_radio_censal.plot(column='porc_nbi', ax=ax, legend=True,\n",
        "                      cmap='YlGnBu',\n",
        "                      legend_kwds={'label': \"Porcentaje de hogares con NBI\",\n",
        "                                   'orientation': \"vertical\"},\n",
        "                      edgecolor='black',\n",
        "                      linewidth=0.5)\n",
        "\n",
        "tiendas_caba.plot(ax=ax, marker='o', color='blue', markersize=5, label='Tiendas')\n",
        "plt.title('Distribución del Porcentaje de Hogares con NBI y Tiendas', fontsize=15)\n",
        "plt.legend()\n",
        "plt.show()\n"
      ],
      "metadata": {
        "id": "VoYbN7JvXSNZ"
      },
      "execution_count": null,
      "outputs": []
    },
    {
      "cell_type": "code",
      "source": [
        "# Calcular cantidad de personas por vivienda\n",
        "gdf_radio_censal['hacinamiento'] = (gdf_radio_censal['TOTAL_POB'] / gdf_radio_censal['T_HOGAR'])"
      ],
      "metadata": {
        "id": "dtQcN5neUdhT"
      },
      "execution_count": null,
      "outputs": []
    },
    {
      "cell_type": "markdown",
      "source": [
        "Igualmente, un porcentaje alto implica menor NSE"
      ],
      "metadata": {
        "id": "A0eJdgivUxHN"
      }
    },
    {
      "cell_type": "code",
      "source": [
        "import matplotlib.pyplot as plt\n",
        "\n",
        "# Crear el gráfico\n",
        "fig, ax = plt.subplots(1, 1, figsize=(10, 10))\n",
        "# Graficar los radios censales coloreados por 'hacinamiento' y remarcar los bordes\n",
        "gdf_radio_censal.plot(column='hacinamiento', ax=ax, legend=True,\n",
        "                      cmap='YlGnBu',\n",
        "                      legend_kwds={'label': \"Personas por vivienda\",\n",
        "                                   'orientation': \"vertical\"},\n",
        "                      edgecolor='black',\n",
        "                      linewidth=0.5)\n",
        "\n",
        "plt.title('Personas por vivienda por Radio Censal', fontsize=15)\n",
        "plt.show()"
      ],
      "metadata": {
        "id": "4j8Mk_hnV4GQ"
      },
      "execution_count": null,
      "outputs": []
    },
    {
      "cell_type": "markdown",
      "source": [
        "Calcular el AREA del RC"
      ],
      "metadata": {
        "id": "tyiNRFRNb31F"
      }
    },
    {
      "cell_type": "code",
      "source": [
        "# Calcular el área de cada radio censal en metros cuadrados (si tus geometrías están en ese sistema de coordenadas)\n",
        "gdf_radio_censal['area_radio'] = gdf_radio_censal['geometry'].area"
      ],
      "metadata": {
        "id": "O0Tz9uMSavr1",
        "colab": {
          "base_uri": "https://localhost:8080/"
        },
        "outputId": "c51c9d04-f690-4df5-90f5-c159a59afa2b"
      },
      "execution_count": null,
      "outputs": [
        {
          "output_type": "stream",
          "name": "stderr",
          "text": [
            "<ipython-input-27-3fa2eb13bd64>:2: UserWarning: Geometry is in a geographic CRS. Results from 'area' are likely incorrect. Use 'GeoSeries.to_crs()' to re-project geometries to a projected CRS before this operation.\n",
            "\n",
            "  gdf_radio_censal['area_radio'] = gdf_radio_censal['geometry'].area\n"
          ]
        }
      ]
    },
    {
      "cell_type": "markdown",
      "source": [
        "Densidad de población = personas por metro cuadrado"
      ],
      "metadata": {
        "id": "wpvTFS8ob6sD"
      }
    },
    {
      "cell_type": "code",
      "source": [
        "# Calcular la densidad de población por radio censal\n",
        "gdf_radio_censal['densidad_pob'] = gdf_radio_censal['TOTAL_POB'] / gdf_radio_censal['area_radio']"
      ],
      "metadata": {
        "id": "ODyhQ0IQay2_"
      },
      "execution_count": null,
      "outputs": []
    },
    {
      "cell_type": "code",
      "source": [
        "import matplotlib.pyplot as plt\n",
        "\n",
        "# Crear el gráfico\n",
        "fig, ax = plt.subplots(1, 1, figsize=(10, 10))\n",
        "# Graficar los radios censales coloreados por 'densidad_pob' y remarcar los bordes\n",
        "gdf_radio_censal.plot(column='densidad_pob', ax=ax, legend=True,\n",
        "                      cmap='YlGnBu',\n",
        "                      legend_kwds={'label': \"Personas por metro cuadrado\",\n",
        "                                   'orientation': \"vertical\"},\n",
        "                      edgecolor='black',\n",
        "                      linewidth=0.5)\n",
        "\n",
        "plt.title('Densidad de población por radio censal', fontsize=15)\n",
        "plt.show()"
      ],
      "metadata": {
        "id": "KMHGXiGLb_y-"
      },
      "execution_count": null,
      "outputs": []
    },
    {
      "cell_type": "markdown",
      "source": [
        "Porcentaje de mujeres"
      ],
      "metadata": {
        "id": "4BI7gh3BcjD1"
      }
    },
    {
      "cell_type": "code",
      "source": [
        "# Calcular el porcentaje de mujeres\n",
        "gdf_radio_censal['porc_mujeres'] = gdf_radio_censal['T_MUJER'] / gdf_radio_censal['TOTAL_POB']"
      ],
      "metadata": {
        "id": "qTWB-jr6a00y"
      },
      "execution_count": null,
      "outputs": []
    },
    {
      "cell_type": "markdown",
      "source": [
        "Porcentaje de varones"
      ],
      "metadata": {
        "id": "aNq14t9ZckuA"
      }
    },
    {
      "cell_type": "code",
      "source": [
        "# Calcular el porcentaje de varones\n",
        "gdf_radio_censal['porc_varones'] = gdf_radio_censal['T_VARON'] / gdf_radio_censal['TOTAL_POB']"
      ],
      "metadata": {
        "id": "XEVjMo7Xa4OF"
      },
      "execution_count": null,
      "outputs": []
    },
    {
      "cell_type": "code",
      "source": [
        "# Seleccionar las columnas que quieres transferir del gdf_radio_censal\n",
        "columnas_a_transferir = ['ID', 'porc_nbi', 'hacinamiento', 'densidad_pob', 'porc_mujeres', 'porc_varones']\n",
        "\n",
        "# Renombrar la columna ID en gdf_radio_censal para que coincida con id_rc en tiendas_caba\n",
        "gdf_radio_censal_renamed = gdf_radio_censal[columnas_a_transferir].rename(columns={'ID': 'id_rc'})\n",
        "\n",
        "# Hacer el merge entre tiendas_caba y gdf_radio_censal_renamed basado en id_rc\n",
        "tiendas_caba = tiendas_caba.merge(gdf_radio_censal_renamed, on='id_rc', how='left')"
      ],
      "metadata": {
        "id": "zGVbVQZbb2HF"
      },
      "execution_count": null,
      "outputs": []
    },
    {
      "cell_type": "code",
      "source": [
        "tiendas_caba.columns"
      ],
      "metadata": {
        "colab": {
          "base_uri": "https://localhost:8080/"
        },
        "id": "yPKvi1sjcwdr",
        "outputId": "d5649c53-6640-4413-c5f4-7d19a0a2838d"
      },
      "execution_count": null,
      "outputs": [
        {
          "output_type": "execute_result",
          "data": {
            "text/plain": [
              "Index(['id', 'lat', 'lon', 'geometry', 'estaciones_servicio_200mts',\n",
              "       'estaciones_servicio_1000mts', 'subtes_200mts', 'subtes_1000mts',\n",
              "       'id_rc', 'porc_nbi', 'hacinamiento', 'densidad_pob', 'porc_mujeres',\n",
              "       'porc_varones'],\n",
              "      dtype='object')"
            ]
          },
          "metadata": {},
          "execution_count": 117
        }
      ]
    },
    {
      "cell_type": "markdown",
      "source": [
        "# Flujo Vehicular"
      ],
      "metadata": {
        "id": "9nDF3dYXdGi3"
      }
    },
    {
      "cell_type": "code",
      "source": [
        "import chardet\n",
        "\n",
        "# Detectar la codificación del archivo\n",
        "with open('/content/drive/MyDrive/transito_julio_2024.csv', 'rb') as file:\n",
        "    raw_data = file.read()\n",
        "    result = chardet.detect(raw_data)\n",
        "    encoding = result['encoding']"
      ],
      "metadata": {
        "id": "fvaSbwEjfaQd"
      },
      "execution_count": null,
      "outputs": []
    },
    {
      "cell_type": "code",
      "source": [
        "encoding"
      ],
      "metadata": {
        "colab": {
          "base_uri": "https://localhost:8080/",
          "height": 35
        },
        "id": "rSW830_egayI",
        "outputId": "dd4dc40a-aba5-44e9-ff05-d5c03afdb46d"
      },
      "execution_count": null,
      "outputs": [
        {
          "output_type": "execute_result",
          "data": {
            "text/plain": [
              "'ISO-8859-1'"
            ],
            "application/vnd.google.colaboratory.intrinsic+json": {
              "type": "string"
            }
          },
          "metadata": {},
          "execution_count": 127
        }
      ]
    },
    {
      "cell_type": "code",
      "source": [
        "# Leer el archivo con la codificación detectada\n",
        "df_flujo_vehicular = pd.read_csv('/content/drive/MyDrive/transito_julio_2024.csv', encoding=encoding, sep=\";\")"
      ],
      "metadata": {
        "colab": {
          "base_uri": "https://localhost:8080/"
        },
        "id": "fopjMB5Mfxfi",
        "outputId": "d8af9599-27a2-450f-c33b-fbdaabd3a011"
      },
      "execution_count": null,
      "outputs": [
        {
          "output_type": "stream",
          "name": "stderr",
          "text": [
            "<ipython-input-130-418873ba3c32>:2: DtypeWarning: Columns (0,1,2,3,4,5,6) have mixed types. Specify dtype option on import or set low_memory=False.\n",
            "  df_flujo_vehicular = pd.read_csv('/content/drive/MyDrive/transito_julio_2024.csv', encoding=encoding, sep=\";\")\n"
          ]
        }
      ]
    },
    {
      "cell_type": "code",
      "source": [
        "df_flujo_vehicular"
      ],
      "metadata": {
        "colab": {
          "base_uri": "https://localhost:8080/",
          "height": 510
        },
        "id": "PoRJwYdBfcQ2",
        "outputId": "10fb392e-1bac-454b-c731-0c2b43dad101"
      },
      "execution_count": null,
      "outputs": [
        {
          "output_type": "execute_result",
          "data": {
            "text/plain": [
              "       Mes, Día, Año de Fecha Operativa Hora HH Cat Cobrada ID Peaje  \\\n",
              "0                              1/7/2024       0        Auto      ALB   \n",
              "1                              1/7/2024       0        Auto      ALB   \n",
              "2                              1/7/2024       0        Auto      ALB   \n",
              "3                              1/7/2024       0        Auto      ALB   \n",
              "4                              1/7/2024       0        Auto      ALB   \n",
              "...                                 ...     ...         ...      ...   \n",
              "279634                              NaN     NaN         NaN      NaN   \n",
              "279635                              NaN     NaN         NaN      NaN   \n",
              "279636                              NaN     NaN         NaN      NaN   \n",
              "279637                              NaN     NaN         NaN      NaN   \n",
              "279638                              NaN     NaN         NaN      NaN   \n",
              "\n",
              "             Observacion    Sentido    Tipo Cobro  Pasos  Unnamed: 8  \n",
              "0           Mercado Pago     Centro  Mercado Pago    5.0         NaN  \n",
              "1           Mercado Pago  Provincia  Mercado Pago    3.0         NaN  \n",
              "2       Mercado Pago OCR     Centro  Mercado Pago    3.0         NaN  \n",
              "3       Mercado Pago OCR  Provincia  Mercado Pago    1.0         NaN  \n",
              "4          Tag - PosPago     Centro           Tag   36.0         NaN  \n",
              "...                  ...        ...           ...    ...         ...  \n",
              "279634               NaN        NaN           NaN    NaN         NaN  \n",
              "279635               NaN        NaN           NaN    NaN         NaN  \n",
              "279636               NaN        NaN           NaN    NaN         NaN  \n",
              "279637               NaN        NaN           NaN    NaN         NaN  \n",
              "279638               NaN        NaN           NaN    NaN         NaN  \n",
              "\n",
              "[279639 rows x 9 columns]"
            ],
            "text/html": [
              "\n",
              "  <div id=\"df-f21db691-ae9e-4533-89f7-d54794120e0c\" class=\"colab-df-container\">\n",
              "    <div>\n",
              "<style scoped>\n",
              "    .dataframe tbody tr th:only-of-type {\n",
              "        vertical-align: middle;\n",
              "    }\n",
              "\n",
              "    .dataframe tbody tr th {\n",
              "        vertical-align: top;\n",
              "    }\n",
              "\n",
              "    .dataframe thead th {\n",
              "        text-align: right;\n",
              "    }\n",
              "</style>\n",
              "<table border=\"1\" class=\"dataframe\">\n",
              "  <thead>\n",
              "    <tr style=\"text-align: right;\">\n",
              "      <th></th>\n",
              "      <th>Mes, Día, Año de Fecha Operativa</th>\n",
              "      <th>Hora HH</th>\n",
              "      <th>Cat Cobrada</th>\n",
              "      <th>ID Peaje</th>\n",
              "      <th>Observacion</th>\n",
              "      <th>Sentido</th>\n",
              "      <th>Tipo Cobro</th>\n",
              "      <th>Pasos</th>\n",
              "      <th>Unnamed: 8</th>\n",
              "    </tr>\n",
              "  </thead>\n",
              "  <tbody>\n",
              "    <tr>\n",
              "      <th>0</th>\n",
              "      <td>1/7/2024</td>\n",
              "      <td>0</td>\n",
              "      <td>Auto</td>\n",
              "      <td>ALB</td>\n",
              "      <td>Mercado Pago</td>\n",
              "      <td>Centro</td>\n",
              "      <td>Mercado Pago</td>\n",
              "      <td>5.0</td>\n",
              "      <td>NaN</td>\n",
              "    </tr>\n",
              "    <tr>\n",
              "      <th>1</th>\n",
              "      <td>1/7/2024</td>\n",
              "      <td>0</td>\n",
              "      <td>Auto</td>\n",
              "      <td>ALB</td>\n",
              "      <td>Mercado Pago</td>\n",
              "      <td>Provincia</td>\n",
              "      <td>Mercado Pago</td>\n",
              "      <td>3.0</td>\n",
              "      <td>NaN</td>\n",
              "    </tr>\n",
              "    <tr>\n",
              "      <th>2</th>\n",
              "      <td>1/7/2024</td>\n",
              "      <td>0</td>\n",
              "      <td>Auto</td>\n",
              "      <td>ALB</td>\n",
              "      <td>Mercado Pago OCR</td>\n",
              "      <td>Centro</td>\n",
              "      <td>Mercado Pago</td>\n",
              "      <td>3.0</td>\n",
              "      <td>NaN</td>\n",
              "    </tr>\n",
              "    <tr>\n",
              "      <th>3</th>\n",
              "      <td>1/7/2024</td>\n",
              "      <td>0</td>\n",
              "      <td>Auto</td>\n",
              "      <td>ALB</td>\n",
              "      <td>Mercado Pago OCR</td>\n",
              "      <td>Provincia</td>\n",
              "      <td>Mercado Pago</td>\n",
              "      <td>1.0</td>\n",
              "      <td>NaN</td>\n",
              "    </tr>\n",
              "    <tr>\n",
              "      <th>4</th>\n",
              "      <td>1/7/2024</td>\n",
              "      <td>0</td>\n",
              "      <td>Auto</td>\n",
              "      <td>ALB</td>\n",
              "      <td>Tag - PosPago</td>\n",
              "      <td>Centro</td>\n",
              "      <td>Tag</td>\n",
              "      <td>36.0</td>\n",
              "      <td>NaN</td>\n",
              "    </tr>\n",
              "    <tr>\n",
              "      <th>...</th>\n",
              "      <td>...</td>\n",
              "      <td>...</td>\n",
              "      <td>...</td>\n",
              "      <td>...</td>\n",
              "      <td>...</td>\n",
              "      <td>...</td>\n",
              "      <td>...</td>\n",
              "      <td>...</td>\n",
              "      <td>...</td>\n",
              "    </tr>\n",
              "    <tr>\n",
              "      <th>279634</th>\n",
              "      <td>NaN</td>\n",
              "      <td>NaN</td>\n",
              "      <td>NaN</td>\n",
              "      <td>NaN</td>\n",
              "      <td>NaN</td>\n",
              "      <td>NaN</td>\n",
              "      <td>NaN</td>\n",
              "      <td>NaN</td>\n",
              "      <td>NaN</td>\n",
              "    </tr>\n",
              "    <tr>\n",
              "      <th>279635</th>\n",
              "      <td>NaN</td>\n",
              "      <td>NaN</td>\n",
              "      <td>NaN</td>\n",
              "      <td>NaN</td>\n",
              "      <td>NaN</td>\n",
              "      <td>NaN</td>\n",
              "      <td>NaN</td>\n",
              "      <td>NaN</td>\n",
              "      <td>NaN</td>\n",
              "    </tr>\n",
              "    <tr>\n",
              "      <th>279636</th>\n",
              "      <td>NaN</td>\n",
              "      <td>NaN</td>\n",
              "      <td>NaN</td>\n",
              "      <td>NaN</td>\n",
              "      <td>NaN</td>\n",
              "      <td>NaN</td>\n",
              "      <td>NaN</td>\n",
              "      <td>NaN</td>\n",
              "      <td>NaN</td>\n",
              "    </tr>\n",
              "    <tr>\n",
              "      <th>279637</th>\n",
              "      <td>NaN</td>\n",
              "      <td>NaN</td>\n",
              "      <td>NaN</td>\n",
              "      <td>NaN</td>\n",
              "      <td>NaN</td>\n",
              "      <td>NaN</td>\n",
              "      <td>NaN</td>\n",
              "      <td>NaN</td>\n",
              "      <td>NaN</td>\n",
              "    </tr>\n",
              "    <tr>\n",
              "      <th>279638</th>\n",
              "      <td>NaN</td>\n",
              "      <td>NaN</td>\n",
              "      <td>NaN</td>\n",
              "      <td>NaN</td>\n",
              "      <td>NaN</td>\n",
              "      <td>NaN</td>\n",
              "      <td>NaN</td>\n",
              "      <td>NaN</td>\n",
              "      <td>NaN</td>\n",
              "    </tr>\n",
              "  </tbody>\n",
              "</table>\n",
              "<p>279639 rows × 9 columns</p>\n",
              "</div>\n",
              "    <div class=\"colab-df-buttons\">\n",
              "\n",
              "  <div class=\"colab-df-container\">\n",
              "    <button class=\"colab-df-convert\" onclick=\"convertToInteractive('df-f21db691-ae9e-4533-89f7-d54794120e0c')\"\n",
              "            title=\"Convert this dataframe to an interactive table.\"\n",
              "            style=\"display:none;\">\n",
              "\n",
              "  <svg xmlns=\"http://www.w3.org/2000/svg\" height=\"24px\" viewBox=\"0 -960 960 960\">\n",
              "    <path d=\"M120-120v-720h720v720H120Zm60-500h600v-160H180v160Zm220 220h160v-160H400v160Zm0 220h160v-160H400v160ZM180-400h160v-160H180v160Zm440 0h160v-160H620v160ZM180-180h160v-160H180v160Zm440 0h160v-160H620v160Z\"/>\n",
              "  </svg>\n",
              "    </button>\n",
              "\n",
              "  <style>\n",
              "    .colab-df-container {\n",
              "      display:flex;\n",
              "      gap: 12px;\n",
              "    }\n",
              "\n",
              "    .colab-df-convert {\n",
              "      background-color: #E8F0FE;\n",
              "      border: none;\n",
              "      border-radius: 50%;\n",
              "      cursor: pointer;\n",
              "      display: none;\n",
              "      fill: #1967D2;\n",
              "      height: 32px;\n",
              "      padding: 0 0 0 0;\n",
              "      width: 32px;\n",
              "    }\n",
              "\n",
              "    .colab-df-convert:hover {\n",
              "      background-color: #E2EBFA;\n",
              "      box-shadow: 0px 1px 2px rgba(60, 64, 67, 0.3), 0px 1px 3px 1px rgba(60, 64, 67, 0.15);\n",
              "      fill: #174EA6;\n",
              "    }\n",
              "\n",
              "    .colab-df-buttons div {\n",
              "      margin-bottom: 4px;\n",
              "    }\n",
              "\n",
              "    [theme=dark] .colab-df-convert {\n",
              "      background-color: #3B4455;\n",
              "      fill: #D2E3FC;\n",
              "    }\n",
              "\n",
              "    [theme=dark] .colab-df-convert:hover {\n",
              "      background-color: #434B5C;\n",
              "      box-shadow: 0px 1px 3px 1px rgba(0, 0, 0, 0.15);\n",
              "      filter: drop-shadow(0px 1px 2px rgba(0, 0, 0, 0.3));\n",
              "      fill: #FFFFFF;\n",
              "    }\n",
              "  </style>\n",
              "\n",
              "    <script>\n",
              "      const buttonEl =\n",
              "        document.querySelector('#df-f21db691-ae9e-4533-89f7-d54794120e0c button.colab-df-convert');\n",
              "      buttonEl.style.display =\n",
              "        google.colab.kernel.accessAllowed ? 'block' : 'none';\n",
              "\n",
              "      async function convertToInteractive(key) {\n",
              "        const element = document.querySelector('#df-f21db691-ae9e-4533-89f7-d54794120e0c');\n",
              "        const dataTable =\n",
              "          await google.colab.kernel.invokeFunction('convertToInteractive',\n",
              "                                                    [key], {});\n",
              "        if (!dataTable) return;\n",
              "\n",
              "        const docLinkHtml = 'Like what you see? Visit the ' +\n",
              "          '<a target=\"_blank\" href=https://colab.research.google.com/notebooks/data_table.ipynb>data table notebook</a>'\n",
              "          + ' to learn more about interactive tables.';\n",
              "        element.innerHTML = '';\n",
              "        dataTable['output_type'] = 'display_data';\n",
              "        await google.colab.output.renderOutput(dataTable, element);\n",
              "        const docLink = document.createElement('div');\n",
              "        docLink.innerHTML = docLinkHtml;\n",
              "        element.appendChild(docLink);\n",
              "      }\n",
              "    </script>\n",
              "  </div>\n",
              "\n",
              "\n",
              "<div id=\"df-8d4af2bf-ac5a-4d09-aeed-a06e030d9251\">\n",
              "  <button class=\"colab-df-quickchart\" onclick=\"quickchart('df-8d4af2bf-ac5a-4d09-aeed-a06e030d9251')\"\n",
              "            title=\"Suggest charts\"\n",
              "            style=\"display:none;\">\n",
              "\n",
              "<svg xmlns=\"http://www.w3.org/2000/svg\" height=\"24px\"viewBox=\"0 0 24 24\"\n",
              "     width=\"24px\">\n",
              "    <g>\n",
              "        <path d=\"M19 3H5c-1.1 0-2 .9-2 2v14c0 1.1.9 2 2 2h14c1.1 0 2-.9 2-2V5c0-1.1-.9-2-2-2zM9 17H7v-7h2v7zm4 0h-2V7h2v10zm4 0h-2v-4h2v4z\"/>\n",
              "    </g>\n",
              "</svg>\n",
              "  </button>\n",
              "\n",
              "<style>\n",
              "  .colab-df-quickchart {\n",
              "      --bg-color: #E8F0FE;\n",
              "      --fill-color: #1967D2;\n",
              "      --hover-bg-color: #E2EBFA;\n",
              "      --hover-fill-color: #174EA6;\n",
              "      --disabled-fill-color: #AAA;\n",
              "      --disabled-bg-color: #DDD;\n",
              "  }\n",
              "\n",
              "  [theme=dark] .colab-df-quickchart {\n",
              "      --bg-color: #3B4455;\n",
              "      --fill-color: #D2E3FC;\n",
              "      --hover-bg-color: #434B5C;\n",
              "      --hover-fill-color: #FFFFFF;\n",
              "      --disabled-bg-color: #3B4455;\n",
              "      --disabled-fill-color: #666;\n",
              "  }\n",
              "\n",
              "  .colab-df-quickchart {\n",
              "    background-color: var(--bg-color);\n",
              "    border: none;\n",
              "    border-radius: 50%;\n",
              "    cursor: pointer;\n",
              "    display: none;\n",
              "    fill: var(--fill-color);\n",
              "    height: 32px;\n",
              "    padding: 0;\n",
              "    width: 32px;\n",
              "  }\n",
              "\n",
              "  .colab-df-quickchart:hover {\n",
              "    background-color: var(--hover-bg-color);\n",
              "    box-shadow: 0 1px 2px rgba(60, 64, 67, 0.3), 0 1px 3px 1px rgba(60, 64, 67, 0.15);\n",
              "    fill: var(--button-hover-fill-color);\n",
              "  }\n",
              "\n",
              "  .colab-df-quickchart-complete:disabled,\n",
              "  .colab-df-quickchart-complete:disabled:hover {\n",
              "    background-color: var(--disabled-bg-color);\n",
              "    fill: var(--disabled-fill-color);\n",
              "    box-shadow: none;\n",
              "  }\n",
              "\n",
              "  .colab-df-spinner {\n",
              "    border: 2px solid var(--fill-color);\n",
              "    border-color: transparent;\n",
              "    border-bottom-color: var(--fill-color);\n",
              "    animation:\n",
              "      spin 1s steps(1) infinite;\n",
              "  }\n",
              "\n",
              "  @keyframes spin {\n",
              "    0% {\n",
              "      border-color: transparent;\n",
              "      border-bottom-color: var(--fill-color);\n",
              "      border-left-color: var(--fill-color);\n",
              "    }\n",
              "    20% {\n",
              "      border-color: transparent;\n",
              "      border-left-color: var(--fill-color);\n",
              "      border-top-color: var(--fill-color);\n",
              "    }\n",
              "    30% {\n",
              "      border-color: transparent;\n",
              "      border-left-color: var(--fill-color);\n",
              "      border-top-color: var(--fill-color);\n",
              "      border-right-color: var(--fill-color);\n",
              "    }\n",
              "    40% {\n",
              "      border-color: transparent;\n",
              "      border-right-color: var(--fill-color);\n",
              "      border-top-color: var(--fill-color);\n",
              "    }\n",
              "    60% {\n",
              "      border-color: transparent;\n",
              "      border-right-color: var(--fill-color);\n",
              "    }\n",
              "    80% {\n",
              "      border-color: transparent;\n",
              "      border-right-color: var(--fill-color);\n",
              "      border-bottom-color: var(--fill-color);\n",
              "    }\n",
              "    90% {\n",
              "      border-color: transparent;\n",
              "      border-bottom-color: var(--fill-color);\n",
              "    }\n",
              "  }\n",
              "</style>\n",
              "\n",
              "  <script>\n",
              "    async function quickchart(key) {\n",
              "      const quickchartButtonEl =\n",
              "        document.querySelector('#' + key + ' button');\n",
              "      quickchartButtonEl.disabled = true;  // To prevent multiple clicks.\n",
              "      quickchartButtonEl.classList.add('colab-df-spinner');\n",
              "      try {\n",
              "        const charts = await google.colab.kernel.invokeFunction(\n",
              "            'suggestCharts', [key], {});\n",
              "      } catch (error) {\n",
              "        console.error('Error during call to suggestCharts:', error);\n",
              "      }\n",
              "      quickchartButtonEl.classList.remove('colab-df-spinner');\n",
              "      quickchartButtonEl.classList.add('colab-df-quickchart-complete');\n",
              "    }\n",
              "    (() => {\n",
              "      let quickchartButtonEl =\n",
              "        document.querySelector('#df-8d4af2bf-ac5a-4d09-aeed-a06e030d9251 button');\n",
              "      quickchartButtonEl.style.display =\n",
              "        google.colab.kernel.accessAllowed ? 'block' : 'none';\n",
              "    })();\n",
              "  </script>\n",
              "</div>\n",
              "\n",
              "  <div id=\"id_0062b923-4165-4b5a-857d-f24cabb2a438\">\n",
              "    <style>\n",
              "      .colab-df-generate {\n",
              "        background-color: #E8F0FE;\n",
              "        border: none;\n",
              "        border-radius: 50%;\n",
              "        cursor: pointer;\n",
              "        display: none;\n",
              "        fill: #1967D2;\n",
              "        height: 32px;\n",
              "        padding: 0 0 0 0;\n",
              "        width: 32px;\n",
              "      }\n",
              "\n",
              "      .colab-df-generate:hover {\n",
              "        background-color: #E2EBFA;\n",
              "        box-shadow: 0px 1px 2px rgba(60, 64, 67, 0.3), 0px 1px 3px 1px rgba(60, 64, 67, 0.15);\n",
              "        fill: #174EA6;\n",
              "      }\n",
              "\n",
              "      [theme=dark] .colab-df-generate {\n",
              "        background-color: #3B4455;\n",
              "        fill: #D2E3FC;\n",
              "      }\n",
              "\n",
              "      [theme=dark] .colab-df-generate:hover {\n",
              "        background-color: #434B5C;\n",
              "        box-shadow: 0px 1px 3px 1px rgba(0, 0, 0, 0.15);\n",
              "        filter: drop-shadow(0px 1px 2px rgba(0, 0, 0, 0.3));\n",
              "        fill: #FFFFFF;\n",
              "      }\n",
              "    </style>\n",
              "    <button class=\"colab-df-generate\" onclick=\"generateWithVariable('df_flujo_vehicular')\"\n",
              "            title=\"Generate code using this dataframe.\"\n",
              "            style=\"display:none;\">\n",
              "\n",
              "  <svg xmlns=\"http://www.w3.org/2000/svg\" height=\"24px\"viewBox=\"0 0 24 24\"\n",
              "       width=\"24px\">\n",
              "    <path d=\"M7,19H8.4L18.45,9,17,7.55,7,17.6ZM5,21V16.75L18.45,3.32a2,2,0,0,1,2.83,0l1.4,1.43a1.91,1.91,0,0,1,.58,1.4,1.91,1.91,0,0,1-.58,1.4L9.25,21ZM18.45,9,17,7.55Zm-12,3A5.31,5.31,0,0,0,4.9,8.1,5.31,5.31,0,0,0,1,6.5,5.31,5.31,0,0,0,4.9,4.9,5.31,5.31,0,0,0,6.5,1,5.31,5.31,0,0,0,8.1,4.9,5.31,5.31,0,0,0,12,6.5,5.46,5.46,0,0,0,6.5,12Z\"/>\n",
              "  </svg>\n",
              "    </button>\n",
              "    <script>\n",
              "      (() => {\n",
              "      const buttonEl =\n",
              "        document.querySelector('#id_0062b923-4165-4b5a-857d-f24cabb2a438 button.colab-df-generate');\n",
              "      buttonEl.style.display =\n",
              "        google.colab.kernel.accessAllowed ? 'block' : 'none';\n",
              "\n",
              "      buttonEl.onclick = () => {\n",
              "        google.colab.notebook.generateWithVariable('df_flujo_vehicular');\n",
              "      }\n",
              "      })();\n",
              "    </script>\n",
              "  </div>\n",
              "\n",
              "    </div>\n",
              "  </div>\n"
            ],
            "application/vnd.google.colaboratory.intrinsic+json": {
              "type": "dataframe",
              "variable_name": "df_flujo_vehicular"
            }
          },
          "metadata": {},
          "execution_count": 131
        }
      ]
    },
    {
      "cell_type": "markdown",
      "source": [
        "Creeria que esta info no nos sirve demasiado"
      ],
      "metadata": {
        "id": "sstdD7b8g-WV"
      }
    },
    {
      "cell_type": "markdown",
      "source": [
        "# Universidades"
      ],
      "metadata": {
        "id": "j-PDZqiVh5gh"
      }
    },
    {
      "cell_type": "code",
      "source": [
        "df_universidades = pd.read_csv('/content/drive/MyDrive/universidades.csv')\n",
        "df_universidades.rename(columns={'long': 'lon'}, inplace=True)\n",
        "# Convertir a GeoDataFrame\n",
        "gdf_universidades = gpd.GeoDataFrame(\n",
        "    df_universidades,\n",
        "    geometry=gpd.points_from_xy(df_universidades['lon'], df_universidades['lat']),\n",
        "    crs='EPSG:4326'\n",
        ")"
      ],
      "metadata": {
        "id": "zc0YjyZQiP9C"
      },
      "execution_count": null,
      "outputs": []
    },
    {
      "cell_type": "code",
      "source": [
        "gdf_universidades = gdf_universidades.drop_duplicates(subset='geometry')"
      ],
      "metadata": {
        "id": "F0fxak-EjTHT"
      },
      "execution_count": null,
      "outputs": []
    },
    {
      "cell_type": "code",
      "source": [
        "gdf_universidades[\"regimen\"].unique()"
      ],
      "metadata": {
        "colab": {
          "base_uri": "https://localhost:8080/"
        },
        "id": "s5fYsCedjcCn",
        "outputId": "54404afb-e1ea-4e6e-bdc7-74202e0e5d8b"
      },
      "execution_count": null,
      "outputs": [
        {
          "output_type": "execute_result",
          "data": {
            "text/plain": [
              "array(['Privado', 'Público'], dtype=object)"
            ]
          },
          "metadata": {},
          "execution_count": 145
        }
      ]
    },
    {
      "cell_type": "code",
      "source": [
        "import geopandas as gpd\n",
        "\n",
        "# 1. Reproyectar a un CRS métrico para calcular distancias en metros\n",
        "tiendas_caba_metros = tiendas_caba.to_crs(epsg=3857)\n",
        "gdf_universidades_metros = gdf_universidades.to_crs(epsg=3857)\n",
        "\n",
        "# 2. Crear un buffer de 200 metros alrededor de cada tienda\n",
        "tiendas_caba_metros['buffer'] = tiendas_caba_metros.geometry.buffer(200)\n",
        "tiendas_caba_metros = tiendas_caba_metros.set_geometry('buffer')\n",
        "\n",
        "# 3. Contar universidades privadas dentro del buffer\n",
        "gdf_uni_privadas = gdf_universidades_metros[gdf_universidades_metros['regimen'] == 'Privado']\n",
        "gdf_join_privadas = gpd.sjoin(gdf_uni_privadas, tiendas_caba_metros[['geometry', 'buffer']], how='left', op='within')\n",
        "tiendas_caba_metros['uni_privada_200mts'] = gdf_join_privadas.groupby(gdf_join_privadas.index_right).size()\n",
        "\n",
        "# 4. Contar universidades públicas dentro del buffer\n",
        "gdf_uni_publicas = gdf_universidades_metros[gdf_universidades_metros['regimen'] == 'Público']\n",
        "gdf_join_publicas = gpd.sjoin(gdf_uni_publicas, tiendas_caba_metros[['geometry', 'buffer']], how='left', op='within')\n",
        "tiendas_caba_metros['uni_publica_200mts'] = gdf_join_publicas.groupby(gdf_join_publicas.index_right).size()\n",
        "\n",
        "# 5. Reemplazar NaN por 0 en caso de que no haya universidades en el buffer de alguna tienda\n",
        "tiendas_caba['uni_privada_200mts'] = tiendas_caba_metros['uni_privada_200mts'].fillna(0)\n",
        "tiendas_caba['uni_publica_200mts'] = tiendas_caba_metros['uni_publica_200mts'].fillna(0)\n"
      ],
      "metadata": {
        "colab": {
          "base_uri": "https://localhost:8080/"
        },
        "id": "a5T8M9nDlLQb",
        "outputId": "405d62bc-b60f-4ea5-88ad-79dd857058b6"
      },
      "execution_count": null,
      "outputs": [
        {
          "output_type": "stream",
          "name": "stderr",
          "text": [
            "/usr/local/lib/python3.10/dist-packages/IPython/core/interactiveshell.py:3473: FutureWarning: The `op` parameter is deprecated and will be removed in a future release. Please use the `predicate` parameter instead.\n",
            "  if (await self.run_code(code, result,  async_=asy)):\n",
            "/usr/local/lib/python3.10/dist-packages/IPython/core/interactiveshell.py:3473: FutureWarning: The `op` parameter is deprecated and will be removed in a future release. Please use the `predicate` parameter instead.\n",
            "  if (await self.run_code(code, result,  async_=asy)):\n"
          ]
        }
      ]
    },
    {
      "cell_type": "code",
      "source": [
        "tiendas_caba[\"uni_privada_200mts\"].mean()"
      ],
      "metadata": {
        "colab": {
          "base_uri": "https://localhost:8080/"
        },
        "id": "a-de_ppmlgUM",
        "outputId": "fa12f912-76e6-429f-953b-333037770433"
      },
      "execution_count": null,
      "outputs": [
        {
          "output_type": "execute_result",
          "data": {
            "text/plain": [
              "0.08268330733229329"
            ]
          },
          "metadata": {},
          "execution_count": 35
        }
      ]
    },
    {
      "cell_type": "code",
      "source": [
        "tiendas_caba[\"uni_publica_200mts\"].mean()"
      ],
      "metadata": {
        "colab": {
          "base_uri": "https://localhost:8080/"
        },
        "id": "lf7tWLnalplZ",
        "outputId": "cbe3a3c2-556f-49f5-bb5d-677418b17a6f"
      },
      "execution_count": null,
      "outputs": [
        {
          "output_type": "execute_result",
          "data": {
            "text/plain": [
              "0.036550033429908625"
            ]
          },
          "metadata": {},
          "execution_count": 36
        }
      ]
    },
    {
      "cell_type": "code",
      "source": [
        "# 1. Reproyectar a un CRS métrico para calcular distancias en metros\n",
        "tiendas_caba_metros = tiendas_caba.to_crs(epsg=3857)\n",
        "gdf_universidades_metros = gdf_universidades.to_crs(epsg=3857)\n",
        "\n",
        "# 2. Crear un buffer de 1000 metros alrededor de cada tienda\n",
        "tiendas_caba_metros['buffer'] = tiendas_caba_metros.geometry.buffer(1000)\n",
        "tiendas_caba_metros = tiendas_caba_metros.set_geometry('buffer')\n",
        "\n",
        "# 3. Contar universidades privadas dentro del buffer\n",
        "gdf_uni_privadas = gdf_universidades_metros[gdf_universidades_metros['regimen'] == 'Privado']\n",
        "gdf_join_privadas = gpd.sjoin(gdf_uni_privadas, tiendas_caba_metros[['geometry', 'buffer']], how='left', op='within')\n",
        "tiendas_caba_metros['uni_privada_1000mts'] = gdf_join_privadas.groupby(gdf_join_privadas.index_right).size()\n",
        "\n",
        "# 4. Contar universidades públicas dentro del buffer\n",
        "gdf_uni_publicas = gdf_universidades_metros[gdf_universidades_metros['regimen'] == 'Público']\n",
        "gdf_join_publicas = gpd.sjoin(gdf_uni_publicas, tiendas_caba_metros[['geometry', 'buffer']], how='left', op='within')\n",
        "tiendas_caba_metros['uni_publica_1000mts'] = gdf_join_publicas.groupby(gdf_join_publicas.index_right).size()\n",
        "\n",
        "# 5. Reemplazar NaN por 0 en caso de que no haya universidades en el buffer de alguna tienda\n",
        "tiendas_caba['uni_privada_1000mts'] = tiendas_caba_metros['uni_privada_1000mts'].fillna(0)\n",
        "tiendas_caba['uni_publica_1000mts'] = tiendas_caba_metros['uni_publica_1000mts'].fillna(0)\n"
      ],
      "metadata": {
        "id": "j_YOrlqplvlc",
        "colab": {
          "base_uri": "https://localhost:8080/"
        },
        "outputId": "4d96ac34-e8f8-4e97-c585-df819d1bc53f"
      },
      "execution_count": null,
      "outputs": [
        {
          "output_type": "stream",
          "name": "stderr",
          "text": [
            "/usr/local/lib/python3.10/dist-packages/IPython/core/interactiveshell.py:3473: FutureWarning: The `op` parameter is deprecated and will be removed in a future release. Please use the `predicate` parameter instead.\n",
            "  if (await self.run_code(code, result,  async_=asy)):\n",
            "/usr/local/lib/python3.10/dist-packages/IPython/core/interactiveshell.py:3473: FutureWarning: The `op` parameter is deprecated and will be removed in a future release. Please use the `predicate` parameter instead.\n",
            "  if (await self.run_code(code, result,  async_=asy)):\n"
          ]
        }
      ]
    },
    {
      "cell_type": "code",
      "source": [
        "tiendas_caba['uni_privada_1000mts'].mean()"
      ],
      "metadata": {
        "colab": {
          "base_uri": "https://localhost:8080/"
        },
        "id": "cLjhyXHvmEDK",
        "outputId": "63aee6d0-934c-427c-9c0f-b1a90f27949f"
      },
      "execution_count": null,
      "outputs": [
        {
          "output_type": "execute_result",
          "data": {
            "text/plain": [
              "2.0309783819924228"
            ]
          },
          "metadata": {},
          "execution_count": 38
        }
      ]
    },
    {
      "cell_type": "code",
      "source": [
        "tiendas_caba['uni_publica_1000mts'].mean()"
      ],
      "metadata": {
        "colab": {
          "base_uri": "https://localhost:8080/"
        },
        "id": "7DYAuRxLmBuf",
        "outputId": "9898f2da-d261-4425-f399-aae5b15f5fbf"
      },
      "execution_count": null,
      "outputs": [
        {
          "output_type": "execute_result",
          "data": {
            "text/plain": [
              "0.9362603075551593"
            ]
          },
          "metadata": {},
          "execution_count": 39
        }
      ]
    },
    {
      "cell_type": "code",
      "source": [
        "import matplotlib.pyplot as plt\n",
        "import geopandas as gpd\n",
        "\n",
        "prov_caba = prov_caba.to_crs(epsg=4326)\n",
        "tiendas_caba = tiendas_caba.to_crs(epsg=4326)\n",
        "gdf_universidades = gdf_universidades.to_crs(epsg=4326)\n",
        "\n",
        "universidades_publicas = gdf_universidades[gdf_universidades['regimen'] == 'Público']\n",
        "universidades_privadas = gdf_universidades[gdf_universidades['regimen'] == 'Privado']\n",
        "\n",
        "fig, ax = plt.subplots(figsize=(10, 10))\n",
        "\n",
        "prov_caba.plot(ax=ax, color='lightgrey', edgecolor='black', alpha=0.5, label='CABA y Buenos Aires')\n",
        "tiendas_caba.plot(ax=ax, marker='o', color='lightblue', markersize=10, label='Tiendas',alpha=0.8)\n",
        "universidades_publicas.plot(ax=ax, marker='o', color='red', markersize=10, label='Universidades Públicas')\n",
        "universidades_privadas.plot(ax=ax, marker='o', color='green', markersize=10, label='Universidades Privadas')\n",
        "\n",
        "plt.title('Tiendas y Universidades en CABA')\n",
        "plt.legend()\n",
        "plt.show()\n"
      ],
      "metadata": {
        "id": "a-TQkhUJmleO"
      },
      "execution_count": null,
      "outputs": []
    },
    {
      "cell_type": "markdown",
      "source": [
        "# Estadios"
      ],
      "metadata": {
        "id": "ckbs62Qhn36z"
      }
    },
    {
      "cell_type": "code",
      "source": [
        "df_estadios = pd.read_csv('/content/drive/MyDrive/estadios.csv')\n",
        "df_estadios.rename(columns={'long': 'lon'}, inplace=True)\n",
        "# Convertir a GeoDataFrame\n",
        "gdf_estadios = gpd.GeoDataFrame(\n",
        "    df_estadios,\n",
        "    geometry=gpd.points_from_xy(df_estadios['lon'], df_estadios['lat']),\n",
        "    crs='EPSG:4326'\n",
        ")"
      ],
      "metadata": {
        "id": "S3ceBSzNn0Pf"
      },
      "execution_count": null,
      "outputs": []
    },
    {
      "cell_type": "code",
      "source": [
        "gdf_estadios.columns"
      ],
      "metadata": {
        "colab": {
          "base_uri": "https://localhost:8080/"
        },
        "id": "mN4ptY3-oCVz",
        "outputId": "cb4f78fb-05ee-40bc-95ed-e278c9dcf76c"
      },
      "execution_count": null,
      "outputs": [
        {
          "output_type": "execute_result",
          "data": {
            "text/plain": [
              "Index(['lon', 'lat', 'id', 'club', 'estadio', 'web', 'facebook', 'twitter',\n",
              "       'contacto', 'objeto', 'calle', 'altura', 'barrio', 'comuna',\n",
              "       'codigo_postal', 'codigo_postal_argentino', 'geometry'],\n",
              "      dtype='object')"
            ]
          },
          "metadata": {},
          "execution_count": 161
        }
      ]
    },
    {
      "cell_type": "code",
      "source": [
        "# 2. Reproyectar a un CRS métrico para calcular distancias en metros\n",
        "tiendas_caba_metros = tiendas_caba.to_crs(epsg=3857)\n",
        "gdf_estadios_metros = gdf_estadios.to_crs(epsg=3857)\n",
        "\n",
        "# 3. Crear un buffer de 200 metros alrededor de cada tienda (aproximadamente dos cuadras)\n",
        "tiendas_caba_metros['buffer'] = tiendas_caba_metros.geometry.buffer(200)\n",
        "tiendas_caba_metros = tiendas_caba_metros.set_geometry('buffer')\n",
        "\n",
        "# 4. Hacer un spatial join para contar cuántas estaciones están dentro del buffer\n",
        "gdf_join = gpd.sjoin(gdf_estadios_metros, tiendas_caba_metros[['geometry', 'buffer']], how='left', op='within')\n",
        "\n",
        "# 5. Contar cuántas estaciones caen dentro del buffer para cada tienda\n",
        "tiendas_caba['estadios_200mts'] = gdf_join.groupby(gdf_join.index_right).size()\n",
        "\n",
        "# Reemplazar NaN por 0 en caso de que no haya estaciones en el buffer de alguna tienda\n",
        "tiendas_caba['estadios_200mts'] = tiendas_caba['estadios_200mts'].fillna(0)"
      ],
      "metadata": {
        "colab": {
          "base_uri": "https://localhost:8080/"
        },
        "id": "REMMO6qaoRwK",
        "outputId": "ac79282f-e38c-4f27-d366-45b5905a6bc0"
      },
      "execution_count": null,
      "outputs": [
        {
          "output_type": "stream",
          "name": "stderr",
          "text": [
            "/usr/local/lib/python3.10/dist-packages/IPython/core/interactiveshell.py:3473: FutureWarning: The `op` parameter is deprecated and will be removed in a future release. Please use the `predicate` parameter instead.\n",
            "  if (await self.run_code(code, result,  async_=asy)):\n"
          ]
        }
      ]
    },
    {
      "cell_type": "code",
      "source": [
        "tiendas_caba['estadios_200mts'].mean()"
      ],
      "metadata": {
        "colab": {
          "base_uri": "https://localhost:8080/"
        },
        "id": "5EakXJb0okdi",
        "outputId": "377b7330-48d1-41e5-ba4d-1bf2cfa14825"
      },
      "execution_count": null,
      "outputs": [
        {
          "output_type": "execute_result",
          "data": {
            "text/plain": [
              "0.005348785379986628"
            ]
          },
          "metadata": {},
          "execution_count": 48
        }
      ]
    },
    {
      "cell_type": "code",
      "source": [
        "# 2. Reproyectar a un CRS métrico para calcular distancias en metros\n",
        "tiendas_caba_metros = tiendas_caba.to_crs(epsg=3857)\n",
        "gdf_estadios_metros = gdf_estadios.to_crs(epsg=3857)\n",
        "\n",
        "# 3. Crear un buffer de 200 metros alrededor de cada tienda (aproximadamente dos cuadras)\n",
        "tiendas_caba_metros['buffer'] = tiendas_caba_metros.geometry.buffer(1000)\n",
        "tiendas_caba_metros = tiendas_caba_metros.set_geometry('buffer')\n",
        "\n",
        "# 4. Hacer un spatial join para contar cuántas estaciones están dentro del buffer\n",
        "gdf_join = gpd.sjoin(gdf_estadios_metros, tiendas_caba_metros[['geometry', 'buffer']], how='left', op='within')\n",
        "\n",
        "# 5. Contar cuántas estaciones caen dentro del buffer para cada tienda\n",
        "tiendas_caba['estadios_1000mts'] = gdf_join.groupby(gdf_join.index_right).size()\n",
        "\n",
        "# Reemplazar NaN por 0 en caso de que no haya estaciones en el buffer de alguna tienda\n",
        "tiendas_caba['estadios_1000mts'] = tiendas_caba['estadios_1000mts'].fillna(0)"
      ],
      "metadata": {
        "colab": {
          "base_uri": "https://localhost:8080/"
        },
        "id": "Ra5os27aopNO",
        "outputId": "e7c3a2ac-ca5b-45b3-b8c9-a77465dd91fc"
      },
      "execution_count": null,
      "outputs": [
        {
          "output_type": "stream",
          "name": "stderr",
          "text": [
            "/usr/local/lib/python3.10/dist-packages/IPython/core/interactiveshell.py:3473: FutureWarning: The `op` parameter is deprecated and will be removed in a future release. Please use the `predicate` parameter instead.\n",
            "  if (await self.run_code(code, result,  async_=asy)):\n"
          ]
        }
      ]
    },
    {
      "cell_type": "code",
      "source": [
        "tiendas_caba['estadios_1000mts'].mean()"
      ],
      "metadata": {
        "colab": {
          "base_uri": "https://localhost:8080/"
        },
        "id": "-sqVXk6RpH6D",
        "outputId": "cebf4be5-f192-4849-d389-adfba3317c39"
      },
      "execution_count": null,
      "outputs": [
        {
          "output_type": "execute_result",
          "data": {
            "text/plain": [
              "0.1918876755070203"
            ]
          },
          "metadata": {},
          "execution_count": 49
        }
      ]
    },
    {
      "cell_type": "code",
      "source": [
        "# Gráfico\n",
        "prov_caba = prov_caba.to_crs(epsg=4326)\n",
        "\n",
        "# Crear la figura y el axis para el mapa\n",
        "fig, ax = plt.subplots(figsize=(10, 10))\n",
        "\n",
        "# Graficar los polígonos de CABA\n",
        "prov_caba.plot(ax=ax, color='lightgrey', edgecolor='black', alpha=0.3, label='CABA')\n",
        "\n",
        "# Graficar las tiendas con puntos azules\n",
        "tiendas_caba.plot(ax=ax, marker='o', color='lightblue', markersize=10, label='Tiendas')\n",
        "\n",
        "# Graficar con puntos rojos\n",
        "gdf_estadios.plot(ax=ax, marker='o', color='red', markersize=10, label='Estadios')\n",
        "\n",
        "# Añadir título y leyenda\n",
        "plt.title('Tiendas y Estadios en CABA')\n",
        "plt.legend()\n",
        "\n",
        "# Mostrar el gráfico\n",
        "plt.show()"
      ],
      "metadata": {
        "id": "06bddW_cpLXp"
      },
      "execution_count": null,
      "outputs": []
    },
    {
      "cell_type": "code",
      "source": [
        "import geopandas as gpd\n",
        "tiendas_caba_metros = tiendas_caba.to_crs(epsg=3857)\n",
        "gdf_estadios_metros = gdf_estadios.to_crs(epsg=3857)\n",
        "\n",
        "# 2. Crear un buffer de 1500 metros alrededor de cada tienda\n",
        "tiendas_caba_metros['buffer'] = tiendas_caba_metros.geometry.buffer(1500)\n",
        "tiendas_caba_metros = tiendas_caba_metros.set_geometry('buffer')\n",
        "\n",
        "# 3. Filtrar estadios de River Plate y Boca Juniors\n",
        "gdf_estadios_river = gdf_estadios_metros[gdf_estadios_metros['club'] == 'Club Atletico River Plate']\n",
        "gdf_estadios_boca = gdf_estadios_metros[gdf_estadios_metros['club'] == 'Club Atlético Boca Juniors']\n",
        "\n",
        "# 4. Realizar un spatial join para el estadio de River Plate\n",
        "gdf_join_river = gpd.sjoin(gdf_estadios_river, tiendas_caba_metros[['geometry', 'buffer']], how='left', op='within')\n",
        "\n",
        "# Crear la variable river_1500mts\n",
        "tiendas_caba['river_1500mts'] = gdf_join_river.groupby(gdf_join_river.index_right).size().reindex(tiendas_caba_metros.index, fill_value=0)\n",
        "tiendas_caba['river_1500mts'] = (tiendas_caba['river_1500mts'] > 0).astype(int)\n",
        "\n",
        "# 5. Realizar un spatial join para el estadio de Boca Juniors\n",
        "gdf_join_boca = gpd.sjoin(gdf_estadios_boca, tiendas_caba_metros[['geometry', 'buffer']], how='left', op='within')\n",
        "\n",
        "# Crear la variable boca_1500mts\n",
        "tiendas_caba['boca_1500mts'] = gdf_join_boca.groupby(gdf_join_boca.index_right).size().reindex(tiendas_caba_metros.index, fill_value=0)\n",
        "tiendas_caba['boca_1500mts'] = (tiendas_caba['boca_1500mts'] > 0).astype(int)\n",
        "\n"
      ],
      "metadata": {
        "colab": {
          "base_uri": "https://localhost:8080/"
        },
        "id": "Krk2desMtDNZ",
        "outputId": "64641874-78b9-4772-ba33-24704d410635"
      },
      "execution_count": null,
      "outputs": [
        {
          "output_type": "stream",
          "name": "stderr",
          "text": [
            "/usr/local/lib/python3.10/dist-packages/IPython/core/interactiveshell.py:3473: FutureWarning: The `op` parameter is deprecated and will be removed in a future release. Please use the `predicate` parameter instead.\n",
            "  if (await self.run_code(code, result,  async_=asy)):\n",
            "/usr/local/lib/python3.10/dist-packages/IPython/core/interactiveshell.py:3473: FutureWarning: The `op` parameter is deprecated and will be removed in a future release. Please use the `predicate` parameter instead.\n",
            "  if (await self.run_code(code, result,  async_=asy)):\n"
          ]
        }
      ]
    },
    {
      "cell_type": "markdown",
      "source": [
        "# Clubes"
      ],
      "metadata": {
        "id": "L8x1ZuErvgj6"
      }
    },
    {
      "cell_type": "code",
      "source": [
        "import pandas as pd\n",
        "import geopandas as gpd\n",
        "\n",
        "df_clubes = pd.read_csv('/content/drive/MyDrive/clubes.csv')\n",
        "df_clubes.rename(columns={'long': 'lon'}, inplace=True)\n",
        "\n",
        "df_clubes['lon'] = pd.to_numeric(df_clubes['lon'], errors='coerce')\n",
        "df_clubes['lat'] = pd.to_numeric(df_clubes['lat'], errors='coerce')\n",
        "print(df_clubes[['lon', 'lat']].isna().sum())"
      ],
      "metadata": {
        "id": "iWkxBwlvwZ2q",
        "colab": {
          "base_uri": "https://localhost:8080/"
        },
        "outputId": "f974b65d-19de-4ccb-da16-661ab022f01b"
      },
      "execution_count": null,
      "outputs": [
        {
          "output_type": "stream",
          "name": "stdout",
          "text": [
            "lon    1\n",
            "lat    1\n",
            "dtype: int64\n"
          ]
        }
      ]
    },
    {
      "cell_type": "code",
      "source": [
        "df_clubes = df_clubes.dropna(subset=['lon', 'lat'])\n",
        "\n",
        "# Convertir a GeoDataFrame\n",
        "gdf_clubes = gpd.GeoDataFrame(\n",
        "    df_clubes,\n",
        "    geometry=gpd.points_from_xy(df_clubes['lon'], df_clubes['lat']),\n",
        "    crs='EPSG:4326'\n",
        ")"
      ],
      "metadata": {
        "id": "9Nck0BqWwh3z"
      },
      "execution_count": null,
      "outputs": []
    },
    {
      "cell_type": "code",
      "source": [
        "# 2. Reproyectar a un CRS métrico para calcular distancias en metros\n",
        "tiendas_caba_metros = tiendas_caba.to_crs(epsg=3857)\n",
        "gdf_clubes_metros = gdf_clubes.to_crs(epsg=3857)\n",
        "\n",
        "# 3. Crear un buffer de 200 metros alrededor de cada tienda (aproximadamente dos cuadras)\n",
        "tiendas_caba_metros['buffer'] = tiendas_caba_metros.geometry.buffer(200)\n",
        "tiendas_caba_metros = tiendas_caba_metros.set_geometry('buffer')\n",
        "\n",
        "# 4. Hacer un spatial join para contar cuántas estaciones están dentro del buffer\n",
        "gdf_join = gpd.sjoin(gdf_clubes_metros, tiendas_caba_metros[['geometry', 'buffer']], how='left', op='within')\n",
        "\n",
        "# 5. Contar cuántas estaciones caen dentro del buffer para cada tienda\n",
        "tiendas_caba['clubes_200mts'] = gdf_join.groupby(gdf_join.index_right).size()\n",
        "\n",
        "# Reemplazar NaN por 0 en caso de que no haya estaciones en el buffer de alguna tienda\n",
        "tiendas_caba['clubes_200mts'] = tiendas_caba['clubes_200mts'].fillna(0)"
      ],
      "metadata": {
        "colab": {
          "base_uri": "https://localhost:8080/"
        },
        "id": "-YohgHE5vsL5",
        "outputId": "9a4e96f7-b230-4e38-ef5b-15b4970c07df"
      },
      "execution_count": null,
      "outputs": [
        {
          "output_type": "stream",
          "name": "stderr",
          "text": [
            "/usr/local/lib/python3.10/dist-packages/IPython/core/interactiveshell.py:3473: FutureWarning: The `op` parameter is deprecated and will be removed in a future release. Please use the `predicate` parameter instead.\n",
            "  if (await self.run_code(code, result,  async_=asy)):\n"
          ]
        }
      ]
    },
    {
      "cell_type": "code",
      "source": [
        "tiendas_caba['clubes_200mts'].mean()"
      ],
      "metadata": {
        "colab": {
          "base_uri": "https://localhost:8080/"
        },
        "id": "uQ7mPTpxw8iw",
        "outputId": "7a2b2533-c361-4787-98d8-9c8aa7f48ff2"
      },
      "execution_count": null,
      "outputs": [
        {
          "output_type": "execute_result",
          "data": {
            "text/plain": [
              "0.1305995096946735"
            ]
          },
          "metadata": {},
          "execution_count": 50
        }
      ]
    },
    {
      "cell_type": "code",
      "source": [
        "# 2. Reproyectar a un CRS métrico para calcular distancias en metros\n",
        "tiendas_caba_metros = tiendas_caba.to_crs(epsg=3857)\n",
        "gdf_clubes_metros = gdf_clubes.to_crs(epsg=3857)\n",
        "\n",
        "# 3. Crear un buffer de 1000 metros alrededor de cada tienda\n",
        "tiendas_caba_metros['buffer'] = tiendas_caba_metros.geometry.buffer(1000)\n",
        "tiendas_caba_metros = tiendas_caba_metros.set_geometry('buffer')\n",
        "\n",
        "# 4. Hacer un spatial join para contar cuántas estaciones están dentro del buffer\n",
        "gdf_join = gpd.sjoin(gdf_clubes_metros, tiendas_caba_metros[['geometry', 'buffer']], how='left', op='within')\n",
        "\n",
        "# 5. Contar cuántas estaciones caen dentro del buffer para cada tienda\n",
        "tiendas_caba['clubes_1000mts'] = gdf_join.groupby(gdf_join.index_right).size()\n",
        "\n",
        "# Reemplazar NaN por 0 en caso de que no haya estaciones en el buffer de alguna tienda\n",
        "tiendas_caba['clubes_1000mts'] = tiendas_caba['clubes_1000mts'].fillna(0)"
      ],
      "metadata": {
        "colab": {
          "base_uri": "https://localhost:8080/"
        },
        "id": "H91UXVIPxAdQ",
        "outputId": "92ce67f9-3769-40dc-fe20-cd9a563cdef5"
      },
      "execution_count": null,
      "outputs": [
        {
          "output_type": "stream",
          "name": "stderr",
          "text": [
            "/usr/local/lib/python3.10/dist-packages/IPython/core/interactiveshell.py:3473: FutureWarning: The `op` parameter is deprecated and will be removed in a future release. Please use the `predicate` parameter instead.\n",
            "  if (await self.run_code(code, result,  async_=asy)):\n"
          ]
        }
      ]
    },
    {
      "cell_type": "code",
      "source": [
        "tiendas_caba['clubes_1000mts'].mean()"
      ],
      "metadata": {
        "colab": {
          "base_uri": "https://localhost:8080/"
        },
        "id": "oX4J5Go-xHt0",
        "outputId": "4f2281d5-376a-49d8-84b6-8323f0e77d05"
      },
      "execution_count": null,
      "outputs": [
        {
          "output_type": "execute_result",
          "data": {
            "text/plain": [
              "3.1297080454646755"
            ]
          },
          "metadata": {},
          "execution_count": 51
        }
      ]
    },
    {
      "cell_type": "code",
      "source": [
        "prov_caba = prov_caba.to_crs(epsg=4326)\n",
        "\n",
        "# Crear la figura y el axis para el mapa\n",
        "fig, ax = plt.subplots(figsize=(10, 10))\n",
        "\n",
        "prov_caba.plot(ax=ax, color='lightgrey', edgecolor='black', alpha=0.5, label='CABA')\n",
        "tiendas_caba.plot(ax=ax, marker='o', color='lightblue', markersize=10, label='Tiendas')\n",
        "gdf_clubes.plot(ax=ax, marker='o', color='red', markersize=10, label='Clubes')\n",
        "\n",
        "plt.title('Tiendas y Clubes en CABA')\n",
        "plt.legend()\n",
        "plt.show()"
      ],
      "metadata": {
        "id": "btr2Zz29xKKM"
      },
      "execution_count": null,
      "outputs": []
    },
    {
      "cell_type": "markdown",
      "source": [
        "# Final"
      ],
      "metadata": {
        "id": "LaToO-pyxy3Y"
      }
    },
    {
      "cell_type": "code",
      "source": [
        "import pandas as pd\n",
        "\n",
        "# Convertir la geometría a WKT (Well-Known Text)\n",
        "#tiendas_caba['geometry'] = tiendas_caba['geometry'].apply(lambda x: x.wkt)\n",
        "\n",
        "# Guardar el DataFrame como un archivo CSV\n",
        "tiendas_caba.to_csv('/content/drive/MyDrive/tiendas_caba_def.csv', index=False)\n"
      ],
      "metadata": {
        "id": "L4oYgGb8yFsK"
      },
      "execution_count": null,
      "outputs": []
    },
    {
      "cell_type": "code",
      "source": [
        "!ls /content/drive/MyDrive/"
      ],
      "metadata": {
        "id": "mo7ALcSbZPfL"
      },
      "execution_count": null,
      "outputs": []
    },
    {
      "cell_type": "markdown",
      "source": [
        "# EDA"
      ],
      "metadata": {
        "id": "kQ7lIJhcoq8V"
      }
    },
    {
      "cell_type": "code",
      "source": [
        "from google.colab import drive\n",
        "import pandas as pd\n",
        "\n",
        "drive.mount('/content/drive')\n",
        "\n",
        "# Leer csv\n",
        "df_tiendas = pd.read_csv('/content/drive/MyDrive/2024 2Q/Proyecto Final/TP Proyecto/Código/tiendas_caba_v3.csv')"
      ],
      "metadata": {
        "colab": {
          "base_uri": "https://localhost:8080/"
        },
        "id": "JpN1RDvUotcu",
        "outputId": "177e4a57-d8d7-4db9-8459-8c40133fb021"
      },
      "execution_count": null,
      "outputs": [
        {
          "output_type": "stream",
          "name": "stdout",
          "text": [
            "Mounted at /content/drive\n"
          ]
        }
      ]
    },
    {
      "cell_type": "code",
      "source": [
        "df_tiendas.columns"
      ],
      "metadata": {
        "id": "yuiINUr7o7rr"
      },
      "execution_count": null,
      "outputs": []
    },
    {
      "cell_type": "code",
      "source": [
        "# Leer csv\n",
        "import geopandas as gpd\n",
        "customers = pd.read_csv('/content/drive/MyDrive/customers_ar.csv')\n",
        "provincia = gpd.read_file('/content/drive/MyDrive/provincia.shp')\n",
        "orders = pd.read_csv('/content/drive/MyDrive/orders_ar.csv')"
      ],
      "metadata": {
        "colab": {
          "base_uri": "https://localhost:8080/"
        },
        "id": "v_orT8QbxN7R",
        "outputId": "7b8d5f62-6c80-46c6-fd61-ac4f1ce7757d"
      },
      "execution_count": null,
      "outputs": [
        {
          "output_type": "stream",
          "name": "stderr",
          "text": [
            "<ipython-input-2-8cd112f9cf95>:5: DtypeWarning: Columns (12,32) have mixed types. Specify dtype option on import or set low_memory=False.\n",
            "  orders = pd.read_csv('/content/drive/MyDrive/orders_ar.csv')\n"
          ]
        }
      ]
    },
    {
      "cell_type": "code",
      "source": [
        "# 1. Filtrar las provincias de CABA\n",
        "prov_caba = provincia[provincia['nam'].isin(['Ciudad Autónoma de Buenos Aires'])]"
      ],
      "metadata": {
        "id": "nqerLh1w2zZ4"
      },
      "execution_count": null,
      "outputs": []
    },
    {
      "cell_type": "code",
      "source": [
        "orders.columns"
      ],
      "metadata": {
        "colab": {
          "base_uri": "https://localhost:8080/"
        },
        "id": "ylGRjx0Txd0t",
        "outputId": "48aafcb4-eb89-432a-c9f4-9a18ccc600ab"
      },
      "execution_count": null,
      "outputs": [
        {
          "output_type": "execute_result",
          "data": {
            "text/plain": [
              "Index(['Unnamed: 0', 'id', 'supplier_order_id', 'order_id', 'ship_at',\n",
              "       'shipped_at', 'supplier_id', 'customer_id', 'canceler',\n",
              "       'supplier_reason', 'supplier_comment', 'customer_reason',\n",
              "       'customer_comment', 'total', 'discount_amount', 'created_at',\n",
              "       'confirmed_at', 'canceled_at', 'updated_at', 'credits_paid',\n",
              "       'money_paid', 'service_fee', 'discount_id', 'delivery_lat',\n",
              "       'delivery_lon', 'delivery_cost', 'final_amount', 'formatted_address',\n",
              "       'customer_type_code', 'additional_info', 'promotions_amount',\n",
              "       'state_id', 'postal_code'],\n",
              "      dtype='object')"
            ]
          },
          "metadata": {},
          "execution_count": 19
        }
      ]
    },
    {
      "cell_type": "code",
      "source": [
        "# Suponiendo que tu DataFrame se llama 'orders'\n",
        "df_grouped = orders.groupby('customer_id').agg(\n",
        "    cantidad_ordenes=('customer_id', 'size'),    # Cuenta la cantidad de órdenes por cliente\n",
        "    monto_promedio=('final_amount', 'mean')      # Calcula el monto promedio de las órdenes\n",
        ").reset_index()"
      ],
      "metadata": {
        "id": "Ml4W-OgCy7I4"
      },
      "execution_count": null,
      "outputs": []
    },
    {
      "cell_type": "code",
      "source": [
        "df_grouped"
      ],
      "metadata": {
        "colab": {
          "base_uri": "https://localhost:8080/",
          "height": 423
        },
        "id": "_gYu0fWJzARl",
        "outputId": "60aa3383-53f1-4707-d3e0-cd5171c111d4"
      },
      "execution_count": null,
      "outputs": [
        {
          "output_type": "execute_result",
          "data": {
            "text/plain": [
              "      customer_id  cantidad_ordenes  monto_promedio\n",
              "0              15                15    18167.628462\n",
              "1              17                70    15446.260357\n",
              "2              18               134     7319.049367\n",
              "3              20                86    16400.069155\n",
              "4              21                56    12143.823061\n",
              "...           ...               ...             ...\n",
              "4630       355153                41   232118.295313\n",
              "4631       356616                75    87460.205333\n",
              "4632       356647                83   118225.955970\n",
              "4633       359221                60   107304.423333\n",
              "4634       365485                57    90286.111600\n",
              "\n",
              "[4635 rows x 3 columns]"
            ],
            "text/html": [
              "\n",
              "  <div id=\"df-095d0d52-9193-4bd6-9a90-40e2074c89ff\" class=\"colab-df-container\">\n",
              "    <div>\n",
              "<style scoped>\n",
              "    .dataframe tbody tr th:only-of-type {\n",
              "        vertical-align: middle;\n",
              "    }\n",
              "\n",
              "    .dataframe tbody tr th {\n",
              "        vertical-align: top;\n",
              "    }\n",
              "\n",
              "    .dataframe thead th {\n",
              "        text-align: right;\n",
              "    }\n",
              "</style>\n",
              "<table border=\"1\" class=\"dataframe\">\n",
              "  <thead>\n",
              "    <tr style=\"text-align: right;\">\n",
              "      <th></th>\n",
              "      <th>customer_id</th>\n",
              "      <th>cantidad_ordenes</th>\n",
              "      <th>monto_promedio</th>\n",
              "    </tr>\n",
              "  </thead>\n",
              "  <tbody>\n",
              "    <tr>\n",
              "      <th>0</th>\n",
              "      <td>15</td>\n",
              "      <td>15</td>\n",
              "      <td>18167.628462</td>\n",
              "    </tr>\n",
              "    <tr>\n",
              "      <th>1</th>\n",
              "      <td>17</td>\n",
              "      <td>70</td>\n",
              "      <td>15446.260357</td>\n",
              "    </tr>\n",
              "    <tr>\n",
              "      <th>2</th>\n",
              "      <td>18</td>\n",
              "      <td>134</td>\n",
              "      <td>7319.049367</td>\n",
              "    </tr>\n",
              "    <tr>\n",
              "      <th>3</th>\n",
              "      <td>20</td>\n",
              "      <td>86</td>\n",
              "      <td>16400.069155</td>\n",
              "    </tr>\n",
              "    <tr>\n",
              "      <th>4</th>\n",
              "      <td>21</td>\n",
              "      <td>56</td>\n",
              "      <td>12143.823061</td>\n",
              "    </tr>\n",
              "    <tr>\n",
              "      <th>...</th>\n",
              "      <td>...</td>\n",
              "      <td>...</td>\n",
              "      <td>...</td>\n",
              "    </tr>\n",
              "    <tr>\n",
              "      <th>4630</th>\n",
              "      <td>355153</td>\n",
              "      <td>41</td>\n",
              "      <td>232118.295313</td>\n",
              "    </tr>\n",
              "    <tr>\n",
              "      <th>4631</th>\n",
              "      <td>356616</td>\n",
              "      <td>75</td>\n",
              "      <td>87460.205333</td>\n",
              "    </tr>\n",
              "    <tr>\n",
              "      <th>4632</th>\n",
              "      <td>356647</td>\n",
              "      <td>83</td>\n",
              "      <td>118225.955970</td>\n",
              "    </tr>\n",
              "    <tr>\n",
              "      <th>4633</th>\n",
              "      <td>359221</td>\n",
              "      <td>60</td>\n",
              "      <td>107304.423333</td>\n",
              "    </tr>\n",
              "    <tr>\n",
              "      <th>4634</th>\n",
              "      <td>365485</td>\n",
              "      <td>57</td>\n",
              "      <td>90286.111600</td>\n",
              "    </tr>\n",
              "  </tbody>\n",
              "</table>\n",
              "<p>4635 rows × 3 columns</p>\n",
              "</div>\n",
              "    <div class=\"colab-df-buttons\">\n",
              "\n",
              "  <div class=\"colab-df-container\">\n",
              "    <button class=\"colab-df-convert\" onclick=\"convertToInteractive('df-095d0d52-9193-4bd6-9a90-40e2074c89ff')\"\n",
              "            title=\"Convert this dataframe to an interactive table.\"\n",
              "            style=\"display:none;\">\n",
              "\n",
              "  <svg xmlns=\"http://www.w3.org/2000/svg\" height=\"24px\" viewBox=\"0 -960 960 960\">\n",
              "    <path d=\"M120-120v-720h720v720H120Zm60-500h600v-160H180v160Zm220 220h160v-160H400v160Zm0 220h160v-160H400v160ZM180-400h160v-160H180v160Zm440 0h160v-160H620v160ZM180-180h160v-160H180v160Zm440 0h160v-160H620v160Z\"/>\n",
              "  </svg>\n",
              "    </button>\n",
              "\n",
              "  <style>\n",
              "    .colab-df-container {\n",
              "      display:flex;\n",
              "      gap: 12px;\n",
              "    }\n",
              "\n",
              "    .colab-df-convert {\n",
              "      background-color: #E8F0FE;\n",
              "      border: none;\n",
              "      border-radius: 50%;\n",
              "      cursor: pointer;\n",
              "      display: none;\n",
              "      fill: #1967D2;\n",
              "      height: 32px;\n",
              "      padding: 0 0 0 0;\n",
              "      width: 32px;\n",
              "    }\n",
              "\n",
              "    .colab-df-convert:hover {\n",
              "      background-color: #E2EBFA;\n",
              "      box-shadow: 0px 1px 2px rgba(60, 64, 67, 0.3), 0px 1px 3px 1px rgba(60, 64, 67, 0.15);\n",
              "      fill: #174EA6;\n",
              "    }\n",
              "\n",
              "    .colab-df-buttons div {\n",
              "      margin-bottom: 4px;\n",
              "    }\n",
              "\n",
              "    [theme=dark] .colab-df-convert {\n",
              "      background-color: #3B4455;\n",
              "      fill: #D2E3FC;\n",
              "    }\n",
              "\n",
              "    [theme=dark] .colab-df-convert:hover {\n",
              "      background-color: #434B5C;\n",
              "      box-shadow: 0px 1px 3px 1px rgba(0, 0, 0, 0.15);\n",
              "      filter: drop-shadow(0px 1px 2px rgba(0, 0, 0, 0.3));\n",
              "      fill: #FFFFFF;\n",
              "    }\n",
              "  </style>\n",
              "\n",
              "    <script>\n",
              "      const buttonEl =\n",
              "        document.querySelector('#df-095d0d52-9193-4bd6-9a90-40e2074c89ff button.colab-df-convert');\n",
              "      buttonEl.style.display =\n",
              "        google.colab.kernel.accessAllowed ? 'block' : 'none';\n",
              "\n",
              "      async function convertToInteractive(key) {\n",
              "        const element = document.querySelector('#df-095d0d52-9193-4bd6-9a90-40e2074c89ff');\n",
              "        const dataTable =\n",
              "          await google.colab.kernel.invokeFunction('convertToInteractive',\n",
              "                                                    [key], {});\n",
              "        if (!dataTable) return;\n",
              "\n",
              "        const docLinkHtml = 'Like what you see? Visit the ' +\n",
              "          '<a target=\"_blank\" href=https://colab.research.google.com/notebooks/data_table.ipynb>data table notebook</a>'\n",
              "          + ' to learn more about interactive tables.';\n",
              "        element.innerHTML = '';\n",
              "        dataTable['output_type'] = 'display_data';\n",
              "        await google.colab.output.renderOutput(dataTable, element);\n",
              "        const docLink = document.createElement('div');\n",
              "        docLink.innerHTML = docLinkHtml;\n",
              "        element.appendChild(docLink);\n",
              "      }\n",
              "    </script>\n",
              "  </div>\n",
              "\n",
              "\n",
              "<div id=\"df-a1d90fa1-c1ac-4160-ba19-8ad1be121f1c\">\n",
              "  <button class=\"colab-df-quickchart\" onclick=\"quickchart('df-a1d90fa1-c1ac-4160-ba19-8ad1be121f1c')\"\n",
              "            title=\"Suggest charts\"\n",
              "            style=\"display:none;\">\n",
              "\n",
              "<svg xmlns=\"http://www.w3.org/2000/svg\" height=\"24px\"viewBox=\"0 0 24 24\"\n",
              "     width=\"24px\">\n",
              "    <g>\n",
              "        <path d=\"M19 3H5c-1.1 0-2 .9-2 2v14c0 1.1.9 2 2 2h14c1.1 0 2-.9 2-2V5c0-1.1-.9-2-2-2zM9 17H7v-7h2v7zm4 0h-2V7h2v10zm4 0h-2v-4h2v4z\"/>\n",
              "    </g>\n",
              "</svg>\n",
              "  </button>\n",
              "\n",
              "<style>\n",
              "  .colab-df-quickchart {\n",
              "      --bg-color: #E8F0FE;\n",
              "      --fill-color: #1967D2;\n",
              "      --hover-bg-color: #E2EBFA;\n",
              "      --hover-fill-color: #174EA6;\n",
              "      --disabled-fill-color: #AAA;\n",
              "      --disabled-bg-color: #DDD;\n",
              "  }\n",
              "\n",
              "  [theme=dark] .colab-df-quickchart {\n",
              "      --bg-color: #3B4455;\n",
              "      --fill-color: #D2E3FC;\n",
              "      --hover-bg-color: #434B5C;\n",
              "      --hover-fill-color: #FFFFFF;\n",
              "      --disabled-bg-color: #3B4455;\n",
              "      --disabled-fill-color: #666;\n",
              "  }\n",
              "\n",
              "  .colab-df-quickchart {\n",
              "    background-color: var(--bg-color);\n",
              "    border: none;\n",
              "    border-radius: 50%;\n",
              "    cursor: pointer;\n",
              "    display: none;\n",
              "    fill: var(--fill-color);\n",
              "    height: 32px;\n",
              "    padding: 0;\n",
              "    width: 32px;\n",
              "  }\n",
              "\n",
              "  .colab-df-quickchart:hover {\n",
              "    background-color: var(--hover-bg-color);\n",
              "    box-shadow: 0 1px 2px rgba(60, 64, 67, 0.3), 0 1px 3px 1px rgba(60, 64, 67, 0.15);\n",
              "    fill: var(--button-hover-fill-color);\n",
              "  }\n",
              "\n",
              "  .colab-df-quickchart-complete:disabled,\n",
              "  .colab-df-quickchart-complete:disabled:hover {\n",
              "    background-color: var(--disabled-bg-color);\n",
              "    fill: var(--disabled-fill-color);\n",
              "    box-shadow: none;\n",
              "  }\n",
              "\n",
              "  .colab-df-spinner {\n",
              "    border: 2px solid var(--fill-color);\n",
              "    border-color: transparent;\n",
              "    border-bottom-color: var(--fill-color);\n",
              "    animation:\n",
              "      spin 1s steps(1) infinite;\n",
              "  }\n",
              "\n",
              "  @keyframes spin {\n",
              "    0% {\n",
              "      border-color: transparent;\n",
              "      border-bottom-color: var(--fill-color);\n",
              "      border-left-color: var(--fill-color);\n",
              "    }\n",
              "    20% {\n",
              "      border-color: transparent;\n",
              "      border-left-color: var(--fill-color);\n",
              "      border-top-color: var(--fill-color);\n",
              "    }\n",
              "    30% {\n",
              "      border-color: transparent;\n",
              "      border-left-color: var(--fill-color);\n",
              "      border-top-color: var(--fill-color);\n",
              "      border-right-color: var(--fill-color);\n",
              "    }\n",
              "    40% {\n",
              "      border-color: transparent;\n",
              "      border-right-color: var(--fill-color);\n",
              "      border-top-color: var(--fill-color);\n",
              "    }\n",
              "    60% {\n",
              "      border-color: transparent;\n",
              "      border-right-color: var(--fill-color);\n",
              "    }\n",
              "    80% {\n",
              "      border-color: transparent;\n",
              "      border-right-color: var(--fill-color);\n",
              "      border-bottom-color: var(--fill-color);\n",
              "    }\n",
              "    90% {\n",
              "      border-color: transparent;\n",
              "      border-bottom-color: var(--fill-color);\n",
              "    }\n",
              "  }\n",
              "</style>\n",
              "\n",
              "  <script>\n",
              "    async function quickchart(key) {\n",
              "      const quickchartButtonEl =\n",
              "        document.querySelector('#' + key + ' button');\n",
              "      quickchartButtonEl.disabled = true;  // To prevent multiple clicks.\n",
              "      quickchartButtonEl.classList.add('colab-df-spinner');\n",
              "      try {\n",
              "        const charts = await google.colab.kernel.invokeFunction(\n",
              "            'suggestCharts', [key], {});\n",
              "      } catch (error) {\n",
              "        console.error('Error during call to suggestCharts:', error);\n",
              "      }\n",
              "      quickchartButtonEl.classList.remove('colab-df-spinner');\n",
              "      quickchartButtonEl.classList.add('colab-df-quickchart-complete');\n",
              "    }\n",
              "    (() => {\n",
              "      let quickchartButtonEl =\n",
              "        document.querySelector('#df-a1d90fa1-c1ac-4160-ba19-8ad1be121f1c button');\n",
              "      quickchartButtonEl.style.display =\n",
              "        google.colab.kernel.accessAllowed ? 'block' : 'none';\n",
              "    })();\n",
              "  </script>\n",
              "</div>\n",
              "\n",
              "  <div id=\"id_b54c7126-188d-4cce-8fa9-561665ae98a3\">\n",
              "    <style>\n",
              "      .colab-df-generate {\n",
              "        background-color: #E8F0FE;\n",
              "        border: none;\n",
              "        border-radius: 50%;\n",
              "        cursor: pointer;\n",
              "        display: none;\n",
              "        fill: #1967D2;\n",
              "        height: 32px;\n",
              "        padding: 0 0 0 0;\n",
              "        width: 32px;\n",
              "      }\n",
              "\n",
              "      .colab-df-generate:hover {\n",
              "        background-color: #E2EBFA;\n",
              "        box-shadow: 0px 1px 2px rgba(60, 64, 67, 0.3), 0px 1px 3px 1px rgba(60, 64, 67, 0.15);\n",
              "        fill: #174EA6;\n",
              "      }\n",
              "\n",
              "      [theme=dark] .colab-df-generate {\n",
              "        background-color: #3B4455;\n",
              "        fill: #D2E3FC;\n",
              "      }\n",
              "\n",
              "      [theme=dark] .colab-df-generate:hover {\n",
              "        background-color: #434B5C;\n",
              "        box-shadow: 0px 1px 3px 1px rgba(0, 0, 0, 0.15);\n",
              "        filter: drop-shadow(0px 1px 2px rgba(0, 0, 0, 0.3));\n",
              "        fill: #FFFFFF;\n",
              "      }\n",
              "    </style>\n",
              "    <button class=\"colab-df-generate\" onclick=\"generateWithVariable('df_grouped')\"\n",
              "            title=\"Generate code using this dataframe.\"\n",
              "            style=\"display:none;\">\n",
              "\n",
              "  <svg xmlns=\"http://www.w3.org/2000/svg\" height=\"24px\"viewBox=\"0 0 24 24\"\n",
              "       width=\"24px\">\n",
              "    <path d=\"M7,19H8.4L18.45,9,17,7.55,7,17.6ZM5,21V16.75L18.45,3.32a2,2,0,0,1,2.83,0l1.4,1.43a1.91,1.91,0,0,1,.58,1.4,1.91,1.91,0,0,1-.58,1.4L9.25,21ZM18.45,9,17,7.55Zm-12,3A5.31,5.31,0,0,0,4.9,8.1,5.31,5.31,0,0,0,1,6.5,5.31,5.31,0,0,0,4.9,4.9,5.31,5.31,0,0,0,6.5,1,5.31,5.31,0,0,0,8.1,4.9,5.31,5.31,0,0,0,12,6.5,5.46,5.46,0,0,0,6.5,12Z\"/>\n",
              "  </svg>\n",
              "    </button>\n",
              "    <script>\n",
              "      (() => {\n",
              "      const buttonEl =\n",
              "        document.querySelector('#id_b54c7126-188d-4cce-8fa9-561665ae98a3 button.colab-df-generate');\n",
              "      buttonEl.style.display =\n",
              "        google.colab.kernel.accessAllowed ? 'block' : 'none';\n",
              "\n",
              "      buttonEl.onclick = () => {\n",
              "        google.colab.notebook.generateWithVariable('df_grouped');\n",
              "      }\n",
              "      })();\n",
              "    </script>\n",
              "  </div>\n",
              "\n",
              "    </div>\n",
              "  </div>\n"
            ],
            "application/vnd.google.colaboratory.intrinsic+json": {
              "type": "dataframe",
              "variable_name": "df_grouped",
              "summary": "{\n  \"name\": \"df_grouped\",\n  \"rows\": 4635,\n  \"fields\": [\n    {\n      \"column\": \"customer_id\",\n      \"properties\": {\n        \"dtype\": \"number\",\n        \"std\": 88725,\n        \"min\": 15,\n        \"max\": 365485,\n        \"num_unique_values\": 4635,\n        \"samples\": [\n          6558,\n          1079,\n          32924\n        ],\n        \"semantic_type\": \"\",\n        \"description\": \"\"\n      }\n    },\n    {\n      \"column\": \"cantidad_ordenes\",\n      \"properties\": {\n        \"dtype\": \"number\",\n        \"std\": 57,\n        \"min\": 1,\n        \"max\": 836,\n        \"num_unique_values\": 259,\n        \"samples\": [\n          79,\n          393,\n          92\n        ],\n        \"semantic_type\": \"\",\n        \"description\": \"\"\n      }\n    },\n    {\n      \"column\": \"monto_promedio\",\n      \"properties\": {\n        \"dtype\": \"number\",\n        \"std\": 8.882280061675327e+19,\n        \"min\": 7.0,\n        \"max\": 5.941176470588236e+21,\n        \"num_unique_values\": 4431,\n        \"samples\": [\n          12715.95,\n          3282.0,\n          11934.686666666666\n        ],\n        \"semantic_type\": \"\",\n        \"description\": \"\"\n      }\n    }\n  ]\n}"
            }
          },
          "metadata": {},
          "execution_count": 21
        }
      ]
    },
    {
      "cell_type": "code",
      "source": [
        "df_grouped[\"cantidad_ordenes\"].min()"
      ],
      "metadata": {
        "colab": {
          "base_uri": "https://localhost:8080/"
        },
        "id": "myOpfCxkzDZl",
        "outputId": "09be2939-eacb-4dc5-ddf8-de8867e0a0e0"
      },
      "execution_count": null,
      "outputs": [
        {
          "output_type": "execute_result",
          "data": {
            "text/plain": [
              "1"
            ]
          },
          "metadata": {},
          "execution_count": 22
        }
      ]
    },
    {
      "cell_type": "code",
      "source": [
        "df_grouped[\"cantidad_ordenes\"].max()"
      ],
      "metadata": {
        "colab": {
          "base_uri": "https://localhost:8080/"
        },
        "id": "EjeX7S-6zIU1",
        "outputId": "2e09d8d1-32cb-492d-acac-baebb58d08dd"
      },
      "execution_count": null,
      "outputs": [
        {
          "output_type": "execute_result",
          "data": {
            "text/plain": [
              "836"
            ]
          },
          "metadata": {},
          "execution_count": 23
        }
      ]
    },
    {
      "cell_type": "code",
      "source": [
        "df_grouped[\"cantidad_ordenes\"].mean()"
      ],
      "metadata": {
        "colab": {
          "base_uri": "https://localhost:8080/"
        },
        "id": "72x8LUNYzMIC",
        "outputId": "cc72083f-82c1-47db-e8c2-8c565cbf6d5a"
      },
      "execution_count": null,
      "outputs": [
        {
          "output_type": "execute_result",
          "data": {
            "text/plain": [
              "30.95641855447681"
            ]
          },
          "metadata": {},
          "execution_count": 43
        }
      ]
    },
    {
      "cell_type": "code",
      "source": [
        "df_grouped[\"cantidad_ordenes\"].median()"
      ],
      "metadata": {
        "colab": {
          "base_uri": "https://localhost:8080/"
        },
        "id": "gXaouY3UzoyT",
        "outputId": "e94a9f37-db36-4448-f5c0-7de13f75b27d"
      },
      "execution_count": null,
      "outputs": [
        {
          "output_type": "execute_result",
          "data": {
            "text/plain": [
              "12.0"
            ]
          },
          "metadata": {},
          "execution_count": 25
        }
      ]
    },
    {
      "cell_type": "code",
      "source": [
        "orders[\"customer_id\"]"
      ],
      "metadata": {
        "colab": {
          "base_uri": "https://localhost:8080/",
          "height": 458
        },
        "id": "VhXzHM7U5JNi",
        "outputId": "5030984e-ec5b-4b12-eede-464393724b3b"
      },
      "execution_count": null,
      "outputs": [
        {
          "output_type": "execute_result",
          "data": {
            "text/plain": [
              "0          26429\n",
              "1          33446\n",
              "2          22941\n",
              "3          66442\n",
              "4         135421\n",
              "           ...  \n",
              "143478     20835\n",
              "143479        53\n",
              "143480      2080\n",
              "143481    217367\n",
              "143482     32382\n",
              "Name: customer_id, Length: 143483, dtype: int64"
            ],
            "text/html": [
              "<div>\n",
              "<style scoped>\n",
              "    .dataframe tbody tr th:only-of-type {\n",
              "        vertical-align: middle;\n",
              "    }\n",
              "\n",
              "    .dataframe tbody tr th {\n",
              "        vertical-align: top;\n",
              "    }\n",
              "\n",
              "    .dataframe thead th {\n",
              "        text-align: right;\n",
              "    }\n",
              "</style>\n",
              "<table border=\"1\" class=\"dataframe\">\n",
              "  <thead>\n",
              "    <tr style=\"text-align: right;\">\n",
              "      <th></th>\n",
              "      <th>customer_id</th>\n",
              "    </tr>\n",
              "  </thead>\n",
              "  <tbody>\n",
              "    <tr>\n",
              "      <th>0</th>\n",
              "      <td>26429</td>\n",
              "    </tr>\n",
              "    <tr>\n",
              "      <th>1</th>\n",
              "      <td>33446</td>\n",
              "    </tr>\n",
              "    <tr>\n",
              "      <th>2</th>\n",
              "      <td>22941</td>\n",
              "    </tr>\n",
              "    <tr>\n",
              "      <th>3</th>\n",
              "      <td>66442</td>\n",
              "    </tr>\n",
              "    <tr>\n",
              "      <th>4</th>\n",
              "      <td>135421</td>\n",
              "    </tr>\n",
              "    <tr>\n",
              "      <th>...</th>\n",
              "      <td>...</td>\n",
              "    </tr>\n",
              "    <tr>\n",
              "      <th>143478</th>\n",
              "      <td>20835</td>\n",
              "    </tr>\n",
              "    <tr>\n",
              "      <th>143479</th>\n",
              "      <td>53</td>\n",
              "    </tr>\n",
              "    <tr>\n",
              "      <th>143480</th>\n",
              "      <td>2080</td>\n",
              "    </tr>\n",
              "    <tr>\n",
              "      <th>143481</th>\n",
              "      <td>217367</td>\n",
              "    </tr>\n",
              "    <tr>\n",
              "      <th>143482</th>\n",
              "      <td>32382</td>\n",
              "    </tr>\n",
              "  </tbody>\n",
              "</table>\n",
              "<p>143483 rows × 1 columns</p>\n",
              "</div><br><label><b>dtype:</b> int64</label>"
            ]
          },
          "metadata": {},
          "execution_count": 50
        }
      ]
    },
    {
      "cell_type": "code",
      "source": [
        "customers[\"customer_id\"]"
      ],
      "metadata": {
        "id": "YEsqTJjY68KL"
      },
      "execution_count": null,
      "outputs": []
    },
    {
      "cell_type": "code",
      "source": [
        "# Convertir la columna 'id' en ambos DataFrames a tipo string para asegurar la compatibilidad\n",
        "df_tiendas['id'] = df_tiendas['id'].astype(str)\n",
        "customers['id'] = customers['id'].astype(str)\n",
        "\n",
        "# Realizar el merge\n",
        "df_tiendas = pd.merge(df_tiendas, customers[['id', 'customer_id']], on='id', how='left')\n",
        "\n",
        "# Mostrar el DataFrame resultante\n",
        "print(df_tiendas)"
      ],
      "metadata": {
        "colab": {
          "base_uri": "https://localhost:8080/"
        },
        "id": "DpESakfo77yK",
        "outputId": "8722a7f4-f78f-4eb0-a707-263a55370278"
      },
      "execution_count": null,
      "outputs": [
        {
          "output_type": "stream",
          "name": "stdout",
          "text": [
            "                                                     id        lat        lon  \\\n",
            "0     bytearray(b'-\\x07\\xc3\\xa0g\\xf1\\x11\\xec\\x96\\xe9... -34.661240 -58.511409   \n",
            "1     bytearray(b'-\\x895Rg\\xf3\\x11\\xec\\x96\\xe9\\x06\\x... -34.624407 -58.417899   \n",
            "2     bytearray(b'-\\x91<xg\\xf3\\x11\\xec\\x96\\xe9\\x06\\x... -34.574641 -58.447234   \n",
            "3     bytearray(b'-\\xd0\\x8fag\\xf1\\x11\\xec\\x96\\xe9\\x0... -34.610076 -58.455903   \n",
            "4     bytearray(b'-\\xe7S\\xbfg\\xf1\\x11\\xec\\x96\\xe9\\x0... -34.620644 -58.395803   \n",
            "...                                                 ...        ...        ...   \n",
            "1978  bytearray(b\"\\xc0\\x83\\xc6\\' \\x14@\\x11\\xa0\\x1a\\x... -34.633944 -58.481373   \n",
            "1979  bytearray(b\"\\xe9\\xb7}\\xac\\'\\x17CM\\x98j\\xfd\\xba... -34.617626 -58.482228   \n",
            "1980  bytearray(b\"^\\xbd<\\xdd\\x1c\\x08N\\'\\xb3\\xbe\\xf8\\... -34.646063 -58.372359   \n",
            "1981  bytearray(b\"3\\xbe\\'t\\x8f\\xf4NM\\xb9\\x10GL\\xb0\\x... -34.632435 -58.376240   \n",
            "1982  bytearray(b\"O\\x8d\\x13\\xbd\\xbd*J\\xff\\x9c\\xb6\\x0... -34.629273 -58.467130   \n",
            "\n",
            "                                           geometry  \\\n",
            "0                   POINT (-58.5114089 -34.6612403)   \n",
            "1                   POINT (-58.4178986 -34.6244068)   \n",
            "2                   POINT (-58.4472338 -34.5746414)   \n",
            "3            POINT (-58.45590249999999 -34.6100759)   \n",
            "4     POINT (-58.39580319999999 -34.62064399999999)   \n",
            "...                                             ...   \n",
            "1978  POINT (-58.48137329999999 -34.63394359999999)   \n",
            "1979                POINT (-58.4822279 -34.6176255)   \n",
            "1980         POINT (-58.37235870000001 -34.6460632)   \n",
            "1981  POINT (-58.37623970000001 -34.63243500000001)   \n",
            "1982                POINT (-58.4671301 -34.6292732)   \n",
            "\n",
            "      estaciones_servicio_200mts  estaciones_servicio_1000mts  subtes_200mts  \\\n",
            "0                              0                            3              0   \n",
            "1                              0                            2              0   \n",
            "2                              0                            1              0   \n",
            "3                              0                            5              0   \n",
            "4                              0                            5              0   \n",
            "...                          ...                          ...            ...   \n",
            "1978                           0                            4              0   \n",
            "1979                           0                            0              0   \n",
            "1980                           0                            2              0   \n",
            "1981                           0                            2              0   \n",
            "1982                           0                            5              0   \n",
            "\n",
            "      subtes_1000mts  id_rc  porc_nbi  ...     producto_2     producto_3  \\\n",
            "0                  0   3460  0.138810  ...  7792798005888  7790290001193   \n",
            "1                  2   2556  0.007092  ...  7792798005888  7793147118822   \n",
            "2                  1   1158  0.085714  ...  7792540260138  7793360005084   \n",
            "3                  0   2814  0.038147  ...  7792798001927  7792798001965   \n",
            "4                  4   2099  0.048780  ...  7790895000218  7790895067617   \n",
            "...              ...    ...       ...  ...            ...            ...   \n",
            "1978               0    390  0.000000  ...  7792798009565  7792798011421   \n",
            "1979               0    562  0.007168  ...  7798147780062  7793147572167   \n",
            "1980               0   2365  0.027363  ...  7791813423072              0   \n",
            "1981               1   2266  0.104167  ...              0              0   \n",
            "1982               2   3104  0.008451  ...  7792798001927              0   \n",
            "\n",
            "           producto_4     producto_5  categoria_1  categoria_2  categoria_3  \\\n",
            "0                   0              0          194          197            0   \n",
            "1     366277935829245              0          194            0            0   \n",
            "2       7794450090492  7795735000335           54           32           62   \n",
            "3       7795232000524  7792798002399          194          195          197   \n",
            "4       7791843008294              0            5          197          195   \n",
            "...               ...            ...          ...          ...          ...   \n",
            "1978    7793147572167  7798091030299          194         3187            9   \n",
            "1979         77980229  7798147780055           55          194            5   \n",
            "1980                0              0            4            5            0   \n",
            "1981                0              0          194            0            0   \n",
            "1982                0              0          194            0            0   \n",
            "\n",
            "      categoria_4  categoria_5  customer_id  \n",
            "0               0            0         2013  \n",
            "1               0            0       112804  \n",
            "2             195           48        89009  \n",
            "3               0            0         2133  \n",
            "4               0            0         2147  \n",
            "...           ...          ...          ...  \n",
            "1978          195            6       188347  \n",
            "1979           48          190       217109  \n",
            "1980            0            0       311159  \n",
            "1981            0            0       131403  \n",
            "1982            0            0       294122  \n",
            "\n",
            "[1983 rows x 69 columns]\n"
          ]
        }
      ]
    },
    {
      "cell_type": "code",
      "source": [
        "# Convertir las columnas 'id' y 'customer_id' a string\n",
        "df_tiendas['customer_id'] = df_tiendas['customer_id'].astype(str)\n",
        "df_grouped['customer_id'] = df_grouped['customer_id'].astype(str)\n",
        "\n",
        "# Hacer el merge\n",
        "df_final = pd.merge(df_tiendas, df_grouped, left_on='customer_id', right_on='customer_id', how='left')"
      ],
      "metadata": {
        "id": "NbpHysis0TEp"
      },
      "execution_count": null,
      "outputs": []
    },
    {
      "cell_type": "code",
      "source": [
        "df_final.columns"
      ],
      "metadata": {
        "colab": {
          "base_uri": "https://localhost:8080/"
        },
        "id": "w895fpQ-0j-R",
        "outputId": "3a8ef840-c6b3-48be-ae45-a6e3c4bb1d2c"
      },
      "execution_count": null,
      "outputs": [
        {
          "output_type": "execute_result",
          "data": {
            "text/plain": [
              "Index(['id', 'lat', 'lon', 'geometry', 'estaciones_servicio_200mts',\n",
              "       'estaciones_servicio_1000mts', 'subtes_200mts', 'subtes_1000mts',\n",
              "       'id_rc', 'porc_nbi', 'hacinamiento', 'densidad_pob', 'porc_mujeres',\n",
              "       'porc_varones', 'uni_privada_200mts', 'uni_publica_200mts',\n",
              "       'uni_privada_1000mts', 'uni_publica_1000mts', 'estadios_200mts',\n",
              "       'estadios_1000mts', 'river_1500mts', 'boca_1500mts', 'clubes_200mts',\n",
              "       'clubes_1000mts', 'tienda_mas_cercana', 'escuelas_cercanas_200m',\n",
              "       'escuelas_cercanas_1000m', 'paradas_cercanas_200m',\n",
              "       'paradas_cercanas_1000m', 'everdes_cercanos_200m',\n",
              "       'everdes_cercanos_1000m', 'hay_bicicleteros_200m',\n",
              "       'hospitales_cercanos_200m', 'hospitales_cercanos_1000m',\n",
              "       'distancia_al_hospital_mas_cercano', 'parroquias_cercanas_200m',\n",
              "       'parroquias_cercanas_1000m', 'comuna', 'negocios_cercanos_200m',\n",
              "       'negocios_cercanos_1000m', 'tiendas_cercanas_200m',\n",
              "       'supermercados_200m', 'supermercados_1000m', 'hipermercado_200m',\n",
              "       'hipermercado_1000m', 'autoservicio_200m', 'autoservicio_1000m',\n",
              "       'negocios_24hs_cercanos_1000m', 'negocios_findesemana_200m', 'mon_open',\n",
              "       'tue_open', 'wed_open', 'thu_open', 'fri_open', 'sat_open', 'sun_open',\n",
              "       'supermercado_chino', 'supermercado', 'producto_1', 'producto_2',\n",
              "       'producto_3', 'producto_4', 'producto_5', 'categoria_1', 'categoria_2',\n",
              "       'categoria_3', 'categoria_4', 'categoria_5', 'customer_id',\n",
              "       'cantidad_ordenes', 'monto_promedio'],\n",
              "      dtype='object')"
            ]
          },
          "metadata": {},
          "execution_count": 57
        }
      ]
    },
    {
      "cell_type": "code",
      "source": [
        "df_final['cantidad_ordenes'].mean()"
      ],
      "metadata": {
        "colab": {
          "base_uri": "https://localhost:8080/"
        },
        "id": "fMXa1Lbs4JTf",
        "outputId": "a876cac9-8e73-4b32-d3bf-3845c46fe544"
      },
      "execution_count": null,
      "outputs": [
        {
          "output_type": "execute_result",
          "data": {
            "text/plain": [
              "39.469994957135654"
            ]
          },
          "metadata": {},
          "execution_count": 58
        }
      ]
    },
    {
      "cell_type": "code",
      "source": [
        "gdf_final = gpd.GeoDataFrame(\n",
        "    df_final,\n",
        "    geometry=gpd.points_from_xy(df_final['lon'], df_final['lat']),\n",
        "    crs='EPSG:4326'\n",
        ")"
      ],
      "metadata": {
        "id": "--GjgOCQ0we9"
      },
      "execution_count": null,
      "outputs": []
    },
    {
      "cell_type": "code",
      "source": [
        "import geopandas as gpd\n",
        "import matplotlib.pyplot as plt\n",
        "import matplotlib.colors as mcolors\n",
        "import numpy as np\n",
        "import pandas as pd\n",
        "\n",
        "# Crear la figura y el axis para el mapa\n",
        "fig, ax = plt.subplots(figsize=(10, 10))\n",
        "\n",
        "# Graficar la capa de la provincia (prov_caba)\n",
        "prov_caba.plot(ax=ax, color='lightgrey', edgecolor='black', alpha=0.3, label='CABA')\n",
        "\n",
        "# Asegurarse de que no haya valores NaN en 'cantidad_ordenes'\n",
        "gdf_final['cantidad_ordenes'].fillna(0, inplace=True)\n",
        "\n",
        "# Definir los rangos y colores\n",
        "rangos = [1, 5, 12, 30, 100, 850]\n",
        "colores = plt.cm.viridis(np.linspace(0, 1, len(rangos)-1))\n",
        "\n",
        "# Crear una columna 'rango' para clasificar las tiendas según la cantidad de órdenes\n",
        "gdf_final['rango'] = pd.cut(gdf_final['cantidad_ordenes'], bins=rangos, labels=False, include_lowest=True)\n",
        "\n",
        "# Reemplazar NaN en 'rango' por un valor específico, por ejemplo, -1 (si es necesario)\n",
        "gdf_final['rango'].fillna(-1, inplace=True)\n",
        "\n",
        "# Asignar colores a cada tienda según su rango, ignorando las filas con rango -1\n",
        "gdf_final['color'] = gdf_final['rango'].apply(lambda x: colores[int(x)] if x != -1 else 'grey')\n",
        "\n",
        "# Graficar las tiendas según el rango de cantidad de órdenes\n",
        "for idx, rango in enumerate(np.unique(gdf_final['rango'])):\n",
        "    subset = gdf_final[gdf_final['rango'] == rango]\n",
        "    # Saltar el rango -1 (opcional, si no queremos incluir tiendas sin órdenes)\n",
        "    if rango == -1:\n",
        "        continue\n",
        "    subset.plot(ax=ax, marker='o', color=colores[idx], markersize=30, label=f'{rangos[idx]}-{rangos[idx+1]} órdenes')\n",
        "\n",
        "# Añadir título y leyenda\n",
        "plt.title('Tiendas en CABA según la cantidad de órdenes')\n",
        "plt.legend(title='Cantidad de órdenes')\n",
        "\n",
        "# Mostrar el gráfico\n",
        "plt.show()\n"
      ],
      "metadata": {
        "id": "8bXMthWh3k0Q"
      },
      "execution_count": null,
      "outputs": []
    },
    {
      "cell_type": "code",
      "source": [
        "gdf_final[\"monto_promedio\"].max()"
      ],
      "metadata": {
        "colab": {
          "base_uri": "https://localhost:8080/"
        },
        "id": "w4PHsNwj9jwi",
        "outputId": "cd12f852-fd56-4644-eafb-dc69163b7b73"
      },
      "execution_count": null,
      "outputs": [
        {
          "output_type": "execute_result",
          "data": {
            "text/plain": [
              "5.941176470588236e+21"
            ]
          },
          "metadata": {},
          "execution_count": 67
        }
      ]
    },
    {
      "cell_type": "code",
      "source": [
        "import geopandas as gpd\n",
        "import matplotlib.pyplot as plt\n",
        "import matplotlib.colors as mcolors\n",
        "import numpy as np\n",
        "import pandas as pd\n",
        "\n",
        "# Crear la figura y el axis para el mapa\n",
        "fig, ax = plt.subplots(figsize=(10, 10))\n",
        "\n",
        "# Graficar la capa de la provincia (prov_caba)\n",
        "prov_caba.plot(ax=ax, color='lightgrey', edgecolor='black', alpha=0.3, label='CABA')\n",
        "\n",
        "# Asegurarse de que no haya valores NaN en 'monto_promedio'\n",
        "gdf_final['monto_promedio'].fillna(0, inplace=True)\n",
        "\n",
        "# Definir los rangos y colores\n",
        "# Basado en los datos estadísticos proporcionados\n",
        "rangos = [0,10000,1000000,10000000,1000000000, 1e+18]  # Ajusta los rangos según tus datos\n",
        "colores = plt.cm.viridis(np.linspace(0, 1, len(rangos)-1))\n",
        "\n",
        "# Crear una columna 'rango' para clasificar las tiendas según el monto promedio\n",
        "gdf_final['rango'] = pd.cut(gdf_final['monto_promedio'], bins=rangos, labels=False, include_lowest=True)\n",
        "\n",
        "# Reemplazar NaN en 'rango' por un valor específico, por ejemplo, -1 (si es necesario)\n",
        "gdf_final['rango'].fillna(-1, inplace=True)\n",
        "\n",
        "# Asignar colores a cada tienda según su rango, ignorando las filas con rango -1\n",
        "gdf_final['color'] = gdf_final['rango'].apply(lambda x: colores[int(x)] if x != -1 else 'grey')\n",
        "\n",
        "# Graficar las tiendas según el rango de monto promedio\n",
        "for idx, rango in enumerate(np.unique(gdf_final['rango'])):\n",
        "    subset = gdf_final[gdf_final['rango'] == rango]\n",
        "    # Saltar el rango -1 (opcional, si no queremos incluir tiendas sin datos)\n",
        "    if rango == -1:\n",
        "        continue\n",
        "    subset.plot(ax=ax, marker='o', color=colores[idx], markersize=30, label=f'{rangos[idx]}-{rangos[idx+1]} monto promedio')\n",
        "\n",
        "# Añadir título y leyenda\n",
        "plt.title('Tiendas en CABA según el monto promedio de órdenes')\n",
        "plt.legend(title='Monto promedio')\n",
        "\n",
        "# Mostrar el gráfico\n",
        "plt.show()\n"
      ],
      "metadata": {
        "id": "oyyadNpj-URo"
      },
      "execution_count": null,
      "outputs": []
    },
    {
      "cell_type": "code",
      "source": [
        "df_final.shape"
      ],
      "metadata": {
        "colab": {
          "base_uri": "https://localhost:8080/"
        },
        "id": "KGdkR26PE8l8",
        "outputId": "7626bc27-a4b2-4ab1-f002-2541ebce2403"
      },
      "execution_count": null,
      "outputs": [
        {
          "output_type": "execute_result",
          "data": {
            "text/plain": [
              "(1983, 71)"
            ]
          },
          "metadata": {},
          "execution_count": 72
        }
      ]
    },
    {
      "cell_type": "code",
      "source": [
        "orders[\"ship_at\"]"
      ],
      "metadata": {
        "colab": {
          "base_uri": "https://localhost:8080/",
          "height": 458
        },
        "id": "dII2BmeJF222",
        "outputId": "8de9ce3e-6854-4bd3-901e-d43c34e293ba"
      },
      "execution_count": null,
      "outputs": [
        {
          "output_type": "execute_result",
          "data": {
            "text/plain": [
              "0                NaN\n",
              "1         2022-01-31\n",
              "2         2022-03-09\n",
              "3         2021-12-13\n",
              "4         2022-06-29\n",
              "             ...    \n",
              "143478           NaN\n",
              "143479    2021-11-17\n",
              "143480    2021-11-24\n",
              "143481    2022-09-21\n",
              "143482    2021-12-07\n",
              "Name: ship_at, Length: 143483, dtype: object"
            ],
            "text/html": [
              "<div>\n",
              "<style scoped>\n",
              "    .dataframe tbody tr th:only-of-type {\n",
              "        vertical-align: middle;\n",
              "    }\n",
              "\n",
              "    .dataframe tbody tr th {\n",
              "        vertical-align: top;\n",
              "    }\n",
              "\n",
              "    .dataframe thead th {\n",
              "        text-align: right;\n",
              "    }\n",
              "</style>\n",
              "<table border=\"1\" class=\"dataframe\">\n",
              "  <thead>\n",
              "    <tr style=\"text-align: right;\">\n",
              "      <th></th>\n",
              "      <th>ship_at</th>\n",
              "    </tr>\n",
              "  </thead>\n",
              "  <tbody>\n",
              "    <tr>\n",
              "      <th>0</th>\n",
              "      <td>NaN</td>\n",
              "    </tr>\n",
              "    <tr>\n",
              "      <th>1</th>\n",
              "      <td>2022-01-31</td>\n",
              "    </tr>\n",
              "    <tr>\n",
              "      <th>2</th>\n",
              "      <td>2022-03-09</td>\n",
              "    </tr>\n",
              "    <tr>\n",
              "      <th>3</th>\n",
              "      <td>2021-12-13</td>\n",
              "    </tr>\n",
              "    <tr>\n",
              "      <th>4</th>\n",
              "      <td>2022-06-29</td>\n",
              "    </tr>\n",
              "    <tr>\n",
              "      <th>...</th>\n",
              "      <td>...</td>\n",
              "    </tr>\n",
              "    <tr>\n",
              "      <th>143478</th>\n",
              "      <td>NaN</td>\n",
              "    </tr>\n",
              "    <tr>\n",
              "      <th>143479</th>\n",
              "      <td>2021-11-17</td>\n",
              "    </tr>\n",
              "    <tr>\n",
              "      <th>143480</th>\n",
              "      <td>2021-11-24</td>\n",
              "    </tr>\n",
              "    <tr>\n",
              "      <th>143481</th>\n",
              "      <td>2022-09-21</td>\n",
              "    </tr>\n",
              "    <tr>\n",
              "      <th>143482</th>\n",
              "      <td>2021-12-07</td>\n",
              "    </tr>\n",
              "  </tbody>\n",
              "</table>\n",
              "<p>143483 rows × 1 columns</p>\n",
              "</div><br><label><b>dtype:</b> object</label>"
            ]
          },
          "metadata": {},
          "execution_count": 74
        }
      ]
    },
    {
      "cell_type": "code",
      "source": [
        "gdf_tiendas = gpd.GeoDataFrame(\n",
        "    df_tiendas,\n",
        "    geometry=gpd.points_from_xy(df_tiendas['lon'], df_tiendas['lat']),\n",
        "    crs='EPSG:4326'\n",
        ")"
      ],
      "metadata": {
        "id": "b3QMx5f2D3h8"
      },
      "execution_count": null,
      "outputs": []
    },
    {
      "cell_type": "code",
      "source": [
        "gdf_radio_censal[\"TOTAL_POB\"]"
      ],
      "metadata": {
        "id": "vymxFpc0DXtK"
      },
      "execution_count": null,
      "outputs": []
    },
    {
      "cell_type": "code",
      "source": [
        "import matplotlib.pyplot as plt\n",
        "\n",
        "# Crear el gráfico\n",
        "fig, ax = plt.subplots(1, 1, figsize=(10, 10))\n",
        "# Graficar los radios censales coloreados por 'TOTAL_POB' y remarcar los bordes\n",
        "gdf_radio_censal.plot(column='TOTAL_POB', ax=ax, legend=True,\n",
        "                      cmap='YlGnBu',\n",
        "                      legend_kwds={'label': \"Población\",\n",
        "                                   'orientation': \"vertical\"},\n",
        "                      edgecolor='black',\n",
        "                      linewidth=0.5)\n",
        "\n",
        "plt.title('Distribución de población por Radio Censal', fontsize=15)\n",
        "plt.show()"
      ],
      "metadata": {
        "colab": {
          "base_uri": "https://localhost:8080/",
          "height": 815
        },
        "id": "i-oORpQ0EBmm",
        "outputId": "15fa652b-8f53-40a5-fdc6-2d0882488161"
      },
      "execution_count": null,
      "outputs": [
        {
          "output_type": "display_data",
          "data": {
            "text/plain": [
              "<Figure size 1000x1000 with 2 Axes>"
            ],
            "image/png": "[encoded data removed]"
          },
          "metadata": {}
        }
      ]
    }
  ]
}