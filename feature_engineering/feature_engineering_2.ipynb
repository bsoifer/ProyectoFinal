{
  "nbformat": 4,
  "nbformat_minor": 0,
  "metadata": {
    "colab": {
      "provenance": []
    },
    "kernelspec": {
      "name": "python3",
      "display_name": "Python 3"
    },
    "language_info": {
      "name": "python"
    }
  },
  "cells": [
    {
      "cell_type": "code",
      "execution_count": null,
      "metadata": {
        "id": "7T7SX-wCL72k"
      },
      "outputs": [],
      "source": [
        "from google.colab import drive\n",
        "import pandas as pd\n",
        "\n",
        "drive.mount('/content/drive')\n",
        "\n",
        "# Leer csv\n",
        "df_tiendas = pd.read_csv('/content/drive/MyDrive/2024/2do Cuatri - 2024/Proyecto Final/TP Proyecto/Código/tiendas_caba_v3.csv')"
      ]
    },
    {
      "cell_type": "code",
      "source": [
        "customers = pd.read_csv('/content/drive/MyDrive/customers.csv')"
      ],
      "metadata": {
        "id": "onvxu9LSMACd"
      },
      "execution_count": null,
      "outputs": []
    },
    {
      "cell_type": "code",
      "source": [
        "import pandas as pd\n",
        "\n",
        "# Realizar el merge (unión) de las dos bases de datos usando la columna 'id'\n",
        "df_tiendas = pd.merge(df_tiendas, customers[['id', 'customer_id', 'formatted_address']], on='id', how='left')"
      ],
      "metadata": {
        "colab": {
          "base_uri": "https://localhost:8080/"
        },
        "id": "OxoBnsGnHFg4",
        "outputId": "e90007ff-df40-4833-abcc-b4e881e381d3"
      },
      "execution_count": null,
      "outputs": [
        {
          "output_type": "stream",
          "name": "stdout",
          "text": [
            "                                                  id        lat        lon  \\\n",
            "0  bytearray(b'-\\x07\\xc3\\xa0g\\xf1\\x11\\xec\\x96\\xe9... -34.661240 -58.511409   \n",
            "1  bytearray(b'-\\x895Rg\\xf3\\x11\\xec\\x96\\xe9\\x06\\x... -34.624407 -58.417899   \n",
            "2  bytearray(b'-\\x91<xg\\xf3\\x11\\xec\\x96\\xe9\\x06\\x... -34.574641 -58.447234   \n",
            "3  bytearray(b'-\\xd0\\x8fag\\xf1\\x11\\xec\\x96\\xe9\\x0... -34.610076 -58.455903   \n",
            "4  bytearray(b'-\\xe7S\\xbfg\\xf1\\x11\\xec\\x96\\xe9\\x0... -34.620644 -58.395803   \n",
            "\n",
            "                                        geometry  estaciones_servicio_200mts  \\\n",
            "0                POINT (-58.5114089 -34.6612403)                           0   \n",
            "1                POINT (-58.4178986 -34.6244068)                           0   \n",
            "2                POINT (-58.4472338 -34.5746414)                           0   \n",
            "3         POINT (-58.45590249999999 -34.6100759)                           0   \n",
            "4  POINT (-58.39580319999999 -34.62064399999999)                           0   \n",
            "\n",
            "   estaciones_servicio_1000mts  subtes_200mts  subtes_1000mts  id_rc  \\\n",
            "0                            3              0               0   3460   \n",
            "1                            2              0               2   2556   \n",
            "2                            1              0               1   1158   \n",
            "3                            5              0               0   2814   \n",
            "4                            5              0               4   2099   \n",
            "\n",
            "   porc_nbi  ...     producto_3       producto_4     producto_5  categoria_1  \\\n",
            "0  0.138810  ...  7790290001193                0              0          194   \n",
            "1  0.007092  ...  7793147118822  366277935829245              0          194   \n",
            "2  0.085714  ...  7793360005084    7794450090492  7795735000335           54   \n",
            "3  0.038147  ...  7792798001965    7795232000524  7792798002399          194   \n",
            "4  0.048780  ...  7790895067617    7791843008294              0            5   \n",
            "\n",
            "   categoria_2  categoria_3  categoria_4  categoria_5  customer_id  \\\n",
            "0          197            0            0            0         2013   \n",
            "1            0            0            0            0       112804   \n",
            "2           32           62          195           48        89009   \n",
            "3          195          197            0            0         2133   \n",
            "4          197          195            0            0         2147   \n",
            "\n",
            "                                   formatted_address  \n",
            "0         Guaminí 2123, ESO, Buenos Aires, Argentina  \n",
            "1        Carlos Calvo 3701, C1230ABM CABA, Argentina  \n",
            "2  Avenida Federico Lacroze 2870, Buenos Aires, A...  \n",
            "3  Fragata Presidente Sarmiento 1259, Buenos Aire...  \n",
            "4         Carlos Calvo 1865, Buenos Aires, Argentina  \n",
            "\n",
            "[5 rows x 70 columns]\n"
          ]
        }
      ]
    },
    {
      "cell_type": "code",
      "source": [
        "# Crear una nueva columna booleana que vale 1 si 'Av' está en 'formatted_address', de lo contrario 0\n",
        "df_tiendas['en_avenida'] = df_tiendas['formatted_address'].apply(lambda x: 1 if 'Av' in str(x) else 0)"
      ],
      "metadata": {
        "colab": {
          "base_uri": "https://localhost:8080/"
        },
        "id": "b-hWMk8QIw73",
        "outputId": "6ec21d2c-8c30-4768-814c-7ef68832733b"
      },
      "execution_count": null,
      "outputs": [
        {
          "output_type": "stream",
          "name": "stdout",
          "text": [
            "                                                  id        lat        lon  \\\n",
            "0  bytearray(b'-\\x07\\xc3\\xa0g\\xf1\\x11\\xec\\x96\\xe9... -34.661240 -58.511409   \n",
            "1  bytearray(b'-\\x895Rg\\xf3\\x11\\xec\\x96\\xe9\\x06\\x... -34.624407 -58.417899   \n",
            "2  bytearray(b'-\\x91<xg\\xf3\\x11\\xec\\x96\\xe9\\x06\\x... -34.574641 -58.447234   \n",
            "3  bytearray(b'-\\xd0\\x8fag\\xf1\\x11\\xec\\x96\\xe9\\x0... -34.610076 -58.455903   \n",
            "4  bytearray(b'-\\xe7S\\xbfg\\xf1\\x11\\xec\\x96\\xe9\\x0... -34.620644 -58.395803   \n",
            "\n",
            "                                        geometry  estaciones_servicio_200mts  \\\n",
            "0                POINT (-58.5114089 -34.6612403)                           0   \n",
            "1                POINT (-58.4178986 -34.6244068)                           0   \n",
            "2                POINT (-58.4472338 -34.5746414)                           0   \n",
            "3         POINT (-58.45590249999999 -34.6100759)                           0   \n",
            "4  POINT (-58.39580319999999 -34.62064399999999)                           0   \n",
            "\n",
            "   estaciones_servicio_1000mts  subtes_200mts  subtes_1000mts  id_rc  \\\n",
            "0                            3              0               0   3460   \n",
            "1                            2              0               2   2556   \n",
            "2                            1              0               1   1158   \n",
            "3                            5              0               0   2814   \n",
            "4                            5              0               4   2099   \n",
            "\n",
            "   porc_nbi  ...       producto_4     producto_5  categoria_1  categoria_2  \\\n",
            "0  0.138810  ...                0              0          194          197   \n",
            "1  0.007092  ...  366277935829245              0          194            0   \n",
            "2  0.085714  ...    7794450090492  7795735000335           54           32   \n",
            "3  0.038147  ...    7795232000524  7792798002399          194          195   \n",
            "4  0.048780  ...    7791843008294              0            5          197   \n",
            "\n",
            "   categoria_3  categoria_4  categoria_5  customer_id  \\\n",
            "0            0            0            0         2013   \n",
            "1            0            0            0       112804   \n",
            "2           62          195           48        89009   \n",
            "3          197            0            0         2133   \n",
            "4          195            0            0         2147   \n",
            "\n",
            "                                   formatted_address  en_avenida  \n",
            "0         Guaminí 2123, ESO, Buenos Aires, Argentina           0  \n",
            "1        Carlos Calvo 3701, C1230ABM CABA, Argentina           0  \n",
            "2  Avenida Federico Lacroze 2870, Buenos Aires, A...           1  \n",
            "3  Fragata Presidente Sarmiento 1259, Buenos Aire...           0  \n",
            "4         Carlos Calvo 1865, Buenos Aires, Argentina           0  \n",
            "\n",
            "[5 rows x 71 columns]\n"
          ]
        }
      ]
    },
    {
      "cell_type": "code",
      "source": [
        "df_tiendas.drop(columns=['id'], inplace=True)"
      ],
      "metadata": {
        "id": "0EvQIXncJP9k"
      },
      "execution_count": null,
      "outputs": []
    },
    {
      "cell_type": "code",
      "source": [
        "import pandas as pd\n",
        "\n",
        "# Reordenar las columnas\n",
        "column_order = ['customer_id'] + [col for col in df_tiendas.columns if col != 'customer_id']\n",
        "df_reordered = df_tiendas[column_order]\n",
        "\n",
        "# Guardar el DataFrame reordenado en un archivo CSV\n",
        "df_reordered.to_csv('df_tiendas_reordenado.csv', index=False)\n",
        "\n",
        "# Verificar las primeras filas del DataFrame reordenado\n",
        "print(df_reordered.head())"
      ],
      "metadata": {
        "colab": {
          "base_uri": "https://localhost:8080/"
        },
        "id": "pEXfqyBwKGk1",
        "outputId": "0fe7dc5a-3a9d-4888-c8fa-0b7431f43afe"
      },
      "execution_count": null,
      "outputs": [
        {
          "output_type": "stream",
          "name": "stdout",
          "text": [
            "   customer_id        lat        lon  \\\n",
            "0         2013 -34.661240 -58.511409   \n",
            "1       112804 -34.624407 -58.417899   \n",
            "2        89009 -34.574641 -58.447234   \n",
            "3         2133 -34.610076 -58.455903   \n",
            "4         2147 -34.620644 -58.395803   \n",
            "\n",
            "                                        geometry  estaciones_servicio_200mts  \\\n",
            "0                POINT (-58.5114089 -34.6612403)                           0   \n",
            "1                POINT (-58.4178986 -34.6244068)                           0   \n",
            "2                POINT (-58.4472338 -34.5746414)                           0   \n",
            "3         POINT (-58.45590249999999 -34.6100759)                           0   \n",
            "4  POINT (-58.39580319999999 -34.62064399999999)                           0   \n",
            "\n",
            "   estaciones_servicio_1000mts  subtes_200mts  subtes_1000mts  id_rc  \\\n",
            "0                            3              0               0   3460   \n",
            "1                            2              0               2   2556   \n",
            "2                            1              0               1   1158   \n",
            "3                            5              0               0   2814   \n",
            "4                            5              0               4   2099   \n",
            "\n",
            "   porc_nbi  ...     producto_2     producto_3       producto_4  \\\n",
            "0  0.138810  ...  7792798005888  7790290001193                0   \n",
            "1  0.007092  ...  7792798005888  7793147118822  366277935829245   \n",
            "2  0.085714  ...  7792540260138  7793360005084    7794450090492   \n",
            "3  0.038147  ...  7792798001927  7792798001965    7795232000524   \n",
            "4  0.048780  ...  7790895000218  7790895067617    7791843008294   \n",
            "\n",
            "      producto_5  categoria_1  categoria_2  categoria_3  categoria_4  \\\n",
            "0              0          194          197            0            0   \n",
            "1              0          194            0            0            0   \n",
            "2  7795735000335           54           32           62          195   \n",
            "3  7792798002399          194          195          197            0   \n",
            "4              0            5          197          195            0   \n",
            "\n",
            "   categoria_5  en_avenida  \n",
            "0            0           0  \n",
            "1            0           0  \n",
            "2           48           1  \n",
            "3            0           0  \n",
            "4            0           0  \n",
            "\n",
            "[5 rows x 69 columns]\n"
          ]
        }
      ]
    },
    {
      "cell_type": "code",
      "source": [
        "# Renombrar la columna 'customer_id' a 'id'\n",
        "df_reordered = df_reordered.rename(columns={'customer_id': 'id'})\n",
        "\n",
        "# Guardar el DataFrame modificado en un archivo CSV\n",
        "df_reordered.to_csv('tiendas_caba_v4.csv', index=False)"
      ],
      "metadata": {
        "colab": {
          "base_uri": "https://localhost:8080/"
        },
        "id": "QZyMBF7VKjqt",
        "outputId": "891cce1d-ebf2-40fd-b2b6-8a142105fd95"
      },
      "execution_count": null,
      "outputs": [
        {
          "output_type": "stream",
          "name": "stdout",
          "text": [
            "       id        lat        lon  \\\n",
            "0    2013 -34.661240 -58.511409   \n",
            "1  112804 -34.624407 -58.417899   \n",
            "2   89009 -34.574641 -58.447234   \n",
            "3    2133 -34.610076 -58.455903   \n",
            "4    2147 -34.620644 -58.395803   \n",
            "\n",
            "                                        geometry  estaciones_servicio_200mts  \\\n",
            "0                POINT (-58.5114089 -34.6612403)                           0   \n",
            "1                POINT (-58.4178986 -34.6244068)                           0   \n",
            "2                POINT (-58.4472338 -34.5746414)                           0   \n",
            "3         POINT (-58.45590249999999 -34.6100759)                           0   \n",
            "4  POINT (-58.39580319999999 -34.62064399999999)                           0   \n",
            "\n",
            "   estaciones_servicio_1000mts  subtes_200mts  subtes_1000mts  id_rc  \\\n",
            "0                            3              0               0   3460   \n",
            "1                            2              0               2   2556   \n",
            "2                            1              0               1   1158   \n",
            "3                            5              0               0   2814   \n",
            "4                            5              0               4   2099   \n",
            "\n",
            "   porc_nbi  ...     producto_2     producto_3       producto_4  \\\n",
            "0  0.138810  ...  7792798005888  7790290001193                0   \n",
            "1  0.007092  ...  7792798005888  7793147118822  366277935829245   \n",
            "2  0.085714  ...  7792540260138  7793360005084    7794450090492   \n",
            "3  0.038147  ...  7792798001927  7792798001965    7795232000524   \n",
            "4  0.048780  ...  7790895000218  7790895067617    7791843008294   \n",
            "\n",
            "      producto_5  categoria_1  categoria_2  categoria_3  categoria_4  \\\n",
            "0              0          194          197            0            0   \n",
            "1              0          194            0            0            0   \n",
            "2  7795735000335           54           32           62          195   \n",
            "3  7792798002399          194          195          197            0   \n",
            "4              0            5          197          195            0   \n",
            "\n",
            "   categoria_5  en_avenida  \n",
            "0            0           0  \n",
            "1            0           0  \n",
            "2           48           1  \n",
            "3            0           0  \n",
            "4            0           0  \n",
            "\n",
            "[5 rows x 69 columns]\n"
          ]
        }
      ]
    }
  ]
}