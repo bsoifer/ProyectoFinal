{
  "nbformat": 4,
  "nbformat_minor": 0,
  "metadata": {
    "colab": {
      "provenance": []
    },
    "kernelspec": {
      "name": "python3",
      "display_name": "Python 3"
    },
    "language_info": {
      "name": "python"
    }
  },
  "cells": [
    {
      "cell_type": "code",
      "execution_count": null,
      "metadata": {
        "colab": {
          "base_uri": "https://localhost:8080/"
        },
        "id": "6zjmwBzydHT6",
        "outputId": "7de5539b-3911-4603-a27a-43d4df4e7f5b"
      },
      "outputs": [
        {
          "output_type": "stream",
          "name": "stdout",
          "text": [
            "Mounted at /content/drive\n"
          ]
        },
        {
          "output_type": "stream",
          "name": "stderr",
          "text": [
            "<ipython-input-2-46a1a4f85d36>:7: DtypeWarning: Columns (12,32) have mixed types. Specify dtype option on import or set low_memory=False.\n",
            "  df_tiendas = pd.read_csv('/content/drive/MyDrive/orders.csv')\n"
          ]
        }
      ],
      "source": [
        "from google.colab import drive\n",
        "import pandas as pd\n",
        "\n",
        "drive.mount('/content/drive')\n",
        "\n",
        "# Leer csv\n",
        "df_tiendas = pd.read_csv('/content/drive/MyDrive/orders.csv')"
      ]
    },
    {
      "cell_type": "code",
      "source": [
        "df_tiendas.columns"
      ],
      "metadata": {
        "colab": {
          "base_uri": "https://localhost:8080/"
        },
        "id": "5hKMfXoxdoaS",
        "outputId": "a22137b4-faef-4b0d-af5c-ecbc68fab8df"
      },
      "execution_count": null,
      "outputs": [
        {
          "output_type": "execute_result",
          "data": {
            "text/plain": [
              "Index(['Unnamed: 0', 'id', 'supplier_order_id', 'order_id', 'ship_at',\n",
              "       'shipped_at', 'supplier_id', 'customer_id', 'canceler',\n",
              "       'supplier_reason', 'supplier_comment', 'customer_reason',\n",
              "       'customer_comment', 'total', 'discount_amount', 'created_at',\n",
              "       'confirmed_at', 'canceled_at', 'updated_at', 'credits_paid',\n",
              "       'money_paid', 'service_fee', 'discount_id', 'delivery_lat',\n",
              "       'delivery_lon', 'delivery_cost', 'final_amount', 'formatted_address',\n",
              "       'customer_type_code', 'additional_info', 'promotions_amount',\n",
              "       'state_id', 'postal_code'],\n",
              "      dtype='object')"
            ]
          },
          "metadata": {},
          "execution_count": 41
        }
      ]
    },
    {
      "cell_type": "markdown",
      "source": [
        "# **FINAL AMOUNT**"
      ],
      "metadata": {
        "id": "Ws8DpEbm7Sxk"
      }
    },
    {
      "cell_type": "code",
      "source": [
        "fechas = pd.date_range(start='2021-01-01', end='2024-09-01', freq='M')\n",
        "print(len(fechas))"
      ],
      "metadata": {
        "colab": {
          "base_uri": "https://localhost:8080/"
        },
        "id": "CzfD4H5rUWSr",
        "outputId": "48a58819-460a-4294-c89b-0f49c16b1ba4"
      },
      "execution_count": null,
      "outputs": [
        {
          "output_type": "stream",
          "name": "stdout",
          "text": [
            "44\n"
          ]
        }
      ]
    },
    {
      "cell_type": "code",
      "source": [
        "variaciones = [\n",
        "    4, 3.6, 4.8, 4.1, 3.3, 3.2, 3, 2.5, 3.5, 3.5, 2.5, 3.8,  # 2021\n",
        "    3.9, 4.7, 6.7, 6, 5.1, 5.3, 7.4, 7, 6.2, 6.3, 4.9, 5.1,  # 2022\n",
        "    6, 6.6, 7.7, 8.4, 7.8, 6, 6.3, 12.4, 12.7, 8.3, 12.8, 25.5,  # 2023\n",
        "    20.6, 13.2, 11, 8.8, 4.2, 4.6, 4, 4.2  # 2024 (hasta agosto)\n",
        "]\n",
        "print(len(variaciones))"
      ],
      "metadata": {
        "colab": {
          "base_uri": "https://localhost:8080/"
        },
        "id": "ZhInbzlaUbT4",
        "outputId": "028b0013-1e8d-4b7d-c980-8e01163d3487"
      },
      "execution_count": null,
      "outputs": [
        {
          "output_type": "stream",
          "name": "stdout",
          "text": [
            "44\n"
          ]
        }
      ]
    },
    {
      "cell_type": "code",
      "source": [
        "# Ajuste por inflación con la variación del IPC\n",
        "ipc = pd.DataFrame({\n",
        "    'fecha': fechas,\n",
        "    'variacion': variaciones\n",
        "})"
      ],
      "metadata": {
        "id": "6P-hLXhRWvgn"
      },
      "execution_count": null,
      "outputs": []
    },
    {
      "cell_type": "code",
      "source": [
        "ipc['fecha'].max()"
      ],
      "metadata": {
        "colab": {
          "base_uri": "https://localhost:8080/"
        },
        "id": "bA_4qIaMWgp8",
        "outputId": "d4221755-e9e9-4253-d62f-6d36f06eabb2"
      },
      "execution_count": null,
      "outputs": [
        {
          "output_type": "execute_result",
          "data": {
            "text/plain": [
              "Timestamp('2024-08-31 00:00:00')"
            ]
          },
          "metadata": {},
          "execution_count": 26
        }
      ]
    },
    {
      "cell_type": "code",
      "source": [
        "import pandas as pd\n",
        "import numpy as np\n",
        "import matplotlib.pyplot as plt\n",
        "\n",
        "# Cargar los datos\n",
        "items = pd.read_csv(\"/content/drive/MyDrive/items.csv\")\n",
        "orders = pd.read_csv(\"/content/drive/MyDrive/orders.csv\")\n",
        "customers = pd.read_csv(\"/content/drive/MyDrive/customers.csv\")\n",
        "\n",
        "# Total de monto de pedido por cada customer\n",
        "pedidos = orders[['customer_id', 'total', 'created_at']].copy()\n",
        "\n",
        "ipc['variacion'] /= 100\n",
        "ipc['indice'] = (1 + ipc['variacion']).cumprod()\n",
        "\n",
        "indice_final = ipc.loc[ipc['fecha'] == '2024-08-01', 'indice'].values[0]\n",
        "\n",
        "pedidos['created_at'] = pd.to_datetime(pedidos['created_at'])\n",
        "pedidos['mes_inicio'] = pedidos['created_at'].dt.to_period('M').dt.to_timestamp()\n",
        "\n",
        "pedidos = pedidos.merge(ipc, left_on='mes_inicio', right_on='fecha')\n",
        "pedidos['adjusted_total'] = pedidos['total'] * (indice_final / pedidos['indice'])\n",
        "\n",
        "# Graficar\n",
        "pedidos_grouped = pedidos.groupby('customer_id').agg(promedio_por_pedido=('adjusted_total', 'mean')).reset_index()\n",
        "plt.figure(figsize=(10, 6))\n",
        "plt.boxplot(pedidos_grouped['promedio_por_pedido'])\n",
        "plt.title(\"Monto promedio de pedido por tienda\")\n",
        "plt.ylabel(\"Promedio por Pedido\")\n",
        "\n",
        "# Eliminando el outlier\n",
        "pedidos_grouped = pedidos_grouped[pedidos_grouped['promedio_por_pedido'] < 3000000]\n",
        "plt.figure(figsize=(10, 6))\n",
        "plt.boxplot(pedidos_grouped['promedio_por_pedido'])\n",
        "plt.title(\"Monto promedio de pedido por tienda\")\n",
        "plt.ylabel(\"Promedio por Pedido\")\n",
        "\n",
        "# Añadir líneas para Q1, Mediana, Q3\n",
        "q1 = np.percentile(pedidos_grouped['promedio_por_pedido'], 25)\n",
        "mediana = np.median(pedidos_grouped['promedio_por_pedido'])\n",
        "q3 = np.percentile(pedidos_grouped['promedio_por_pedido'], 75)\n",
        "iqr = q3 - q1\n",
        "\n",
        "plt.axhline(y=q1, color='red', linestyle='--', label=f'Q1: {q1:.2f}')\n",
        "plt.axhline(y=mediana, color='blue', linestyle='--', label=f'Mediana: {mediana:.2f}')\n",
        "plt.axhline(y=q3, color='green', linestyle='--', label=f'Q3: {q3:.2f}')\n",
        "plt.legend()\n",
        "\n",
        "plt.show()\n",
        "\n",
        "print(f\"Q1: {q1:.2f}\")\n",
        "print(f\"Mediana: {mediana:.2f}\")\n",
        "print(f\"Q3: {q3:.2f}\")\n",
        "print(f\"IQR: {iqr:.2f}\")"
      ],
      "metadata": {
        "colab": {
          "base_uri": "https://localhost:8080/",
          "height": 245
        },
        "id": "QA7qyJWcTHzj",
        "outputId": "cfba3c61-846b-449a-e68f-21fdb44751c4"
      },
      "execution_count": null,
      "outputs": [
        {
          "output_type": "stream",
          "name": "stderr",
          "text": [
            "<ipython-input-22-530ca0ae0079>:7: DtypeWarning: Columns (12,32) have mixed types. Specify dtype option on import or set low_memory=False.\n",
            "  orders = pd.read_csv(\"/content/drive/MyDrive/orders.csv\")\n"
          ]
        },
        {
          "output_type": "error",
          "ename": "IndexError",
          "evalue": "index 0 is out of bounds for axis 0 with size 0",
          "traceback": [
            "\u001b[0;31m---------------------------------------------------------------------------\u001b[0m",
            "\u001b[0;31mIndexError\u001b[0m                                Traceback (most recent call last)",
            "\u001b[0;32m<ipython-input-22-530ca0ae0079>\u001b[0m in \u001b[0;36m<cell line: 22>\u001b[0;34m()\u001b[0m\n\u001b[1;32m     20\u001b[0m \u001b[0mipc\u001b[0m\u001b[0;34m[\u001b[0m\u001b[0;34m'indice'\u001b[0m\u001b[0;34m]\u001b[0m \u001b[0;34m=\u001b[0m \u001b[0;34m(\u001b[0m\u001b[0;36m1\u001b[0m \u001b[0;34m+\u001b[0m \u001b[0mipc\u001b[0m\u001b[0;34m[\u001b[0m\u001b[0;34m'variacion'\u001b[0m\u001b[0;34m]\u001b[0m\u001b[0;34m)\u001b[0m\u001b[0;34m.\u001b[0m\u001b[0mcumprod\u001b[0m\u001b[0;34m(\u001b[0m\u001b[0;34m)\u001b[0m\u001b[0;34m\u001b[0m\u001b[0;34m\u001b[0m\u001b[0m\n\u001b[1;32m     21\u001b[0m \u001b[0;34m\u001b[0m\u001b[0m\n\u001b[0;32m---> 22\u001b[0;31m \u001b[0mindice_final\u001b[0m \u001b[0;34m=\u001b[0m \u001b[0mipc\u001b[0m\u001b[0;34m.\u001b[0m\u001b[0mloc\u001b[0m\u001b[0;34m[\u001b[0m\u001b[0mipc\u001b[0m\u001b[0;34m[\u001b[0m\u001b[0;34m'fecha'\u001b[0m\u001b[0;34m]\u001b[0m \u001b[0;34m==\u001b[0m \u001b[0;34m'2024-08-01'\u001b[0m\u001b[0;34m,\u001b[0m \u001b[0;34m'indice'\u001b[0m\u001b[0;34m]\u001b[0m\u001b[0;34m.\u001b[0m\u001b[0mvalues\u001b[0m\u001b[0;34m[\u001b[0m\u001b[0;36m0\u001b[0m\u001b[0;34m]\u001b[0m\u001b[0;34m\u001b[0m\u001b[0;34m\u001b[0m\u001b[0m\n\u001b[0m\u001b[1;32m     23\u001b[0m \u001b[0;34m\u001b[0m\u001b[0m\n\u001b[1;32m     24\u001b[0m \u001b[0mpedidos\u001b[0m\u001b[0;34m[\u001b[0m\u001b[0;34m'created_at'\u001b[0m\u001b[0;34m]\u001b[0m \u001b[0;34m=\u001b[0m \u001b[0mpd\u001b[0m\u001b[0;34m.\u001b[0m\u001b[0mto_datetime\u001b[0m\u001b[0;34m(\u001b[0m\u001b[0mpedidos\u001b[0m\u001b[0;34m[\u001b[0m\u001b[0;34m'created_at'\u001b[0m\u001b[0;34m]\u001b[0m\u001b[0;34m)\u001b[0m\u001b[0;34m\u001b[0m\u001b[0;34m\u001b[0m\u001b[0m\n",
            "\u001b[0;31mIndexError\u001b[0m: index 0 is out of bounds for axis 0 with size 0"
          ]
        }
      ]
    },
    {
      "cell_type": "markdown",
      "source": [
        "# **CANTIDAD DE ÓRDENES**"
      ],
      "metadata": {
        "id": "x5JCPidXehwk"
      }
    },
    {
      "cell_type": "code",
      "source": [
        "# Calcular la cantidad de órdenes totales por customer_id\n",
        "ordenes_por_customer = df_tiendas.groupby('customer_id').size().reset_index(name='cantidad_ordenes')\n",
        "\n",
        "# Combinar la nueva información con el DataFrame original\n",
        "df_tiendas = df_tiendas.merge(ordenes_por_customer, on='customer_id', how='left')"
      ],
      "metadata": {
        "id": "A3EaCK3regco"
      },
      "execution_count": null,
      "outputs": []
    },
    {
      "cell_type": "markdown",
      "source": [
        "# **CANTIDAD DE SUPPLIERS**"
      ],
      "metadata": {
        "id": "nHZioK9le6LJ"
      }
    },
    {
      "cell_type": "code",
      "source": [
        "# Calcular la cantidad de proveedores únicos por customer_id\n",
        "proveedores_por_customer = df_tiendas.groupby('customer_id')['supplier_id'].nunique().reset_index(name='cantidad_proveedores')\n",
        "\n",
        "# Combinar la nueva información con el DataFrame original\n",
        "df_tiendas = df_tiendas.merge(proveedores_por_customer, on='customer_id', how='left')"
      ],
      "metadata": {
        "id": "eIrkT_3Ve-lJ"
      },
      "execution_count": null,
      "outputs": []
    },
    {
      "cell_type": "markdown",
      "source": [
        "# **% DE PEDIDOS HECHOS AL SUPPLIER QUE MÁS LE PIDIÓ**"
      ],
      "metadata": {
        "id": "UvfTw_ZyfVV1"
      }
    },
    {
      "cell_type": "code",
      "source": [
        "# 1. Calcular la cantidad de pedidos por supplier_id para cada customer_id\n",
        "pedidos_por_supplier = df_tiendas.groupby(['customer_id', 'supplier_id']).size().reset_index(name='cantidad_pedidos')\n",
        "\n",
        "# 2. Encontrar el supplier con la mayor cantidad de pedidos por cada customer_id\n",
        "max_pedidos_por_customer = pedidos_por_supplier.groupby('customer_id')['cantidad_pedidos'].max().reset_index(name='max_pedidos')\n",
        "\n",
        "# 3. Calcular el total de pedidos por customer_id\n",
        "total_pedidos_por_customer = df_tiendas.groupby('customer_id').size().reset_index(name='total_pedidos')\n",
        "\n",
        "# 4. Unir max_pedidos_por_customer y total_pedidos_por_customer\n",
        "max_pedidos_por_customer = max_pedidos_por_customer.merge(total_pedidos_por_customer, on='customer_id')\n",
        "\n",
        "# 5. Calcular el porcentaje que representa el supplier con más pedidos para cada customer_id\n",
        "max_pedidos_por_customer['porcentaje_max_supplier'] = (max_pedidos_por_customer['max_pedidos'] / max_pedidos_por_customer['total_pedidos']) * 100\n",
        "\n",
        "# 6. Unir esta información al DataFrame original\n",
        "df_tiendas = df_tiendas.merge(max_pedidos_por_customer[['customer_id', 'porcentaje_max_supplier']], on='customer_id', how='left')\n",
        "\n",
        "# Ver las primeras filas del DataFrame actualizado\n",
        "print(df_tiendas.head())"
      ],
      "metadata": {
        "colab": {
          "base_uri": "https://localhost:8080/"
        },
        "id": "GpS9vg75fo_p",
        "outputId": "7b5db724-5537-44dd-fd16-348747754916"
      },
      "execution_count": null,
      "outputs": [
        {
          "output_type": "stream",
          "name": "stdout",
          "text": [
            "   Unnamed: 0                                                 id  \\\n",
            "0          17  bytearray(b'\\x00\\x00w\\x17\\xae<@\\xb4\\x87-\\x98\\x...   \n",
            "1          24  bytearray(b'\\x00\\x00\\xb2\\x8cP\\x03D5\\x85\\xd0\\x1...   \n",
            "2          63  bytearray(b'\\x00\\x01\\xaaN\\xed\\x19O<\\x8d\\xbfwT\\...   \n",
            "3         101  bytearray(b'\\x00\\x02\\x97\\xde\\xd0\\x99NP\\x9dG\\xd...   \n",
            "4         153  bytearray(b'\\x00\\x04-\\x18w\\x0fE\\xae\\xa2\\xbd3\\x...   \n",
            "\n",
            "   supplier_order_id  order_id     ship_at           shipped_at  supplier_id  \\\n",
            "0            2871968   2667640         NaN                  NaN         1403   \n",
            "1             860931    793088  2022-01-31  2022-01-31 17:07:16            3   \n",
            "2            1053490    967693  2022-03-09  2022-03-09 11:22:46            3   \n",
            "3             608609    561574  2021-12-13  2021-12-13 20:26:10          408   \n",
            "4            1768817   1630869  2022-06-29  2022-06-29 20:35:39          448   \n",
            "\n",
            "   customer_id canceler supplier_reason  ... final_amount  \\\n",
            "0        26429      NaN             NaN  ...          NaN   \n",
            "1        33446      NaN             NaN  ...     15392.77   \n",
            "2        22941      NaN             NaN  ...     27852.77   \n",
            "3        66442      NaN             NaN  ...     23736.59   \n",
            "4       135421      NaN             NaN  ...     16707.78   \n",
            "\n",
            "                                   formatted_address  \\\n",
            "0  Av. Sir Alexander Fleming 1563, Martínez, Prov...   \n",
            "1  Avenida Presidente Perón 2842, Victoria, Provi...   \n",
            "2        Lavalleja 225, DTE, Buenos Aires, Argentina   \n",
            "3  San Martín 357, Ciudadela, Provincia de Buenos...   \n",
            "4           Arribeños 2320, C1428APF CABA, Argentina   \n",
            "\n",
            "                     customer_type_code  additional_info  promotions_amount  \\\n",
            "0  d04c84ed-cf82-11eb-af79-639deab00004              NaN                0.0   \n",
            "1  d04c84ed-cf82-11eb-af79-639deab00001              NaN                NaN   \n",
            "2  d04c84ed-cf82-11eb-af79-639deab00001        mercadito                NaN   \n",
            "3  d04c84ed-cf82-11eb-af79-639deab00001              NaN                NaN   \n",
            "4  d04c84ed-cf82-11eb-af79-639deab00001              NaN                0.0   \n",
            "\n",
            "  state_id postal_code cantidad_ordenes cantidad_proveedores  \\\n",
            "0     AR-B         NaN              210                   26   \n",
            "1     AR-B         NaN               42                   12   \n",
            "2     AR-C         NaN              119                   23   \n",
            "3     AR-B         NaN               39                    8   \n",
            "4     AR-C         NaN                6                    4   \n",
            "\n",
            "   porcentaje_max_supplier  \n",
            "0                20.952381  \n",
            "1                19.047619  \n",
            "2                19.327731  \n",
            "3                46.153846  \n",
            "4                33.333333  \n",
            "\n",
            "[5 rows x 36 columns]\n"
          ]
        }
      ]
    },
    {
      "cell_type": "markdown",
      "source": [
        "# **PROMEDIO MENSUAL DE ÓRDENES**"
      ],
      "metadata": {
        "id": "z1t9iv30gYNJ"
      }
    },
    {
      "cell_type": "code",
      "source": [
        "# 1. Asegurarse de que la columna de fechas esté en formato datetime\n",
        "df_tiendas['created_at'] = pd.to_datetime(df_tiendas['created_at'])\n",
        "\n",
        "# 2. Extraer el año y mes de la columna 'created_at'\n",
        "df_tiendas['year_month'] = df_tiendas['created_at'].dt.to_period('M')\n",
        "\n",
        "# 3. Contar la cantidad de órdenes por customer_id y por mes\n",
        "ordenes_por_mes = df_tiendas.groupby(['customer_id', 'year_month']).size().reset_index(name='cantidad_ordenes_mes')\n",
        "\n",
        "# 4. Calcular el promedio de órdenes por mes para cada customer_id\n",
        "promedio_ordenes_por_mes = ordenes_por_mes.groupby('customer_id')['cantidad_ordenes_mes'].mean().reset_index(name='promedio_ordenes_mes')\n",
        "\n",
        "# 5. Unir esta información al DataFrame original\n",
        "df_tiendas = df_tiendas.merge(promedio_ordenes_por_mes, on='customer_id', how='left')\n",
        "\n",
        "# Ver las primeras filas del DataFrame actualizado\n",
        "print(df_tiendas.head())"
      ],
      "metadata": {
        "colab": {
          "base_uri": "https://localhost:8080/"
        },
        "id": "FKDaRTG_gZ0v",
        "outputId": "849c2bc7-2871-4542-f4af-0e81cf3ce032"
      },
      "execution_count": null,
      "outputs": [
        {
          "output_type": "stream",
          "name": "stdout",
          "text": [
            "   Unnamed: 0                                                 id  \\\n",
            "0          17  bytearray(b'\\x00\\x00w\\x17\\xae<@\\xb4\\x87-\\x98\\x...   \n",
            "1          24  bytearray(b'\\x00\\x00\\xb2\\x8cP\\x03D5\\x85\\xd0\\x1...   \n",
            "2          63  bytearray(b'\\x00\\x01\\xaaN\\xed\\x19O<\\x8d\\xbfwT\\...   \n",
            "3         101  bytearray(b'\\x00\\x02\\x97\\xde\\xd0\\x99NP\\x9dG\\xd...   \n",
            "4         153  bytearray(b'\\x00\\x04-\\x18w\\x0fE\\xae\\xa2\\xbd3\\x...   \n",
            "\n",
            "   supplier_order_id  order_id     ship_at           shipped_at  supplier_id  \\\n",
            "0            2871968   2667640         NaN                  NaN         1403   \n",
            "1             860931    793088  2022-01-31  2022-01-31 17:07:16            3   \n",
            "2            1053490    967693  2022-03-09  2022-03-09 11:22:46            3   \n",
            "3             608609    561574  2021-12-13  2021-12-13 20:26:10          408   \n",
            "4            1768817   1630869  2022-06-29  2022-06-29 20:35:39          448   \n",
            "\n",
            "   customer_id canceler supplier_reason  ...  \\\n",
            "0        26429      NaN             NaN  ...   \n",
            "1        33446      NaN             NaN  ...   \n",
            "2        22941      NaN             NaN  ...   \n",
            "3        66442      NaN             NaN  ...   \n",
            "4       135421      NaN             NaN  ...   \n",
            "\n",
            "                     customer_type_code additional_info promotions_amount  \\\n",
            "0  d04c84ed-cf82-11eb-af79-639deab00004             NaN               0.0   \n",
            "1  d04c84ed-cf82-11eb-af79-639deab00001             NaN               NaN   \n",
            "2  d04c84ed-cf82-11eb-af79-639deab00001       mercadito               NaN   \n",
            "3  d04c84ed-cf82-11eb-af79-639deab00001             NaN               NaN   \n",
            "4  d04c84ed-cf82-11eb-af79-639deab00001             NaN               0.0   \n",
            "\n",
            "   state_id  postal_code cantidad_ordenes cantidad_proveedores  \\\n",
            "0      AR-B          NaN              210                   26   \n",
            "1      AR-B          NaN               42                   12   \n",
            "2      AR-C          NaN              119                   23   \n",
            "3      AR-B          NaN               39                    8   \n",
            "4      AR-C          NaN                6                    4   \n",
            "\n",
            "  porcentaje_max_supplier year_month  promedio_ordenes_mes  \n",
            "0               20.952381    2022-12             16.153846  \n",
            "1               19.047619    2022-01              3.230769  \n",
            "2               19.327731    2022-03              7.933333  \n",
            "3               46.153846    2021-12              4.875000  \n",
            "4               33.333333    2022-06              2.000000  \n",
            "\n",
            "[5 rows x 38 columns]\n"
          ]
        }
      ]
    },
    {
      "cell_type": "markdown",
      "source": [
        "# **% DESCUENTO TOTAL**"
      ],
      "metadata": {
        "id": "NKzuPPnOg1lG"
      }
    },
    {
      "cell_type": "code",
      "source": [
        "# Agrupar por 'customer_id' y sumar los 'total' y 'discount_amount'\n",
        "df_descuento_por_cliente = df_tiendas.groupby('customer_id').agg({\n",
        "    'total': 'sum',\n",
        "    'discount_amount': 'sum'\n",
        "}).reset_index()\n",
        "\n",
        "# Calcular el porcentaje total de descuento para cada 'customer_id'\n",
        "df_descuento_por_cliente['porcentaje_descuento_total'] = (df_descuento_por_cliente['discount_amount'] / df_descuento_por_cliente['total']) * 100\n",
        "\n",
        "# Unir este DataFrame con el DataFrame original usando 'customer_id'\n",
        "df_tiendas = pd.merge(df_tiendas, df_descuento_por_cliente[['customer_id', 'porcentaje_descuento_total']], on='customer_id', how='left')"
      ],
      "metadata": {
        "id": "uneRGBQLgb0a"
      },
      "execution_count": null,
      "outputs": []
    },
    {
      "cell_type": "markdown",
      "source": [
        "# **% DE ORDENES CON DESCUENTO**"
      ],
      "metadata": {
        "id": "8t9O4lCbhLyG"
      }
    },
    {
      "cell_type": "code",
      "source": [
        "# Crear una columna booleana que indique si hubo descuento en la orden\n",
        "df_tiendas['tuvo_descuento'] = df_tiendas['discount_amount'] > 0\n",
        "\n",
        "# Agrupar por 'customer_id' y calcular la cantidad de órdenes con descuento y el total de órdenes\n",
        "df_descuento_ordenes = df_tiendas.groupby('customer_id').agg({\n",
        "    'tuvo_descuento': 'sum',  # Número de órdenes con descuento\n",
        "    'order_id': 'count'       # Total de órdenes\n",
        "}).reset_index()\n",
        "\n",
        "# Calcular la proporción de órdenes con descuento\n",
        "df_descuento_ordenes['proporcion_ordenes_descuentos'] = df_descuento_ordenes['tuvo_descuento'] / df_descuento_ordenes['order_id']\n",
        "\n",
        "# Unir este DataFrame con el DataFrame original usando 'customer_id'\n",
        "df_tiendas = pd.merge(df_tiendas, df_descuento_ordenes[['customer_id', 'proporcion_ordenes_descuentos']], on='customer_id', how='left')"
      ],
      "metadata": {
        "id": "D_fS_moHhbeV"
      },
      "execution_count": null,
      "outputs": []
    },
    {
      "cell_type": "code",
      "source": [
        "df_tiendas.columns"
      ],
      "metadata": {
        "colab": {
          "base_uri": "https://localhost:8080/"
        },
        "id": "qCmrh9V_hzCr",
        "outputId": "53921c93-e2f4-471f-9c7b-d44b0812d9c7"
      },
      "execution_count": null,
      "outputs": [
        {
          "output_type": "execute_result",
          "data": {
            "text/plain": [
              "Index(['Unnamed: 0', 'id', 'supplier_order_id', 'order_id', 'ship_at',\n",
              "       'shipped_at', 'supplier_id', 'customer_id', 'canceler',\n",
              "       'supplier_reason', 'supplier_comment', 'customer_reason',\n",
              "       'customer_comment', 'total', 'discount_amount', 'created_at',\n",
              "       'confirmed_at', 'canceled_at', 'updated_at', 'credits_paid',\n",
              "       'money_paid', 'service_fee', 'discount_id', 'delivery_lat',\n",
              "       'delivery_lon', 'delivery_cost', 'final_amount', 'formatted_address',\n",
              "       'customer_type_code', 'additional_info', 'promotions_amount',\n",
              "       'state_id', 'postal_code', 'cantidad_proveedores',\n",
              "       'porcentaje_max_supplier', 'year_month', 'promedio_ordenes_mes',\n",
              "       'porcentaje_descuento_total', 'tuvo_descuento',\n",
              "       'proporcion_descuentos'],\n",
              "      dtype='object')"
            ]
          },
          "metadata": {},
          "execution_count": 22
        }
      ]
    },
    {
      "cell_type": "code",
      "source": [
        "# Seleccionar solo las columnas deseadas\n",
        "df_final = df_tiendas[['customer_id', 'cantidad_ordenes','cantidad_proveedores', 'porcentaje_max_supplier',\n",
        "                     'promedio_ordenes_mes', 'porcentaje_descuento_total', 'proporcion_ordenes_descuentos']]"
      ],
      "metadata": {
        "id": "ZdfTnk2Eh1gZ"
      },
      "execution_count": null,
      "outputs": []
    },
    {
      "cell_type": "code",
      "source": [
        "# Eliminar registros duplicados\n",
        "df_final = df_final.drop_duplicates()\n",
        "\n",
        "# Mostrar el DataFrame final sin duplicados\n",
        "print(df_final.head())"
      ],
      "metadata": {
        "colab": {
          "base_uri": "https://localhost:8080/"
        },
        "id": "5oyD3fj9i_tv",
        "outputId": "1fff6260-1a3b-4830-f0a2-6120f6dd6f35"
      },
      "execution_count": null,
      "outputs": [
        {
          "output_type": "stream",
          "name": "stdout",
          "text": [
            "   customer_id  cantidad_ordenes  cantidad_proveedores  \\\n",
            "0        26429               210                    26   \n",
            "1        33446                42                    12   \n",
            "2        22941               119                    23   \n",
            "3        66442                39                     8   \n",
            "4       135421                 6                     4   \n",
            "\n",
            "   porcentaje_max_supplier  promedio_ordenes_mes  porcentaje_descuento_total  \\\n",
            "0                20.952381             16.153846                    5.922541   \n",
            "1                19.047619              3.230769                    5.504166   \n",
            "2                19.327731              7.933333                    7.543701   \n",
            "3                46.153846              4.875000                    4.893332   \n",
            "4                33.333333              2.000000                    3.730313   \n",
            "\n",
            "   proporcion_ordenes_descuentos  \n",
            "0                       0.800000  \n",
            "1                       0.666667  \n",
            "2                       0.966387  \n",
            "3                       0.666667  \n",
            "4                       0.500000  \n"
          ]
        }
      ]
    },
    {
      "cell_type": "code",
      "source": [
        "# Guardar el DataFrame final con solo las columnas seleccionadas y sin duplicados en un archivo CSV\n",
        "df_final.to_csv('tiendas_caba_m2.csv', index=False)"
      ],
      "metadata": {
        "id": "ivk68RPkjEmr"
      },
      "execution_count": null,
      "outputs": []
    },
    {
      "cell_type": "markdown",
      "source": [],
      "metadata": {
        "id": "exqJZnIIiXhW"
      }
    }
  ]
}